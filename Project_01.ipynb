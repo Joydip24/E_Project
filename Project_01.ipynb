{
 "cells": [
  {
   "cell_type": "code",
   "execution_count": 1,
   "metadata": {},
   "outputs": [],
   "source": [
    "# Tried to load data in sql but their was an error we'll try again"
   ]
  },
  {
   "cell_type": "code",
   "execution_count": 2,
   "metadata": {},
   "outputs": [],
   "source": [
    "# Importing important libraries\n",
    "import pandas as pd\n",
    "import numpy as np\n",
    "import seaborn as sns\n",
    "import matplotlib.pyplot as plt\n",
    "import warnings\n",
    "warnings.filterwarnings('ignore')"
   ]
  },
  {
   "cell_type": "markdown",
   "metadata": {},
   "source": [
    "# Loading dataset for EDA"
   ]
  },
  {
   "cell_type": "code",
   "execution_count": 3,
   "metadata": {},
   "outputs": [
    {
     "data": {
      "text/html": [
       "<div>\n",
       "<style scoped>\n",
       "    .dataframe tbody tr th:only-of-type {\n",
       "        vertical-align: middle;\n",
       "    }\n",
       "\n",
       "    .dataframe tbody tr th {\n",
       "        vertical-align: top;\n",
       "    }\n",
       "\n",
       "    .dataframe thead th {\n",
       "        text-align: right;\n",
       "    }\n",
       "</style>\n",
       "<table border=\"1\" class=\"dataframe\">\n",
       "  <thead>\n",
       "    <tr style=\"text-align: right;\">\n",
       "      <th></th>\n",
       "      <th>Unnamed: 0</th>\n",
       "      <th>Gender</th>\n",
       "      <th>DOB</th>\n",
       "      <th>Maths</th>\n",
       "      <th>Physics</th>\n",
       "      <th>Chemistry</th>\n",
       "      <th>English</th>\n",
       "      <th>Biology</th>\n",
       "      <th>Economics</th>\n",
       "      <th>History</th>\n",
       "      <th>Civics</th>\n",
       "    </tr>\n",
       "  </thead>\n",
       "  <tbody>\n",
       "    <tr>\n",
       "      <th>0</th>\n",
       "      <td>John</td>\n",
       "      <td>M</td>\n",
       "      <td>05-04-1988</td>\n",
       "      <td>55</td>\n",
       "      <td>45</td>\n",
       "      <td>56</td>\n",
       "      <td>87</td>\n",
       "      <td>21</td>\n",
       "      <td>52</td>\n",
       "      <td>89</td>\n",
       "      <td>65</td>\n",
       "    </tr>\n",
       "    <tr>\n",
       "      <th>1</th>\n",
       "      <td>Suresh</td>\n",
       "      <td>M</td>\n",
       "      <td>04-05-1987</td>\n",
       "      <td>75</td>\n",
       "      <td>96</td>\n",
       "      <td>78</td>\n",
       "      <td>64</td>\n",
       "      <td>90</td>\n",
       "      <td>61</td>\n",
       "      <td>58</td>\n",
       "      <td>2</td>\n",
       "    </tr>\n",
       "    <tr>\n",
       "      <th>2</th>\n",
       "      <td>Ramesh</td>\n",
       "      <td>M</td>\n",
       "      <td>25-05-1989</td>\n",
       "      <td>25</td>\n",
       "      <td>54</td>\n",
       "      <td>89</td>\n",
       "      <td>76</td>\n",
       "      <td>95</td>\n",
       "      <td>87</td>\n",
       "      <td>56</td>\n",
       "      <td>74</td>\n",
       "    </tr>\n",
       "    <tr>\n",
       "      <th>3</th>\n",
       "      <td>Jessica</td>\n",
       "      <td>F</td>\n",
       "      <td>12-08-1990</td>\n",
       "      <td>78</td>\n",
       "      <td>96</td>\n",
       "      <td>86</td>\n",
       "      <td>63</td>\n",
       "      <td>54</td>\n",
       "      <td>89</td>\n",
       "      <td>75</td>\n",
       "      <td>45</td>\n",
       "    </tr>\n",
       "    <tr>\n",
       "      <th>4</th>\n",
       "      <td>Jennifer</td>\n",
       "      <td>F</td>\n",
       "      <td>02-09-1989</td>\n",
       "      <td>58</td>\n",
       "      <td>96</td>\n",
       "      <td>78</td>\n",
       "      <td>46</td>\n",
       "      <td>96</td>\n",
       "      <td>77</td>\n",
       "      <td>83</td>\n",
       "      <td>53</td>\n",
       "    </tr>\n",
       "  </tbody>\n",
       "</table>\n",
       "</div>"
      ],
      "text/plain": [
       "  Unnamed: 0 Gender         DOB  Maths  Physics  Chemistry  English  Biology  \\\n",
       "0       John      M  05-04-1988     55       45         56       87       21   \n",
       "1     Suresh      M  04-05-1987     75       96         78       64       90   \n",
       "2     Ramesh      M  25-05-1989     25       54         89       76       95   \n",
       "3    Jessica      F  12-08-1990     78       96         86       63       54   \n",
       "4   Jennifer      F  02-09-1989     58       96         78       46       96   \n",
       "\n",
       "   Economics  History  Civics  \n",
       "0         52       89      65  \n",
       "1         61       58       2  \n",
       "2         87       56      74  \n",
       "3         89       75      45  \n",
       "4         77       83      53  "
      ]
     },
     "execution_count": 3,
     "metadata": {},
     "output_type": "execute_result"
    }
   ],
   "source": [
    "studmarks = pd.read_csv('Student_Marks.csv')\n",
    "studmarks.head()"
   ]
  },
  {
   "cell_type": "code",
   "execution_count": 4,
   "metadata": {},
   "outputs": [
    {
     "data": {
      "text/html": [
       "<div>\n",
       "<style scoped>\n",
       "    .dataframe tbody tr th:only-of-type {\n",
       "        vertical-align: middle;\n",
       "    }\n",
       "\n",
       "    .dataframe tbody tr th {\n",
       "        vertical-align: top;\n",
       "    }\n",
       "\n",
       "    .dataframe thead th {\n",
       "        text-align: right;\n",
       "    }\n",
       "</style>\n",
       "<table border=\"1\" class=\"dataframe\">\n",
       "  <thead>\n",
       "    <tr style=\"text-align: right;\">\n",
       "      <th></th>\n",
       "      <th>Unnamed: 0</th>\n",
       "      <th>Gender</th>\n",
       "      <th>DOB</th>\n",
       "      <th>Maths</th>\n",
       "      <th>Physics</th>\n",
       "      <th>Chemistry</th>\n",
       "      <th>English</th>\n",
       "      <th>Biology</th>\n",
       "      <th>Economics</th>\n",
       "      <th>History</th>\n",
       "      <th>Civics</th>\n",
       "    </tr>\n",
       "  </thead>\n",
       "  <tbody>\n",
       "    <tr>\n",
       "      <th>5</th>\n",
       "      <td>Annu</td>\n",
       "      <td>F</td>\n",
       "      <td>05-04-1988</td>\n",
       "      <td>45</td>\n",
       "      <td>87</td>\n",
       "      <td>52</td>\n",
       "      <td>89</td>\n",
       "      <td>55</td>\n",
       "      <td>89</td>\n",
       "      <td>87</td>\n",
       "      <td>52</td>\n",
       "    </tr>\n",
       "    <tr>\n",
       "      <th>6</th>\n",
       "      <td>pooja</td>\n",
       "      <td>F</td>\n",
       "      <td>04-05-1987</td>\n",
       "      <td>55</td>\n",
       "      <td>64</td>\n",
       "      <td>61</td>\n",
       "      <td>58</td>\n",
       "      <td>75</td>\n",
       "      <td>58</td>\n",
       "      <td>64</td>\n",
       "      <td>61</td>\n",
       "    </tr>\n",
       "    <tr>\n",
       "      <th>7</th>\n",
       "      <td>Ritesh</td>\n",
       "      <td>M</td>\n",
       "      <td>25-05-1989</td>\n",
       "      <td>54</td>\n",
       "      <td>76</td>\n",
       "      <td>87</td>\n",
       "      <td>56</td>\n",
       "      <td>25</td>\n",
       "      <td>56</td>\n",
       "      <td>76</td>\n",
       "      <td>87</td>\n",
       "    </tr>\n",
       "    <tr>\n",
       "      <th>8</th>\n",
       "      <td>Farha</td>\n",
       "      <td>F</td>\n",
       "      <td>12-08-1990</td>\n",
       "      <td>55</td>\n",
       "      <td>63</td>\n",
       "      <td>89</td>\n",
       "      <td>75</td>\n",
       "      <td>78</td>\n",
       "      <td>75</td>\n",
       "      <td>63</td>\n",
       "      <td>89</td>\n",
       "    </tr>\n",
       "    <tr>\n",
       "      <th>9</th>\n",
       "      <td>Mukesh</td>\n",
       "      <td>M</td>\n",
       "      <td>02-09-1989</td>\n",
       "      <td>96</td>\n",
       "      <td>46</td>\n",
       "      <td>77</td>\n",
       "      <td>83</td>\n",
       "      <td>58</td>\n",
       "      <td>83</td>\n",
       "      <td>46</td>\n",
       "      <td>77</td>\n",
       "    </tr>\n",
       "  </tbody>\n",
       "</table>\n",
       "</div>"
      ],
      "text/plain": [
       "  Unnamed: 0 Gender         DOB  Maths  Physics  Chemistry  English  Biology  \\\n",
       "5       Annu      F  05-04-1988     45       87         52       89       55   \n",
       "6      pooja      F  04-05-1987     55       64         61       58       75   \n",
       "7     Ritesh      M  25-05-1989     54       76         87       56       25   \n",
       "8      Farha      F  12-08-1990     55       63         89       75       78   \n",
       "9     Mukesh      M  02-09-1989     96       46         77       83       58   \n",
       "\n",
       "   Economics  History  Civics  \n",
       "5         89       87      52  \n",
       "6         58       64      61  \n",
       "7         56       76      87  \n",
       "8         75       63      89  \n",
       "9         83       46      77  "
      ]
     },
     "execution_count": 4,
     "metadata": {},
     "output_type": "execute_result"
    }
   ],
   "source": [
    "studmarks.tail()"
   ]
  },
  {
   "cell_type": "code",
   "execution_count": 5,
   "metadata": {},
   "outputs": [
    {
     "name": "stdout",
     "output_type": "stream",
     "text": [
      "<class 'pandas.core.frame.DataFrame'>\n",
      "RangeIndex: 10 entries, 0 to 9\n",
      "Data columns (total 11 columns):\n",
      " #   Column      Non-Null Count  Dtype \n",
      "---  ------      --------------  ----- \n",
      " 0   Unnamed: 0  10 non-null     object\n",
      " 1   Gender      10 non-null     object\n",
      " 2   DOB         10 non-null     object\n",
      " 3   Maths       10 non-null     int64 \n",
      " 4   Physics     10 non-null     int64 \n",
      " 5   Chemistry   10 non-null     int64 \n",
      " 6   English     10 non-null     int64 \n",
      " 7   Biology     10 non-null     int64 \n",
      " 8   Economics   10 non-null     int64 \n",
      " 9   History     10 non-null     int64 \n",
      " 10  Civics      10 non-null     int64 \n",
      "dtypes: int64(8), object(3)\n",
      "memory usage: 1008.0+ bytes\n"
     ]
    }
   ],
   "source": [
    "studmarks.info()"
   ]
  },
  {
   "cell_type": "code",
   "execution_count": 6,
   "metadata": {},
   "outputs": [
    {
     "data": {
      "text/plain": [
       "(10, 11)"
      ]
     },
     "execution_count": 6,
     "metadata": {},
     "output_type": "execute_result"
    }
   ],
   "source": [
    "studmarks.shape"
   ]
  },
  {
   "cell_type": "markdown",
   "metadata": {},
   "source": [
    "# Working on cleansing of data"
   ]
  },
  {
   "cell_type": "code",
   "execution_count": 7,
   "metadata": {},
   "outputs": [],
   "source": [
    "# As we see that there is a column name Unnamed we'll rename it\n",
    "studmarks.rename(columns={'Unnamed: 0':'Name'}, inplace=True)"
   ]
  },
  {
   "cell_type": "code",
   "execution_count": 8,
   "metadata": {},
   "outputs": [
    {
     "data": {
      "text/plain": [
       "Index(['Name', 'Gender', 'DOB', 'Maths', 'Physics', 'Chemistry', 'English',\n",
       "       'Biology', 'Economics', 'History', 'Civics'],\n",
       "      dtype='object')"
      ]
     },
     "execution_count": 8,
     "metadata": {},
     "output_type": "execute_result"
    }
   ],
   "source": [
    "studmarks.columns"
   ]
  },
  {
   "cell_type": "code",
   "execution_count": 9,
   "metadata": {},
   "outputs": [
    {
     "data": {
      "image/png": "[encoded data removed]",
      "text/plain": [
       "<Figure size 864x576 with 2 Axes>"
      ]
     },
     "metadata": {
      "needs_background": "light"
     },
     "output_type": "display_data"
    }
   ],
   "source": [
    "# Checking wheather there are any null values present using heatmap\n",
    "\n",
    "plt.figure(figsize=(12,8))\n",
    "sns.heatmap(studmarks.isnull(),cmap=\"Blues\",annot=True)\n",
    "plt.show()\n",
    "# data has no null value"
   ]
  },
  {
   "cell_type": "code",
   "execution_count": 10,
   "metadata": {},
   "outputs": [
    {
     "data": {
      "text/plain": [
       "Name         0\n",
       "Gender       0\n",
       "DOB          0\n",
       "Maths        0\n",
       "Physics      0\n",
       "Chemistry    0\n",
       "English      0\n",
       "Biology      0\n",
       "Economics    0\n",
       "History      0\n",
       "Civics       0\n",
       "dtype: int64"
      ]
     },
     "execution_count": 10,
     "metadata": {},
     "output_type": "execute_result"
    }
   ],
   "source": [
    "# Checking the null value without using visualization\n",
    "studmarks.isnull().sum()\n",
    "# No null value is reflecting in the dataset"
   ]
  },
  {
   "cell_type": "markdown",
   "metadata": {},
   "source": [
    "# Summary Statistics"
   ]
  },
  {
   "cell_type": "code",
   "execution_count": 11,
   "metadata": {},
   "outputs": [
    {
     "data": {
      "text/html": [
       "<div>\n",
       "<style scoped>\n",
       "    .dataframe tbody tr th:only-of-type {\n",
       "        vertical-align: middle;\n",
       "    }\n",
       "\n",
       "    .dataframe tbody tr th {\n",
       "        vertical-align: top;\n",
       "    }\n",
       "\n",
       "    .dataframe thead th {\n",
       "        text-align: right;\n",
       "    }\n",
       "</style>\n",
       "<table border=\"1\" class=\"dataframe\">\n",
       "  <thead>\n",
       "    <tr style=\"text-align: right;\">\n",
       "      <th></th>\n",
       "      <th>Maths</th>\n",
       "      <th>Physics</th>\n",
       "      <th>Chemistry</th>\n",
       "      <th>English</th>\n",
       "      <th>Biology</th>\n",
       "      <th>Economics</th>\n",
       "      <th>History</th>\n",
       "      <th>Civics</th>\n",
       "    </tr>\n",
       "  </thead>\n",
       "  <tbody>\n",
       "    <tr>\n",
       "      <th>count</th>\n",
       "      <td>10.000000</td>\n",
       "      <td>10.000000</td>\n",
       "      <td>10.000000</td>\n",
       "      <td>10.000000</td>\n",
       "      <td>10.000000</td>\n",
       "      <td>10.000000</td>\n",
       "      <td>10.000000</td>\n",
       "      <td>10.0000</td>\n",
       "    </tr>\n",
       "    <tr>\n",
       "      <th>mean</th>\n",
       "      <td>59.600000</td>\n",
       "      <td>72.300000</td>\n",
       "      <td>75.300000</td>\n",
       "      <td>69.700000</td>\n",
       "      <td>64.700000</td>\n",
       "      <td>72.700000</td>\n",
       "      <td>69.700000</td>\n",
       "      <td>60.5000</td>\n",
       "    </tr>\n",
       "    <tr>\n",
       "      <th>std</th>\n",
       "      <td>19.460501</td>\n",
       "      <td>20.661559</td>\n",
       "      <td>14.000397</td>\n",
       "      <td>14.453373</td>\n",
       "      <td>26.998148</td>\n",
       "      <td>14.629119</td>\n",
       "      <td>14.453373</td>\n",
       "      <td>25.3432</td>\n",
       "    </tr>\n",
       "    <tr>\n",
       "      <th>min</th>\n",
       "      <td>25.000000</td>\n",
       "      <td>45.000000</td>\n",
       "      <td>52.000000</td>\n",
       "      <td>46.000000</td>\n",
       "      <td>21.000000</td>\n",
       "      <td>52.000000</td>\n",
       "      <td>46.000000</td>\n",
       "      <td>2.0000</td>\n",
       "    </tr>\n",
       "    <tr>\n",
       "      <th>25%</th>\n",
       "      <td>54.250000</td>\n",
       "      <td>56.250000</td>\n",
       "      <td>65.000000</td>\n",
       "      <td>59.250000</td>\n",
       "      <td>54.250000</td>\n",
       "      <td>58.750000</td>\n",
       "      <td>59.250000</td>\n",
       "      <td>52.2500</td>\n",
       "    </tr>\n",
       "    <tr>\n",
       "      <th>50%</th>\n",
       "      <td>55.000000</td>\n",
       "      <td>70.000000</td>\n",
       "      <td>78.000000</td>\n",
       "      <td>69.500000</td>\n",
       "      <td>66.500000</td>\n",
       "      <td>76.000000</td>\n",
       "      <td>69.500000</td>\n",
       "      <td>63.0000</td>\n",
       "    </tr>\n",
       "    <tr>\n",
       "      <th>75%</th>\n",
       "      <td>70.750000</td>\n",
       "      <td>93.750000</td>\n",
       "      <td>86.750000</td>\n",
       "      <td>81.250000</td>\n",
       "      <td>87.000000</td>\n",
       "      <td>86.000000</td>\n",
       "      <td>81.250000</td>\n",
       "      <td>76.2500</td>\n",
       "    </tr>\n",
       "    <tr>\n",
       "      <th>max</th>\n",
       "      <td>96.000000</td>\n",
       "      <td>96.000000</td>\n",
       "      <td>89.000000</td>\n",
       "      <td>89.000000</td>\n",
       "      <td>96.000000</td>\n",
       "      <td>89.000000</td>\n",
       "      <td>89.000000</td>\n",
       "      <td>89.0000</td>\n",
       "    </tr>\n",
       "  </tbody>\n",
       "</table>\n",
       "</div>"
      ],
      "text/plain": [
       "           Maths    Physics  Chemistry    English    Biology  Economics  \\\n",
       "count  10.000000  10.000000  10.000000  10.000000  10.000000  10.000000   \n",
       "mean   59.600000  72.300000  75.300000  69.700000  64.700000  72.700000   \n",
       "std    19.460501  20.661559  14.000397  14.453373  26.998148  14.629119   \n",
       "min    25.000000  45.000000  52.000000  46.000000  21.000000  52.000000   \n",
       "25%    54.250000  56.250000  65.000000  59.250000  54.250000  58.750000   \n",
       "50%    55.000000  70.000000  78.000000  69.500000  66.500000  76.000000   \n",
       "75%    70.750000  93.750000  86.750000  81.250000  87.000000  86.000000   \n",
       "max    96.000000  96.000000  89.000000  89.000000  96.000000  89.000000   \n",
       "\n",
       "         History   Civics  \n",
       "count  10.000000  10.0000  \n",
       "mean   69.700000  60.5000  \n",
       "std    14.453373  25.3432  \n",
       "min    46.000000   2.0000  \n",
       "25%    59.250000  52.2500  \n",
       "50%    69.500000  63.0000  \n",
       "75%    81.250000  76.2500  \n",
       "max    89.000000  89.0000  "
      ]
     },
     "execution_count": 11,
     "metadata": {},
     "output_type": "execute_result"
    }
   ],
   "source": [
    "studmarks.describe()\n",
    "# we see that there is a difference between mean and 50% percentile in most of the columns\n",
    "# we also see that 75% percentile and max got large difference in almost all columns\n",
    "# both the observation shows that there can be extreme outliers present in the columns"
   ]
  },
  {
   "cell_type": "markdown",
   "metadata": {},
   "source": [
    "# Data Visualization"
   ]
  },
  {
   "cell_type": "code",
   "execution_count": 12,
   "metadata": {},
   "outputs": [
    {
     "data": {
      "text/plain": [
       "array([[<matplotlib.axes._subplots.AxesSubplot object at 0x00000200E8348988>,\n",
       "        <matplotlib.axes._subplots.AxesSubplot object at 0x00000200E8008688>,\n",
       "        <matplotlib.axes._subplots.AxesSubplot object at 0x00000200E8041608>],\n",
       "       [<matplotlib.axes._subplots.AxesSubplot object at 0x00000200E807C748>,\n",
       "        <matplotlib.axes._subplots.AxesSubplot object at 0x00000200E80B4888>,\n",
       "        <matplotlib.axes._subplots.AxesSubplot object at 0x00000200E80EE8C8>],\n",
       "       [<matplotlib.axes._subplots.AxesSubplot object at 0x00000200E81249C8>,\n",
       "        <matplotlib.axes._subplots.AxesSubplot object at 0x00000200E815DB08>,\n",
       "        <matplotlib.axes._subplots.AxesSubplot object at 0x00000200E8168D88>]],\n",
       "      dtype=object)"
      ]
     },
     "execution_count": 12,
     "metadata": {},
     "output_type": "execute_result"
    },
    {
     "data": {
      "image/png": "[encoded data removed]",
      "text/plain": [
       "<Figure size 864x864 with 9 Axes>"
      ]
     },
     "metadata": {
      "needs_background": "light"
     },
     "output_type": "display_data"
    }
   ],
   "source": [
    "# Representation of dataset in histogram\n",
    "studmarks.hist(figsize=(12,12))"
   ]
  },
  {
   "cell_type": "code",
   "execution_count": 13,
   "metadata": {},
   "outputs": [
    {
     "name": "stdout",
     "output_type": "stream",
     "text": [
      "Requirement already satisfied: plotly==3.10 in c:\\users\\user\\anaconda3\\lib\\site-packages (3.10.0)\n",
      "Requirement already satisfied: requests in c:\\users\\user\\anaconda3\\lib\\site-packages (from plotly==3.10) (2.22.0)\n",
      "Requirement already satisfied: retrying>=1.3.3 in c:\\users\\user\\anaconda3\\lib\\site-packages (from plotly==3.10) (1.3.3)\n",
      "Requirement already satisfied: nbformat>=4.2 in c:\\users\\user\\anaconda3\\lib\\site-packages (from plotly==3.10) (5.0.4)\n",
      "Requirement already satisfied: decorator>=4.0.6 in c:\\users\\user\\anaconda3\\lib\\site-packages (from plotly==3.10) (4.4.1)\n",
      "Requirement already satisfied: six in c:\\users\\user\\anaconda3\\lib\\site-packages (from plotly==3.10) (1.14.0)\n",
      "Requirement already satisfied: pytz in c:\\users\\user\\anaconda3\\lib\\site-packages (from plotly==3.10) (2019.3)\n",
      "Requirement already satisfied: certifi>=2017.4.17 in c:\\users\\user\\anaconda3\\lib\\site-packages (from requests->plotly==3.10) (2019.11.28)\n",
      "Requirement already satisfied: urllib3!=1.25.0,!=1.25.1,<1.26,>=1.21.1 in c:\\users\\user\\anaconda3\\lib\\site-packages (from requests->plotly==3.10) (1.25.8)\n",
      "Requirement already satisfied: chardet<3.1.0,>=3.0.2 in c:\\users\\user\\anaconda3\\lib\\site-packages (from requests->plotly==3.10) (3.0.4)\n",
      "Requirement already satisfied: idna<2.9,>=2.5 in c:\\users\\user\\anaconda3\\lib\\site-packages (from requests->plotly==3.10) (2.8)\n",
      "Requirement already satisfied: traitlets>=4.1 in c:\\users\\user\\anaconda3\\lib\\site-packages (from nbformat>=4.2->plotly==3.10) (4.3.3)\n",
      "Requirement already satisfied: jupyter-core in c:\\users\\user\\anaconda3\\lib\\site-packages (from nbformat>=4.2->plotly==3.10) (4.6.1)\n",
      "Requirement already satisfied: ipython-genutils in c:\\users\\user\\anaconda3\\lib\\site-packages (from nbformat>=4.2->plotly==3.10) (0.2.0)\n",
      "Requirement already satisfied: jsonschema!=2.5.0,>=2.4 in c:\\users\\user\\anaconda3\\lib\\site-packages (from nbformat>=4.2->plotly==3.10) (3.2.0)\n",
      "Requirement already satisfied: pywin32>=1.0; sys_platform == \"win32\" in c:\\users\\user\\anaconda3\\lib\\site-packages (from jupyter-core->nbformat>=4.2->plotly==3.10) (227)\n",
      "Requirement already satisfied: pyrsistent>=0.14.0 in c:\\users\\user\\anaconda3\\lib\\site-packages (from jsonschema!=2.5.0,>=2.4->nbformat>=4.2->plotly==3.10) (0.15.7)\n",
      "Requirement already satisfied: attrs>=17.4.0 in c:\\users\\user\\anaconda3\\lib\\site-packages (from jsonschema!=2.5.0,>=2.4->nbformat>=4.2->plotly==3.10) (19.3.0)\n",
      "Requirement already satisfied: importlib-metadata; python_version < \"3.8\" in c:\\users\\user\\anaconda3\\lib\\site-packages (from jsonschema!=2.5.0,>=2.4->nbformat>=4.2->plotly==3.10) (1.5.0)\n",
      "Requirement already satisfied: setuptools in c:\\users\\user\\anaconda3\\lib\\site-packages (from jsonschema!=2.5.0,>=2.4->nbformat>=4.2->plotly==3.10) (45.2.0.post20200210)\n",
      "Requirement already satisfied: zipp>=0.5 in c:\\users\\user\\anaconda3\\lib\\site-packages (from importlib-metadata; python_version < \"3.8\"->jsonschema!=2.5.0,>=2.4->nbformat>=4.2->plotly==3.10) (2.2.0)\n"
     ]
    },
    {
     "data": {
      "text/html": [
       "        <script type=\"text/javascript\">\n",
       "        window.PlotlyConfig = {MathJaxConfig: 'local'};\n",
       "        if (window.MathJax) {MathJax.Hub.Config({SVG: {font: \"STIX-Web\"}});}\n",
       "        if (typeof require !== 'undefined') {\n",
       "        require.undef(\"plotly\");\n",
       "        requirejs.config({\n",
       "            paths: {\n",
       "                'plotly': ['https://cdn.plot.ly/plotly-latest.min']\n",
       "            }\n",
       "        });\n",
       "        require(['plotly'], function(Plotly) {\n",
       "            window._Plotly = Plotly;\n",
       "        });\n",
       "        }\n",
       "        </script>\n",
       "        "
      ]
     },
     "metadata": {},
     "output_type": "display_data"
    }
   ],
   "source": [
    "#Installing and importing important libraries for graphical representation of data\n",
    "!pip install plotly==3.10 \n",
    "import plotly.plotly as po\n",
    "import plotly.figure_factory as ff\n",
    "from plotly.offline import init_notebook_mode, iplot\n",
    "init_notebook_mode(connected=True)\n",
    "import plotly.graph_objs as go"
   ]
  },
  {
   "cell_type": "code",
   "execution_count": 14,
   "metadata": {},
   "outputs": [
    {
     "data": {
      "application/vnd.plotly.v1+json": {
       "config": {
        "linkText": "Export to plot.ly",
        "plotlyServerURL": "https://plot.ly",
        "showLink": false
       },
       "data": [
        {
         "marker": {
          "color": "rgb(12, 51, 131)"
         },
         "showlegend": false,
         "type": "box",
         "uid": "13ab51c8-49dd-4dbf-81ab-64c982b4f79a",
         "xaxis": "x",
         "y": [
          "M",
          "M",
          "M",
          "F",
          "F",
          "F",
          "F",
          "M",
          "F",
          "M"
         ],
         "yaxis": "y"
        },
        {
         "marker": {
          "color": [
           1,
           2,
           3,
           4,
           5,
           6,
           7,
           8,
           9,
           10
          ],
          "colorscale": [
           [
            0,
            "rgb(12, 51, 131)"
           ],
           [
            1,
            "rgb(217, 30, 30)"
           ]
          ],
          "showscale": true,
          "size": 6
         },
         "mode": "markers",
         "showlegend": false,
         "type": "scatter",
         "uid": "d9115c0d-b2dd-431e-9108-62e247c51a6d",
         "x": [
          55,
          75,
          25,
          78,
          58,
          45,
          55,
          54,
          55,
          96
         ],
         "xaxis": "x2",
         "y": [
          "M",
          "M",
          "M",
          "F",
          "F",
          "F",
          "F",
          "M",
          "F",
          "M"
         ],
         "yaxis": "y2"
        },
        {
         "marker": {
          "color": [
           1,
           2,
           3,
           4,
           5,
           6,
           7,
           8,
           9,
           10
          ],
          "colorscale": [
           [
            0,
            "rgb(12, 51, 131)"
           ],
           [
            1,
            "rgb(217, 30, 30)"
           ]
          ],
          "showscale": false,
          "size": 6
         },
         "mode": "markers",
         "showlegend": false,
         "type": "scatter",
         "uid": "87a05991-d9b9-4840-afa6-d6363b26f018",
         "x": [
          45,
          96,
          54,
          96,
          96,
          87,
          64,
          76,
          63,
          46
         ],
         "xaxis": "x3",
         "y": [
          "M",
          "M",
          "M",
          "F",
          "F",
          "F",
          "F",
          "M",
          "F",
          "M"
         ],
         "yaxis": "y3"
        },
        {
         "marker": {
          "color": [
           1,
           2,
           3,
           4,
           5,
           6,
           7,
           8,
           9,
           10
          ],
          "colorscale": [
           [
            0,
            "rgb(12, 51, 131)"
           ],
           [
            1,
            "rgb(217, 30, 30)"
           ]
          ],
          "showscale": false,
          "size": 6
         },
         "mode": "markers",
         "showlegend": false,
         "type": "scatter",
         "uid": "4b6eb344-f2b4-41c9-8d21-f86fd7fd9e01",
         "x": [
          56,
          78,
          89,
          86,
          78,
          52,
          61,
          87,
          89,
          77
         ],
         "xaxis": "x4",
         "y": [
          "M",
          "M",
          "M",
          "F",
          "F",
          "F",
          "F",
          "M",
          "F",
          "M"
         ],
         "yaxis": "y4"
        },
        {
         "marker": {
          "color": [
           1,
           2,
           3,
           4,
           5,
           6,
           7,
           8,
           9,
           10
          ],
          "colorscale": [
           [
            0,
            "rgb(12, 51, 131)"
           ],
           [
            1,
            "rgb(217, 30, 30)"
           ]
          ],
          "showscale": false,
          "size": 6
         },
         "mode": "markers",
         "showlegend": false,
         "type": "scatter",
         "uid": "a1b85c59-5e6a-45a3-85fa-ca88c8dadc19",
         "x": [
          87,
          64,
          76,
          63,
          46,
          89,
          58,
          56,
          75,
          83
         ],
         "xaxis": "x5",
         "y": [
          "M",
          "M",
          "M",
          "F",
          "F",
          "F",
          "F",
          "M",
          "F",
          "M"
         ],
         "yaxis": "y5"
        },
        {
         "marker": {
          "color": [
           1,
           2,
           3,
           4,
           5,
           6,
           7,
           8,
           9,
           10
          ],
          "colorscale": [
           [
            0,
            "rgb(12, 51, 131)"
           ],
           [
            1,
            "rgb(217, 30, 30)"
           ]
          ],
          "showscale": false,
          "size": 6
         },
         "mode": "markers",
         "showlegend": false,
         "type": "scatter",
         "uid": "1f22d9af-7d74-4f4b-ab37-d9e4fd838907",
         "x": [
          21,
          90,
          95,
          54,
          96,
          55,
          75,
          25,
          78,
          58
         ],
         "xaxis": "x6",
         "y": [
          "M",
          "M",
          "M",
          "F",
          "F",
          "F",
          "F",
          "M",
          "F",
          "M"
         ],
         "yaxis": "y6"
        },
        {
         "marker": {
          "color": [
           1,
           2,
           3,
           4,
           5,
           6,
           7,
           8,
           9,
           10
          ],
          "colorscale": [
           [
            0,
            "rgb(12, 51, 131)"
           ],
           [
            1,
            "rgb(217, 30, 30)"
           ]
          ],
          "showscale": false,
          "size": 6
         },
         "mode": "markers",
         "showlegend": false,
         "type": "scatter",
         "uid": "0695598d-da88-44aa-8557-aab52c6da1c0",
         "x": [
          52,
          61,
          87,
          89,
          77,
          89,
          58,
          56,
          75,
          83
         ],
         "xaxis": "x7",
         "y": [
          "M",
          "M",
          "M",
          "F",
          "F",
          "F",
          "F",
          "M",
          "F",
          "M"
         ],
         "yaxis": "y7"
        },
        {
         "marker": {
          "color": [
           1,
           2,
           3,
           4,
           5,
           6,
           7,
           8,
           9,
           10
          ],
          "colorscale": [
           [
            0,
            "rgb(12, 51, 131)"
           ],
           [
            1,
            "rgb(217, 30, 30)"
           ]
          ],
          "showscale": false,
          "size": 6
         },
         "mode": "markers",
         "showlegend": false,
         "type": "scatter",
         "uid": "7263e502-6f46-4c4f-b194-5faa7170291b",
         "x": [
          89,
          58,
          56,
          75,
          83,
          87,
          64,
          76,
          63,
          46
         ],
         "xaxis": "x8",
         "y": [
          "M",
          "M",
          "M",
          "F",
          "F",
          "F",
          "F",
          "M",
          "F",
          "M"
         ],
         "yaxis": "y8"
        },
        {
         "marker": {
          "color": [
           1,
           2,
           3,
           4,
           5,
           6,
           7,
           8,
           9,
           10
          ],
          "colorscale": [
           [
            0,
            "rgb(12, 51, 131)"
           ],
           [
            1,
            "rgb(217, 30, 30)"
           ]
          ],
          "showscale": false,
          "size": 6
         },
         "mode": "markers",
         "showlegend": false,
         "type": "scatter",
         "uid": "16867f11-6adb-45d7-af79-5dbfb0607f3e",
         "x": [
          65,
          2,
          74,
          45,
          53,
          52,
          61,
          87,
          89,
          77
         ],
         "xaxis": "x9",
         "y": [
          "M",
          "M",
          "M",
          "F",
          "F",
          "F",
          "F",
          "M",
          "F",
          "M"
         ],
         "yaxis": "y9"
        },
        {
         "marker": {
          "color": [
           1,
           2,
           3,
           4,
           5,
           6,
           7,
           8,
           9,
           10
          ],
          "colorscale": [
           [
            0,
            "rgb(12, 51, 131)"
           ],
           [
            1,
            "rgb(217, 30, 30)"
           ]
          ],
          "showscale": false,
          "size": 6
         },
         "mode": "markers",
         "showlegend": false,
         "type": "scatter",
         "uid": "237c054f-36e2-48bb-87af-b7bc8d707d02",
         "x": [
          "M",
          "M",
          "M",
          "F",
          "F",
          "F",
          "F",
          "M",
          "F",
          "M"
         ],
         "xaxis": "x10",
         "y": [
          55,
          75,
          25,
          78,
          58,
          45,
          55,
          54,
          55,
          96
         ],
         "yaxis": "y10"
        },
        {
         "marker": {
          "color": "rgb(12, 51, 131)"
         },
         "showlegend": false,
         "type": "box",
         "uid": "1c3238b9-e484-4060-ba08-c659f2ded3c2",
         "xaxis": "x11",
         "y": [
          55,
          75,
          25,
          78,
          58,
          45,
          55,
          54,
          55,
          96
         ],
         "yaxis": "y11"
        },
        {
         "marker": {
          "color": [
           1,
           2,
           3,
           4,
           5,
           6,
           7,
           8,
           9,
           10
          ],
          "colorscale": [
           [
            0,
            "rgb(12, 51, 131)"
           ],
           [
            1,
            "rgb(217, 30, 30)"
           ]
          ],
          "showscale": false,
          "size": 6
         },
         "mode": "markers",
         "showlegend": false,
         "type": "scatter",
         "uid": "99022df9-f0e4-4a51-8966-6044645bd24b",
         "x": [
          45,
          96,
          54,
          96,
          96,
          87,
          64,
          76,
          63,
          46
         ],
         "xaxis": "x12",
         "y": [
          55,
          75,
          25,
          78,
          58,
          45,
          55,
          54,
          55,
          96
         ],
         "yaxis": "y12"
        },
        {
         "marker": {
          "color": [
           1,
           2,
           3,
           4,
           5,
           6,
           7,
           8,
           9,
           10
          ],
          "colorscale": [
           [
            0,
            "rgb(12, 51, 131)"
           ],
           [
            1,
            "rgb(217, 30, 30)"
           ]
          ],
          "showscale": false,
          "size": 6
         },
         "mode": "markers",
         "showlegend": false,
         "type": "scatter",
         "uid": "91ae0cb3-701e-4070-9df1-2cefa6a6e07c",
         "x": [
          56,
          78,
          89,
          86,
          78,
          52,
          61,
          87,
          89,
          77
         ],
         "xaxis": "x13",
         "y": [
          55,
          75,
          25,
          78,
          58,
          45,
          55,
          54,
          55,
          96
         ],
         "yaxis": "y13"
        },
        {
         "marker": {
          "color": [
           1,
           2,
           3,
           4,
           5,
           6,
           7,
           8,
           9,
           10
          ],
          "colorscale": [
           [
            0,
            "rgb(12, 51, 131)"
           ],
           [
            1,
            "rgb(217, 30, 30)"
           ]
          ],
          "showscale": false,
          "size": 6
         },
         "mode": "markers",
         "showlegend": false,
         "type": "scatter",
         "uid": "fee29819-bb54-4d02-908d-fe17b7c0c272",
         "x": [
          87,
          64,
          76,
          63,
          46,
          89,
          58,
          56,
          75,
          83
         ],
         "xaxis": "x14",
         "y": [
          55,
          75,
          25,
          78,
          58,
          45,
          55,
          54,
          55,
          96
         ],
         "yaxis": "y14"
        },
        {
         "marker": {
          "color": [
           1,
           2,
           3,
           4,
           5,
           6,
           7,
           8,
           9,
           10
          ],
          "colorscale": [
           [
            0,
            "rgb(12, 51, 131)"
           ],
           [
            1,
            "rgb(217, 30, 30)"
           ]
          ],
          "showscale": false,
          "size": 6
         },
         "mode": "markers",
         "showlegend": false,
         "type": "scatter",
         "uid": "ac02f3cd-c2b7-42a7-a5c3-05d61e820ea0",
         "x": [
          21,
          90,
          95,
          54,
          96,
          55,
          75,
          25,
          78,
          58
         ],
         "xaxis": "x15",
         "y": [
          55,
          75,
          25,
          78,
          58,
          45,
          55,
          54,
          55,
          96
         ],
         "yaxis": "y15"
        },
        {
         "marker": {
          "color": [
           1,
           2,
           3,
           4,
           5,
           6,
           7,
           8,
           9,
           10
          ],
          "colorscale": [
           [
            0,
            "rgb(12, 51, 131)"
           ],
           [
            1,
            "rgb(217, 30, 30)"
           ]
          ],
          "showscale": false,
          "size": 6
         },
         "mode": "markers",
         "showlegend": false,
         "type": "scatter",
         "uid": "54a833e8-987a-4902-a108-677784722116",
         "x": [
          52,
          61,
          87,
          89,
          77,
          89,
          58,
          56,
          75,
          83
         ],
         "xaxis": "x16",
         "y": [
          55,
          75,
          25,
          78,
          58,
          45,
          55,
          54,
          55,
          96
         ],
         "yaxis": "y16"
        },
        {
         "marker": {
          "color": [
           1,
           2,
           3,
           4,
           5,
           6,
           7,
           8,
           9,
           10
          ],
          "colorscale": [
           [
            0,
            "rgb(12, 51, 131)"
           ],
           [
            1,
            "rgb(217, 30, 30)"
           ]
          ],
          "showscale": false,
          "size": 6
         },
         "mode": "markers",
         "showlegend": false,
         "type": "scatter",
         "uid": "b3a34f44-2fb9-4de4-88a6-500a53a30fde",
         "x": [
          89,
          58,
          56,
          75,
          83,
          87,
          64,
          76,
          63,
          46
         ],
         "xaxis": "x17",
         "y": [
          55,
          75,
          25,
          78,
          58,
          45,
          55,
          54,
          55,
          96
         ],
         "yaxis": "y17"
        },
        {
         "marker": {
          "color": [
           1,
           2,
           3,
           4,
           5,
           6,
           7,
           8,
           9,
           10
          ],
          "colorscale": [
           [
            0,
            "rgb(12, 51, 131)"
           ],
           [
            1,
            "rgb(217, 30, 30)"
           ]
          ],
          "showscale": false,
          "size": 6
         },
         "mode": "markers",
         "showlegend": false,
         "type": "scatter",
         "uid": "5f9ee0af-88fd-44a7-9765-728fe8ca21a9",
         "x": [
          65,
          2,
          74,
          45,
          53,
          52,
          61,
          87,
          89,
          77
         ],
         "xaxis": "x18",
         "y": [
          55,
          75,
          25,
          78,
          58,
          45,
          55,
          54,
          55,
          96
         ],
         "yaxis": "y18"
        },
        {
         "marker": {
          "color": [
           1,
           2,
           3,
           4,
           5,
           6,
           7,
           8,
           9,
           10
          ],
          "colorscale": [
           [
            0,
            "rgb(12, 51, 131)"
           ],
           [
            1,
            "rgb(217, 30, 30)"
           ]
          ],
          "showscale": false,
          "size": 6
         },
         "mode": "markers",
         "showlegend": false,
         "type": "scatter",
         "uid": "a8f94a33-74fc-42e5-8c03-10b0b008085b",
         "x": [
          "M",
          "M",
          "M",
          "F",
          "F",
          "F",
          "F",
          "M",
          "F",
          "M"
         ],
         "xaxis": "x19",
         "y": [
          45,
          96,
          54,
          96,
          96,
          87,
          64,
          76,
          63,
          46
         ],
         "yaxis": "y19"
        },
        {
         "marker": {
          "color": [
           1,
           2,
           3,
           4,
           5,
           6,
           7,
           8,
           9,
           10
          ],
          "colorscale": [
           [
            0,
            "rgb(12, 51, 131)"
           ],
           [
            1,
            "rgb(217, 30, 30)"
           ]
          ],
          "showscale": false,
          "size": 6
         },
         "mode": "markers",
         "showlegend": false,
         "type": "scatter",
         "uid": "04810c90-8611-44c0-bb5b-80d68b0e27d6",
         "x": [
          55,
          75,
          25,
          78,
          58,
          45,
          55,
          54,
          55,
          96
         ],
         "xaxis": "x20",
         "y": [
          45,
          96,
          54,
          96,
          96,
          87,
          64,
          76,
          63,
          46
         ],
         "yaxis": "y20"
        },
        {
         "marker": {
          "color": "rgb(12, 51, 131)"
         },
         "showlegend": false,
         "type": "box",
         "uid": "83f6ab46-3389-40dc-9385-494ae8d64a39",
         "xaxis": "x21",
         "y": [
          45,
          96,
          54,
          96,
          96,
          87,
          64,
          76,
          63,
          46
         ],
         "yaxis": "y21"
        },
        {
         "marker": {
          "color": [
           1,
           2,
           3,
           4,
           5,
           6,
           7,
           8,
           9,
           10
          ],
          "colorscale": [
           [
            0,
            "rgb(12, 51, 131)"
           ],
           [
            1,
            "rgb(217, 30, 30)"
           ]
          ],
          "showscale": false,
          "size": 6
         },
         "mode": "markers",
         "showlegend": false,
         "type": "scatter",
         "uid": "ebb08077-199d-40b1-a06c-a845c6e7f88a",
         "x": [
          56,
          78,
          89,
          86,
          78,
          52,
          61,
          87,
          89,
          77
         ],
         "xaxis": "x22",
         "y": [
          45,
          96,
          54,
          96,
          96,
          87,
          64,
          76,
          63,
          46
         ],
         "yaxis": "y22"
        },
        {
         "marker": {
          "color": [
           1,
           2,
           3,
           4,
           5,
           6,
           7,
           8,
           9,
           10
          ],
          "colorscale": [
           [
            0,
            "rgb(12, 51, 131)"
           ],
           [
            1,
            "rgb(217, 30, 30)"
           ]
          ],
          "showscale": false,
          "size": 6
         },
         "mode": "markers",
         "showlegend": false,
         "type": "scatter",
         "uid": "fe361808-c821-4f5b-ae10-dd37a3139cc5",
         "x": [
          87,
          64,
          76,
          63,
          46,
          89,
          58,
          56,
          75,
          83
         ],
         "xaxis": "x23",
         "y": [
          45,
          96,
          54,
          96,
          96,
          87,
          64,
          76,
          63,
          46
         ],
         "yaxis": "y23"
        },
        {
         "marker": {
          "color": [
           1,
           2,
           3,
           4,
           5,
           6,
           7,
           8,
           9,
           10
          ],
          "colorscale": [
           [
            0,
            "rgb(12, 51, 131)"
           ],
           [
            1,
            "rgb(217, 30, 30)"
           ]
          ],
          "showscale": false,
          "size": 6
         },
         "mode": "markers",
         "showlegend": false,
         "type": "scatter",
         "uid": "00078d0e-0809-4c60-b361-fe5653a10e12",
         "x": [
          21,
          90,
          95,
          54,
          96,
          55,
          75,
          25,
          78,
          58
         ],
         "xaxis": "x24",
         "y": [
          45,
          96,
          54,
          96,
          96,
          87,
          64,
          76,
          63,
          46
         ],
         "yaxis": "y24"
        },
        {
         "marker": {
          "color": [
           1,
           2,
           3,
           4,
           5,
           6,
           7,
           8,
           9,
           10
          ],
          "colorscale": [
           [
            0,
            "rgb(12, 51, 131)"
           ],
           [
            1,
            "rgb(217, 30, 30)"
           ]
          ],
          "showscale": false,
          "size": 6
         },
         "mode": "markers",
         "showlegend": false,
         "type": "scatter",
         "uid": "e3a45771-aac0-4349-9451-08fc58bd6053",
         "x": [
          52,
          61,
          87,
          89,
          77,
          89,
          58,
          56,
          75,
          83
         ],
         "xaxis": "x25",
         "y": [
          45,
          96,
          54,
          96,
          96,
          87,
          64,
          76,
          63,
          46
         ],
         "yaxis": "y25"
        },
        {
         "marker": {
          "color": [
           1,
           2,
           3,
           4,
           5,
           6,
           7,
           8,
           9,
           10
          ],
          "colorscale": [
           [
            0,
            "rgb(12, 51, 131)"
           ],
           [
            1,
            "rgb(217, 30, 30)"
           ]
          ],
          "showscale": false,
          "size": 6
         },
         "mode": "markers",
         "showlegend": false,
         "type": "scatter",
         "uid": "fa68bca9-361d-407a-ac8d-fd0d079644a0",
         "x": [
          89,
          58,
          56,
          75,
          83,
          87,
          64,
          76,
          63,
          46
         ],
         "xaxis": "x26",
         "y": [
          45,
          96,
          54,
          96,
          96,
          87,
          64,
          76,
          63,
          46
         ],
         "yaxis": "y26"
        },
        {
         "marker": {
          "color": [
           1,
           2,
           3,
           4,
           5,
           6,
           7,
           8,
           9,
           10
          ],
          "colorscale": [
           [
            0,
            "rgb(12, 51, 131)"
           ],
           [
            1,
            "rgb(217, 30, 30)"
           ]
          ],
          "showscale": false,
          "size": 6
         },
         "mode": "markers",
         "showlegend": false,
         "type": "scatter",
         "uid": "82d5c1e3-5543-449a-9857-fb91b0f86212",
         "x": [
          65,
          2,
          74,
          45,
          53,
          52,
          61,
          87,
          89,
          77
         ],
         "xaxis": "x27",
         "y": [
          45,
          96,
          54,
          96,
          96,
          87,
          64,
          76,
          63,
          46
         ],
         "yaxis": "y27"
        },
        {
         "marker": {
          "color": [
           1,
           2,
           3,
           4,
           5,
           6,
           7,
           8,
           9,
           10
          ],
          "colorscale": [
           [
            0,
            "rgb(12, 51, 131)"
           ],
           [
            1,
            "rgb(217, 30, 30)"
           ]
          ],
          "showscale": false,
          "size": 6
         },
         "mode": "markers",
         "showlegend": false,
         "type": "scatter",
         "uid": "74abdb9a-4ec8-4300-bc53-22043d6b4242",
         "x": [
          "M",
          "M",
          "M",
          "F",
          "F",
          "F",
          "F",
          "M",
          "F",
          "M"
         ],
         "xaxis": "x28",
         "y": [
          56,
          78,
          89,
          86,
          78,
          52,
          61,
          87,
          89,
          77
         ],
         "yaxis": "y28"
        },
        {
         "marker": {
          "color": [
           1,
           2,
           3,
           4,
           5,
           6,
           7,
           8,
           9,
           10
          ],
          "colorscale": [
           [
            0,
            "rgb(12, 51, 131)"
           ],
           [
            1,
            "rgb(217, 30, 30)"
           ]
          ],
          "showscale": false,
          "size": 6
         },
         "mode": "markers",
         "showlegend": false,
         "type": "scatter",
         "uid": "f6203b54-5009-4d6b-88ab-d7a071f7018b",
         "x": [
          55,
          75,
          25,
          78,
          58,
          45,
          55,
          54,
          55,
          96
         ],
         "xaxis": "x29",
         "y": [
          56,
          78,
          89,
          86,
          78,
          52,
          61,
          87,
          89,
          77
         ],
         "yaxis": "y29"
        },
        {
         "marker": {
          "color": [
           1,
           2,
           3,
           4,
           5,
           6,
           7,
           8,
           9,
           10
          ],
          "colorscale": [
           [
            0,
            "rgb(12, 51, 131)"
           ],
           [
            1,
            "rgb(217, 30, 30)"
           ]
          ],
          "showscale": false,
          "size": 6
         },
         "mode": "markers",
         "showlegend": false,
         "type": "scatter",
         "uid": "e845f2fe-7524-4053-b586-324db55b94ec",
         "x": [
          45,
          96,
          54,
          96,
          96,
          87,
          64,
          76,
          63,
          46
         ],
         "xaxis": "x30",
         "y": [
          56,
          78,
          89,
          86,
          78,
          52,
          61,
          87,
          89,
          77
         ],
         "yaxis": "y30"
        },
        {
         "marker": {
          "color": "rgb(12, 51, 131)"
         },
         "showlegend": false,
         "type": "box",
         "uid": "2b13fb36-8d00-498c-b2d1-0d1cf05a0bb4",
         "xaxis": "x31",
         "y": [
          56,
          78,
          89,
          86,
          78,
          52,
          61,
          87,
          89,
          77
         ],
         "yaxis": "y31"
        },
        {
         "marker": {
          "color": [
           1,
           2,
           3,
           4,
           5,
           6,
           7,
           8,
           9,
           10
          ],
          "colorscale": [
           [
            0,
            "rgb(12, 51, 131)"
           ],
           [
            1,
            "rgb(217, 30, 30)"
           ]
          ],
          "showscale": false,
          "size": 6
         },
         "mode": "markers",
         "showlegend": false,
         "type": "scatter",
         "uid": "6ca19b2d-c764-42b7-9605-c4df1c84377d",
         "x": [
          87,
          64,
          76,
          63,
          46,
          89,
          58,
          56,
          75,
          83
         ],
         "xaxis": "x32",
         "y": [
          56,
          78,
          89,
          86,
          78,
          52,
          61,
          87,
          89,
          77
         ],
         "yaxis": "y32"
        },
        {
         "marker": {
          "color": [
           1,
           2,
           3,
           4,
           5,
           6,
           7,
           8,
           9,
           10
          ],
          "colorscale": [
           [
            0,
            "rgb(12, 51, 131)"
           ],
           [
            1,
            "rgb(217, 30, 30)"
           ]
          ],
          "showscale": false,
          "size": 6
         },
         "mode": "markers",
         "showlegend": false,
         "type": "scatter",
         "uid": "4a29fa8b-99a2-4345-a02b-641e7385fdf7",
         "x": [
          21,
          90,
          95,
          54,
          96,
          55,
          75,
          25,
          78,
          58
         ],
         "xaxis": "x33",
         "y": [
          56,
          78,
          89,
          86,
          78,
          52,
          61,
          87,
          89,
          77
         ],
         "yaxis": "y33"
        },
        {
         "marker": {
          "color": [
           1,
           2,
           3,
           4,
           5,
           6,
           7,
           8,
           9,
           10
          ],
          "colorscale": [
           [
            0,
            "rgb(12, 51, 131)"
           ],
           [
            1,
            "rgb(217, 30, 30)"
           ]
          ],
          "showscale": false,
          "size": 6
         },
         "mode": "markers",
         "showlegend": false,
         "type": "scatter",
         "uid": "79e82621-09cc-4019-90bd-578320996013",
         "x": [
          52,
          61,
          87,
          89,
          77,
          89,
          58,
          56,
          75,
          83
         ],
         "xaxis": "x34",
         "y": [
          56,
          78,
          89,
          86,
          78,
          52,
          61,
          87,
          89,
          77
         ],
         "yaxis": "y34"
        },
        {
         "marker": {
          "color": [
           1,
           2,
           3,
           4,
           5,
           6,
           7,
           8,
           9,
           10
          ],
          "colorscale": [
           [
            0,
            "rgb(12, 51, 131)"
           ],
           [
            1,
            "rgb(217, 30, 30)"
           ]
          ],
          "showscale": false,
          "size": 6
         },
         "mode": "markers",
         "showlegend": false,
         "type": "scatter",
         "uid": "1fbd2f50-ce37-416b-8b6e-a4bd621e4f05",
         "x": [
          89,
          58,
          56,
          75,
          83,
          87,
          64,
          76,
          63,
          46
         ],
         "xaxis": "x35",
         "y": [
          56,
          78,
          89,
          86,
          78,
          52,
          61,
          87,
          89,
          77
         ],
         "yaxis": "y35"
        },
        {
         "marker": {
          "color": [
           1,
           2,
           3,
           4,
           5,
           6,
           7,
           8,
           9,
           10
          ],
          "colorscale": [
           [
            0,
            "rgb(12, 51, 131)"
           ],
           [
            1,
            "rgb(217, 30, 30)"
           ]
          ],
          "showscale": false,
          "size": 6
         },
         "mode": "markers",
         "showlegend": false,
         "type": "scatter",
         "uid": "27fb72da-40dd-4fd1-8459-1832dfaf3c65",
         "x": [
          65,
          2,
          74,
          45,
          53,
          52,
          61,
          87,
          89,
          77
         ],
         "xaxis": "x36",
         "y": [
          56,
          78,
          89,
          86,
          78,
          52,
          61,
          87,
          89,
          77
         ],
         "yaxis": "y36"
        },
        {
         "marker": {
          "color": [
           1,
           2,
           3,
           4,
           5,
           6,
           7,
           8,
           9,
           10
          ],
          "colorscale": [
           [
            0,
            "rgb(12, 51, 131)"
           ],
           [
            1,
            "rgb(217, 30, 30)"
           ]
          ],
          "showscale": false,
          "size": 6
         },
         "mode": "markers",
         "showlegend": false,
         "type": "scatter",
         "uid": "0a4ad7dd-bd30-4a63-b504-6710d5ca19c3",
         "x": [
          "M",
          "M",
          "M",
          "F",
          "F",
          "F",
          "F",
          "M",
          "F",
          "M"
         ],
         "xaxis": "x37",
         "y": [
          87,
          64,
          76,
          63,
          46,
          89,
          58,
          56,
          75,
          83
         ],
         "yaxis": "y37"
        },
        {
         "marker": {
          "color": [
           1,
           2,
           3,
           4,
           5,
           6,
           7,
           8,
           9,
           10
          ],
          "colorscale": [
           [
            0,
            "rgb(12, 51, 131)"
           ],
           [
            1,
            "rgb(217, 30, 30)"
           ]
          ],
          "showscale": false,
          "size": 6
         },
         "mode": "markers",
         "showlegend": false,
         "type": "scatter",
         "uid": "1933e48f-8d90-4cd5-9108-23ff4e63a78e",
         "x": [
          55,
          75,
          25,
          78,
          58,
          45,
          55,
          54,
          55,
          96
         ],
         "xaxis": "x38",
         "y": [
          87,
          64,
          76,
          63,
          46,
          89,
          58,
          56,
          75,
          83
         ],
         "yaxis": "y38"
        },
        {
         "marker": {
          "color": [
           1,
           2,
           3,
           4,
           5,
           6,
           7,
           8,
           9,
           10
          ],
          "colorscale": [
           [
            0,
            "rgb(12, 51, 131)"
           ],
           [
            1,
            "rgb(217, 30, 30)"
           ]
          ],
          "showscale": false,
          "size": 6
         },
         "mode": "markers",
         "showlegend": false,
         "type": "scatter",
         "uid": "c7971c44-ed65-4da8-b9f4-491979cae231",
         "x": [
          45,
          96,
          54,
          96,
          96,
          87,
          64,
          76,
          63,
          46
         ],
         "xaxis": "x39",
         "y": [
          87,
          64,
          76,
          63,
          46,
          89,
          58,
          56,
          75,
          83
         ],
         "yaxis": "y39"
        },
        {
         "marker": {
          "color": [
           1,
           2,
           3,
           4,
           5,
           6,
           7,
           8,
           9,
           10
          ],
          "colorscale": [
           [
            0,
            "rgb(12, 51, 131)"
           ],
           [
            1,
            "rgb(217, 30, 30)"
           ]
          ],
          "showscale": false,
          "size": 6
         },
         "mode": "markers",
         "showlegend": false,
         "type": "scatter",
         "uid": "dbf3c2dc-be6e-4b6d-9a3a-d03be1b0343b",
         "x": [
          56,
          78,
          89,
          86,
          78,
          52,
          61,
          87,
          89,
          77
         ],
         "xaxis": "x40",
         "y": [
          87,
          64,
          76,
          63,
          46,
          89,
          58,
          56,
          75,
          83
         ],
         "yaxis": "y40"
        },
        {
         "marker": {
          "color": "rgb(12, 51, 131)"
         },
         "showlegend": false,
         "type": "box",
         "uid": "5df47b91-090f-422e-951d-8f3d785684ea",
         "xaxis": "x41",
         "y": [
          87,
          64,
          76,
          63,
          46,
          89,
          58,
          56,
          75,
          83
         ],
         "yaxis": "y41"
        },
        {
         "marker": {
          "color": [
           1,
           2,
           3,
           4,
           5,
           6,
           7,
           8,
           9,
           10
          ],
          "colorscale": [
           [
            0,
            "rgb(12, 51, 131)"
           ],
           [
            1,
            "rgb(217, 30, 30)"
           ]
          ],
          "showscale": false,
          "size": 6
         },
         "mode": "markers",
         "showlegend": false,
         "type": "scatter",
         "uid": "6a983163-5daf-4e4b-87a8-cce6af40ae48",
         "x": [
          21,
          90,
          95,
          54,
          96,
          55,
          75,
          25,
          78,
          58
         ],
         "xaxis": "x42",
         "y": [
          87,
          64,
          76,
          63,
          46,
          89,
          58,
          56,
          75,
          83
         ],
         "yaxis": "y42"
        },
        {
         "marker": {
          "color": [
           1,
           2,
           3,
           4,
           5,
           6,
           7,
           8,
           9,
           10
          ],
          "colorscale": [
           [
            0,
            "rgb(12, 51, 131)"
           ],
           [
            1,
            "rgb(217, 30, 30)"
           ]
          ],
          "showscale": false,
          "size": 6
         },
         "mode": "markers",
         "showlegend": false,
         "type": "scatter",
         "uid": "bdbbddd5-c209-44dc-9d9a-df76f9a7d7f5",
         "x": [
          52,
          61,
          87,
          89,
          77,
          89,
          58,
          56,
          75,
          83
         ],
         "xaxis": "x43",
         "y": [
          87,
          64,
          76,
          63,
          46,
          89,
          58,
          56,
          75,
          83
         ],
         "yaxis": "y43"
        },
        {
         "marker": {
          "color": [
           1,
           2,
           3,
           4,
           5,
           6,
           7,
           8,
           9,
           10
          ],
          "colorscale": [
           [
            0,
            "rgb(12, 51, 131)"
           ],
           [
            1,
            "rgb(217, 30, 30)"
           ]
          ],
          "showscale": false,
          "size": 6
         },
         "mode": "markers",
         "showlegend": false,
         "type": "scatter",
         "uid": "bf07f2e9-3418-4afc-9877-35a622cd64b2",
         "x": [
          89,
          58,
          56,
          75,
          83,
          87,
          64,
          76,
          63,
          46
         ],
         "xaxis": "x44",
         "y": [
          87,
          64,
          76,
          63,
          46,
          89,
          58,
          56,
          75,
          83
         ],
         "yaxis": "y44"
        },
        {
         "marker": {
          "color": [
           1,
           2,
           3,
           4,
           5,
           6,
           7,
           8,
           9,
           10
          ],
          "colorscale": [
           [
            0,
            "rgb(12, 51, 131)"
           ],
           [
            1,
            "rgb(217, 30, 30)"
           ]
          ],
          "showscale": false,
          "size": 6
         },
         "mode": "markers",
         "showlegend": false,
         "type": "scatter",
         "uid": "21a96d29-13ea-452c-9c7b-c3899b221324",
         "x": [
          65,
          2,
          74,
          45,
          53,
          52,
          61,
          87,
          89,
          77
         ],
         "xaxis": "x45",
         "y": [
          87,
          64,
          76,
          63,
          46,
          89,
          58,
          56,
          75,
          83
         ],
         "yaxis": "y45"
        },
        {
         "marker": {
          "color": [
           1,
           2,
           3,
           4,
           5,
           6,
           7,
           8,
           9,
           10
          ],
          "colorscale": [
           [
            0,
            "rgb(12, 51, 131)"
           ],
           [
            1,
            "rgb(217, 30, 30)"
           ]
          ],
          "showscale": false,
          "size": 6
         },
         "mode": "markers",
         "showlegend": false,
         "type": "scatter",
         "uid": "55383b1a-f2e3-4310-9f59-7c38d7e3590e",
         "x": [
          "M",
          "M",
          "M",
          "F",
          "F",
          "F",
          "F",
          "M",
          "F",
          "M"
         ],
         "xaxis": "x46",
         "y": [
          21,
          90,
          95,
          54,
          96,
          55,
          75,
          25,
          78,
          58
         ],
         "yaxis": "y46"
        },
        {
         "marker": {
          "color": [
           1,
           2,
           3,
           4,
           5,
           6,
           7,
           8,
           9,
           10
          ],
          "colorscale": [
           [
            0,
            "rgb(12, 51, 131)"
           ],
           [
            1,
            "rgb(217, 30, 30)"
           ]
          ],
          "showscale": false,
          "size": 6
         },
         "mode": "markers",
         "showlegend": false,
         "type": "scatter",
         "uid": "e184b6fe-aad7-463b-a22d-5e00bf633e48",
         "x": [
          55,
          75,
          25,
          78,
          58,
          45,
          55,
          54,
          55,
          96
         ],
         "xaxis": "x47",
         "y": [
          21,
          90,
          95,
          54,
          96,
          55,
          75,
          25,
          78,
          58
         ],
         "yaxis": "y47"
        },
        {
         "marker": {
          "color": [
           1,
           2,
           3,
           4,
           5,
           6,
           7,
           8,
           9,
           10
          ],
          "colorscale": [
           [
            0,
            "rgb(12, 51, 131)"
           ],
           [
            1,
            "rgb(217, 30, 30)"
           ]
          ],
          "showscale": false,
          "size": 6
         },
         "mode": "markers",
         "showlegend": false,
         "type": "scatter",
         "uid": "466f8d50-3edd-45e7-8898-e37126edb76d",
         "x": [
          45,
          96,
          54,
          96,
          96,
          87,
          64,
          76,
          63,
          46
         ],
         "xaxis": "x48",
         "y": [
          21,
          90,
          95,
          54,
          96,
          55,
          75,
          25,
          78,
          58
         ],
         "yaxis": "y48"
        },
        {
         "marker": {
          "color": [
           1,
           2,
           3,
           4,
           5,
           6,
           7,
           8,
           9,
           10
          ],
          "colorscale": [
           [
            0,
            "rgb(12, 51, 131)"
           ],
           [
            1,
            "rgb(217, 30, 30)"
           ]
          ],
          "showscale": false,
          "size": 6
         },
         "mode": "markers",
         "showlegend": false,
         "type": "scatter",
         "uid": "7e69d785-de71-445a-b5b1-b7ae12847598",
         "x": [
          56,
          78,
          89,
          86,
          78,
          52,
          61,
          87,
          89,
          77
         ],
         "xaxis": "x49",
         "y": [
          21,
          90,
          95,
          54,
          96,
          55,
          75,
          25,
          78,
          58
         ],
         "yaxis": "y49"
        },
        {
         "marker": {
          "color": [
           1,
           2,
           3,
           4,
           5,
           6,
           7,
           8,
           9,
           10
          ],
          "colorscale": [
           [
            0,
            "rgb(12, 51, 131)"
           ],
           [
            1,
            "rgb(217, 30, 30)"
           ]
          ],
          "showscale": false,
          "size": 6
         },
         "mode": "markers",
         "showlegend": false,
         "type": "scatter",
         "uid": "1ebd7f68-3d31-4994-827e-fe167ae868e7",
         "x": [
          87,
          64,
          76,
          63,
          46,
          89,
          58,
          56,
          75,
          83
         ],
         "xaxis": "x50",
         "y": [
          21,
          90,
          95,
          54,
          96,
          55,
          75,
          25,
          78,
          58
         ],
         "yaxis": "y50"
        },
        {
         "marker": {
          "color": "rgb(12, 51, 131)"
         },
         "showlegend": false,
         "type": "box",
         "uid": "46733ae1-a909-4b38-855c-06b9c83fb1aa",
         "xaxis": "x51",
         "y": [
          21,
          90,
          95,
          54,
          96,
          55,
          75,
          25,
          78,
          58
         ],
         "yaxis": "y51"
        },
        {
         "marker": {
          "color": [
           1,
           2,
           3,
           4,
           5,
           6,
           7,
           8,
           9,
           10
          ],
          "colorscale": [
           [
            0,
            "rgb(12, 51, 131)"
           ],
           [
            1,
            "rgb(217, 30, 30)"
           ]
          ],
          "showscale": false,
          "size": 6
         },
         "mode": "markers",
         "showlegend": false,
         "type": "scatter",
         "uid": "74bc5568-2367-45c0-bd1b-70bf544b6c14",
         "x": [
          52,
          61,
          87,
          89,
          77,
          89,
          58,
          56,
          75,
          83
         ],
         "xaxis": "x52",
         "y": [
          21,
          90,
          95,
          54,
          96,
          55,
          75,
          25,
          78,
          58
         ],
         "yaxis": "y52"
        },
        {
         "marker": {
          "color": [
           1,
           2,
           3,
           4,
           5,
           6,
           7,
           8,
           9,
           10
          ],
          "colorscale": [
           [
            0,
            "rgb(12, 51, 131)"
           ],
           [
            1,
            "rgb(217, 30, 30)"
           ]
          ],
          "showscale": false,
          "size": 6
         },
         "mode": "markers",
         "showlegend": false,
         "type": "scatter",
         "uid": "05fcf1bf-df3a-48cf-96bf-8b022b8a6e46",
         "x": [
          89,
          58,
          56,
          75,
          83,
          87,
          64,
          76,
          63,
          46
         ],
         "xaxis": "x53",
         "y": [
          21,
          90,
          95,
          54,
          96,
          55,
          75,
          25,
          78,
          58
         ],
         "yaxis": "y53"
        },
        {
         "marker": {
          "color": [
           1,
           2,
           3,
           4,
           5,
           6,
           7,
           8,
           9,
           10
          ],
          "colorscale": [
           [
            0,
            "rgb(12, 51, 131)"
           ],
           [
            1,
            "rgb(217, 30, 30)"
           ]
          ],
          "showscale": false,
          "size": 6
         },
         "mode": "markers",
         "showlegend": false,
         "type": "scatter",
         "uid": "fbdf612f-90f4-4e06-83e4-91ed3ab287f8",
         "x": [
          65,
          2,
          74,
          45,
          53,
          52,
          61,
          87,
          89,
          77
         ],
         "xaxis": "x54",
         "y": [
          21,
          90,
          95,
          54,
          96,
          55,
          75,
          25,
          78,
          58
         ],
         "yaxis": "y54"
        },
        {
         "marker": {
          "color": [
           1,
           2,
           3,
           4,
           5,
           6,
           7,
           8,
           9,
           10
          ],
          "colorscale": [
           [
            0,
            "rgb(12, 51, 131)"
           ],
           [
            1,
            "rgb(217, 30, 30)"
           ]
          ],
          "showscale": false,
          "size": 6
         },
         "mode": "markers",
         "showlegend": false,
         "type": "scatter",
         "uid": "69602357-e246-4ba4-8e06-4c2ec3075b8b",
         "x": [
          "M",
          "M",
          "M",
          "F",
          "F",
          "F",
          "F",
          "M",
          "F",
          "M"
         ],
         "xaxis": "x55",
         "y": [
          52,
          61,
          87,
          89,
          77,
          89,
          58,
          56,
          75,
          83
         ],
         "yaxis": "y55"
        },
        {
         "marker": {
          "color": [
           1,
           2,
           3,
           4,
           5,
           6,
           7,
           8,
           9,
           10
          ],
          "colorscale": [
           [
            0,
            "rgb(12, 51, 131)"
           ],
           [
            1,
            "rgb(217, 30, 30)"
           ]
          ],
          "showscale": false,
          "size": 6
         },
         "mode": "markers",
         "showlegend": false,
         "type": "scatter",
         "uid": "bcff9a96-4d9a-4eb7-b5e6-1f5187ac56ac",
         "x": [
          55,
          75,
          25,
          78,
          58,
          45,
          55,
          54,
          55,
          96
         ],
         "xaxis": "x56",
         "y": [
          52,
          61,
          87,
          89,
          77,
          89,
          58,
          56,
          75,
          83
         ],
         "yaxis": "y56"
        },
        {
         "marker": {
          "color": [
           1,
           2,
           3,
           4,
           5,
           6,
           7,
           8,
           9,
           10
          ],
          "colorscale": [
           [
            0,
            "rgb(12, 51, 131)"
           ],
           [
            1,
            "rgb(217, 30, 30)"
           ]
          ],
          "showscale": false,
          "size": 6
         },
         "mode": "markers",
         "showlegend": false,
         "type": "scatter",
         "uid": "c674b6ec-ee81-4500-8c6d-1a2a3f13d773",
         "x": [
          45,
          96,
          54,
          96,
          96,
          87,
          64,
          76,
          63,
          46
         ],
         "xaxis": "x57",
         "y": [
          52,
          61,
          87,
          89,
          77,
          89,
          58,
          56,
          75,
          83
         ],
         "yaxis": "y57"
        },
        {
         "marker": {
          "color": [
           1,
           2,
           3,
           4,
           5,
           6,
           7,
           8,
           9,
           10
          ],
          "colorscale": [
           [
            0,
            "rgb(12, 51, 131)"
           ],
           [
            1,
            "rgb(217, 30, 30)"
           ]
          ],
          "showscale": false,
          "size": 6
         },
         "mode": "markers",
         "showlegend": false,
         "type": "scatter",
         "uid": "6ebfdfd7-6791-417d-a385-aaaed6113233",
         "x": [
          56,
          78,
          89,
          86,
          78,
          52,
          61,
          87,
          89,
          77
         ],
         "xaxis": "x58",
         "y": [
          52,
          61,
          87,
          89,
          77,
          89,
          58,
          56,
          75,
          83
         ],
         "yaxis": "y58"
        },
        {
         "marker": {
          "color": [
           1,
           2,
           3,
           4,
           5,
           6,
           7,
           8,
           9,
           10
          ],
          "colorscale": [
           [
            0,
            "rgb(12, 51, 131)"
           ],
           [
            1,
            "rgb(217, 30, 30)"
           ]
          ],
          "showscale": false,
          "size": 6
         },
         "mode": "markers",
         "showlegend": false,
         "type": "scatter",
         "uid": "322f146c-eabd-41eb-bd7b-6f538f2a7e16",
         "x": [
          87,
          64,
          76,
          63,
          46,
          89,
          58,
          56,
          75,
          83
         ],
         "xaxis": "x59",
         "y": [
          52,
          61,
          87,
          89,
          77,
          89,
          58,
          56,
          75,
          83
         ],
         "yaxis": "y59"
        },
        {
         "marker": {
          "color": [
           1,
           2,
           3,
           4,
           5,
           6,
           7,
           8,
           9,
           10
          ],
          "colorscale": [
           [
            0,
            "rgb(12, 51, 131)"
           ],
           [
            1,
            "rgb(217, 30, 30)"
           ]
          ],
          "showscale": false,
          "size": 6
         },
         "mode": "markers",
         "showlegend": false,
         "type": "scatter",
         "uid": "dea6965f-6b83-4213-b15f-970789665d21",
         "x": [
          21,
          90,
          95,
          54,
          96,
          55,
          75,
          25,
          78,
          58
         ],
         "xaxis": "x60",
         "y": [
          52,
          61,
          87,
          89,
          77,
          89,
          58,
          56,
          75,
          83
         ],
         "yaxis": "y60"
        },
        {
         "marker": {
          "color": "rgb(12, 51, 131)"
         },
         "showlegend": false,
         "type": "box",
         "uid": "1bd017e4-390f-452a-b931-364355300c27",
         "xaxis": "x61",
         "y": [
          52,
          61,
          87,
          89,
          77,
          89,
          58,
          56,
          75,
          83
         ],
         "yaxis": "y61"
        },
        {
         "marker": {
          "color": [
           1,
           2,
           3,
           4,
           5,
           6,
           7,
           8,
           9,
           10
          ],
          "colorscale": [
           [
            0,
            "rgb(12, 51, 131)"
           ],
           [
            1,
            "rgb(217, 30, 30)"
           ]
          ],
          "showscale": false,
          "size": 6
         },
         "mode": "markers",
         "showlegend": false,
         "type": "scatter",
         "uid": "fad020a1-6da9-41b3-9d89-c9e6d3ecb1b1",
         "x": [
          89,
          58,
          56,
          75,
          83,
          87,
          64,
          76,
          63,
          46
         ],
         "xaxis": "x62",
         "y": [
          52,
          61,
          87,
          89,
          77,
          89,
          58,
          56,
          75,
          83
         ],
         "yaxis": "y62"
        },
        {
         "marker": {
          "color": [
           1,
           2,
           3,
           4,
           5,
           6,
           7,
           8,
           9,
           10
          ],
          "colorscale": [
           [
            0,
            "rgb(12, 51, 131)"
           ],
           [
            1,
            "rgb(217, 30, 30)"
           ]
          ],
          "showscale": false,
          "size": 6
         },
         "mode": "markers",
         "showlegend": false,
         "type": "scatter",
         "uid": "e9ad14f8-a412-473b-9b57-512a4eeb8e9b",
         "x": [
          65,
          2,
          74,
          45,
          53,
          52,
          61,
          87,
          89,
          77
         ],
         "xaxis": "x63",
         "y": [
          52,
          61,
          87,
          89,
          77,
          89,
          58,
          56,
          75,
          83
         ],
         "yaxis": "y63"
        },
        {
         "marker": {
          "color": [
           1,
           2,
           3,
           4,
           5,
           6,
           7,
           8,
           9,
           10
          ],
          "colorscale": [
           [
            0,
            "rgb(12, 51, 131)"
           ],
           [
            1,
            "rgb(217, 30, 30)"
           ]
          ],
          "showscale": false,
          "size": 6
         },
         "mode": "markers",
         "showlegend": false,
         "type": "scatter",
         "uid": "09b5ced4-5b56-4786-b64b-247430b7e0f2",
         "x": [
          "M",
          "M",
          "M",
          "F",
          "F",
          "F",
          "F",
          "M",
          "F",
          "M"
         ],
         "xaxis": "x64",
         "y": [
          89,
          58,
          56,
          75,
          83,
          87,
          64,
          76,
          63,
          46
         ],
         "yaxis": "y64"
        },
        {
         "marker": {
          "color": [
           1,
           2,
           3,
           4,
           5,
           6,
           7,
           8,
           9,
           10
          ],
          "colorscale": [
           [
            0,
            "rgb(12, 51, 131)"
           ],
           [
            1,
            "rgb(217, 30, 30)"
           ]
          ],
          "showscale": false,
          "size": 6
         },
         "mode": "markers",
         "showlegend": false,
         "type": "scatter",
         "uid": "6d5e8b45-f99a-46eb-a501-f2a371a39809",
         "x": [
          55,
          75,
          25,
          78,
          58,
          45,
          55,
          54,
          55,
          96
         ],
         "xaxis": "x65",
         "y": [
          89,
          58,
          56,
          75,
          83,
          87,
          64,
          76,
          63,
          46
         ],
         "yaxis": "y65"
        },
        {
         "marker": {
          "color": [
           1,
           2,
           3,
           4,
           5,
           6,
           7,
           8,
           9,
           10
          ],
          "colorscale": [
           [
            0,
            "rgb(12, 51, 131)"
           ],
           [
            1,
            "rgb(217, 30, 30)"
           ]
          ],
          "showscale": false,
          "size": 6
         },
         "mode": "markers",
         "showlegend": false,
         "type": "scatter",
         "uid": "84d3598d-90e1-464b-9a5d-6b267706d7b4",
         "x": [
          45,
          96,
          54,
          96,
          96,
          87,
          64,
          76,
          63,
          46
         ],
         "xaxis": "x66",
         "y": [
          89,
          58,
          56,
          75,
          83,
          87,
          64,
          76,
          63,
          46
         ],
         "yaxis": "y66"
        },
        {
         "marker": {
          "color": [
           1,
           2,
           3,
           4,
           5,
           6,
           7,
           8,
           9,
           10
          ],
          "colorscale": [
           [
            0,
            "rgb(12, 51, 131)"
           ],
           [
            1,
            "rgb(217, 30, 30)"
           ]
          ],
          "showscale": false,
          "size": 6
         },
         "mode": "markers",
         "showlegend": false,
         "type": "scatter",
         "uid": "e561362a-e536-4bc4-9ce5-7505aef16a92",
         "x": [
          56,
          78,
          89,
          86,
          78,
          52,
          61,
          87,
          89,
          77
         ],
         "xaxis": "x67",
         "y": [
          89,
          58,
          56,
          75,
          83,
          87,
          64,
          76,
          63,
          46
         ],
         "yaxis": "y67"
        },
        {
         "marker": {
          "color": [
           1,
           2,
           3,
           4,
           5,
           6,
           7,
           8,
           9,
           10
          ],
          "colorscale": [
           [
            0,
            "rgb(12, 51, 131)"
           ],
           [
            1,
            "rgb(217, 30, 30)"
           ]
          ],
          "showscale": false,
          "size": 6
         },
         "mode": "markers",
         "showlegend": false,
         "type": "scatter",
         "uid": "864e08b4-db05-4d4b-9c1f-5d088cf3c139",
         "x": [
          87,
          64,
          76,
          63,
          46,
          89,
          58,
          56,
          75,
          83
         ],
         "xaxis": "x68",
         "y": [
          89,
          58,
          56,
          75,
          83,
          87,
          64,
          76,
          63,
          46
         ],
         "yaxis": "y68"
        },
        {
         "marker": {
          "color": [
           1,
           2,
           3,
           4,
           5,
           6,
           7,
           8,
           9,
           10
          ],
          "colorscale": [
           [
            0,
            "rgb(12, 51, 131)"
           ],
           [
            1,
            "rgb(217, 30, 30)"
           ]
          ],
          "showscale": false,
          "size": 6
         },
         "mode": "markers",
         "showlegend": false,
         "type": "scatter",
         "uid": "0e709d55-fe15-4d21-8233-511701cd9596",
         "x": [
          21,
          90,
          95,
          54,
          96,
          55,
          75,
          25,
          78,
          58
         ],
         "xaxis": "x69",
         "y": [
          89,
          58,
          56,
          75,
          83,
          87,
          64,
          76,
          63,
          46
         ],
         "yaxis": "y69"
        },
        {
         "marker": {
          "color": [
           1,
           2,
           3,
           4,
           5,
           6,
           7,
           8,
           9,
           10
          ],
          "colorscale": [
           [
            0,
            "rgb(12, 51, 131)"
           ],
           [
            1,
            "rgb(217, 30, 30)"
           ]
          ],
          "showscale": false,
          "size": 6
         },
         "mode": "markers",
         "showlegend": false,
         "type": "scatter",
         "uid": "ac99a0ab-7f30-42bd-bae4-1afac873790f",
         "x": [
          52,
          61,
          87,
          89,
          77,
          89,
          58,
          56,
          75,
          83
         ],
         "xaxis": "x70",
         "y": [
          89,
          58,
          56,
          75,
          83,
          87,
          64,
          76,
          63,
          46
         ],
         "yaxis": "y70"
        },
        {
         "marker": {
          "color": "rgb(12, 51, 131)"
         },
         "showlegend": false,
         "type": "box",
         "uid": "dac83c0c-aae3-4b5c-9f9f-a3b11115badb",
         "xaxis": "x71",
         "y": [
          89,
          58,
          56,
          75,
          83,
          87,
          64,
          76,
          63,
          46
         ],
         "yaxis": "y71"
        },
        {
         "marker": {
          "color": [
           1,
           2,
           3,
           4,
           5,
           6,
           7,
           8,
           9,
           10
          ],
          "colorscale": [
           [
            0,
            "rgb(12, 51, 131)"
           ],
           [
            1,
            "rgb(217, 30, 30)"
           ]
          ],
          "showscale": false,
          "size": 6
         },
         "mode": "markers",
         "showlegend": false,
         "type": "scatter",
         "uid": "4f03bda6-0927-4205-b758-33566d0732cc",
         "x": [
          65,
          2,
          74,
          45,
          53,
          52,
          61,
          87,
          89,
          77
         ],
         "xaxis": "x72",
         "y": [
          89,
          58,
          56,
          75,
          83,
          87,
          64,
          76,
          63,
          46
         ],
         "yaxis": "y72"
        },
        {
         "marker": {
          "color": [
           1,
           2,
           3,
           4,
           5,
           6,
           7,
           8,
           9,
           10
          ],
          "colorscale": [
           [
            0,
            "rgb(12, 51, 131)"
           ],
           [
            1,
            "rgb(217, 30, 30)"
           ]
          ],
          "showscale": false,
          "size": 6
         },
         "mode": "markers",
         "showlegend": false,
         "type": "scatter",
         "uid": "599a2b28-c425-4e14-86bd-dac16840686b",
         "x": [
          "M",
          "M",
          "M",
          "F",
          "F",
          "F",
          "F",
          "M",
          "F",
          "M"
         ],
         "xaxis": "x73",
         "y": [
          65,
          2,
          74,
          45,
          53,
          52,
          61,
          87,
          89,
          77
         ],
         "yaxis": "y73"
        },
        {
         "marker": {
          "color": [
           1,
           2,
           3,
           4,
           5,
           6,
           7,
           8,
           9,
           10
          ],
          "colorscale": [
           [
            0,
            "rgb(12, 51, 131)"
           ],
           [
            1,
            "rgb(217, 30, 30)"
           ]
          ],
          "showscale": false,
          "size": 6
         },
         "mode": "markers",
         "showlegend": false,
         "type": "scatter",
         "uid": "861f483c-423e-4993-9b3d-574517c02882",
         "x": [
          55,
          75,
          25,
          78,
          58,
          45,
          55,
          54,
          55,
          96
         ],
         "xaxis": "x74",
         "y": [
          65,
          2,
          74,
          45,
          53,
          52,
          61,
          87,
          89,
          77
         ],
         "yaxis": "y74"
        },
        {
         "marker": {
          "color": [
           1,
           2,
           3,
           4,
           5,
           6,
           7,
           8,
           9,
           10
          ],
          "colorscale": [
           [
            0,
            "rgb(12, 51, 131)"
           ],
           [
            1,
            "rgb(217, 30, 30)"
           ]
          ],
          "showscale": false,
          "size": 6
         },
         "mode": "markers",
         "showlegend": false,
         "type": "scatter",
         "uid": "1b8c7cfb-f42c-4f5b-80d6-468723484db0",
         "x": [
          45,
          96,
          54,
          96,
          96,
          87,
          64,
          76,
          63,
          46
         ],
         "xaxis": "x75",
         "y": [
          65,
          2,
          74,
          45,
          53,
          52,
          61,
          87,
          89,
          77
         ],
         "yaxis": "y75"
        },
        {
         "marker": {
          "color": [
           1,
           2,
           3,
           4,
           5,
           6,
           7,
           8,
           9,
           10
          ],
          "colorscale": [
           [
            0,
            "rgb(12, 51, 131)"
           ],
           [
            1,
            "rgb(217, 30, 30)"
           ]
          ],
          "showscale": false,
          "size": 6
         },
         "mode": "markers",
         "showlegend": false,
         "type": "scatter",
         "uid": "57516472-8bc4-4068-8e02-3bf1672ca255",
         "x": [
          56,
          78,
          89,
          86,
          78,
          52,
          61,
          87,
          89,
          77
         ],
         "xaxis": "x76",
         "y": [
          65,
          2,
          74,
          45,
          53,
          52,
          61,
          87,
          89,
          77
         ],
         "yaxis": "y76"
        },
        {
         "marker": {
          "color": [
           1,
           2,
           3,
           4,
           5,
           6,
           7,
           8,
           9,
           10
          ],
          "colorscale": [
           [
            0,
            "rgb(12, 51, 131)"
           ],
           [
            1,
            "rgb(217, 30, 30)"
           ]
          ],
          "showscale": false,
          "size": 6
         },
         "mode": "markers",
         "showlegend": false,
         "type": "scatter",
         "uid": "defb3162-2045-40da-bf62-89bfa51485c1",
         "x": [
          87,
          64,
          76,
          63,
          46,
          89,
          58,
          56,
          75,
          83
         ],
         "xaxis": "x77",
         "y": [
          65,
          2,
          74,
          45,
          53,
          52,
          61,
          87,
          89,
          77
         ],
         "yaxis": "y77"
        },
        {
         "marker": {
          "color": [
           1,
           2,
           3,
           4,
           5,
           6,
           7,
           8,
           9,
           10
          ],
          "colorscale": [
           [
            0,
            "rgb(12, 51, 131)"
           ],
           [
            1,
            "rgb(217, 30, 30)"
           ]
          ],
          "showscale": false,
          "size": 6
         },
         "mode": "markers",
         "showlegend": false,
         "type": "scatter",
         "uid": "21c5c594-5ef3-4041-84f9-f43d86c8a02f",
         "x": [
          21,
          90,
          95,
          54,
          96,
          55,
          75,
          25,
          78,
          58
         ],
         "xaxis": "x78",
         "y": [
          65,
          2,
          74,
          45,
          53,
          52,
          61,
          87,
          89,
          77
         ],
         "yaxis": "y78"
        },
        {
         "marker": {
          "color": [
           1,
           2,
           3,
           4,
           5,
           6,
           7,
           8,
           9,
           10
          ],
          "colorscale": [
           [
            0,
            "rgb(12, 51, 131)"
           ],
           [
            1,
            "rgb(217, 30, 30)"
           ]
          ],
          "showscale": false,
          "size": 6
         },
         "mode": "markers",
         "showlegend": false,
         "type": "scatter",
         "uid": "28a61562-45f3-4d75-81e0-6a4467bb0f63",
         "x": [
          52,
          61,
          87,
          89,
          77,
          89,
          58,
          56,
          75,
          83
         ],
         "xaxis": "x79",
         "y": [
          65,
          2,
          74,
          45,
          53,
          52,
          61,
          87,
          89,
          77
         ],
         "yaxis": "y79"
        },
        {
         "marker": {
          "color": [
           1,
           2,
           3,
           4,
           5,
           6,
           7,
           8,
           9,
           10
          ],
          "colorscale": [
           [
            0,
            "rgb(12, 51, 131)"
           ],
           [
            1,
            "rgb(217, 30, 30)"
           ]
          ],
          "showscale": false,
          "size": 6
         },
         "mode": "markers",
         "showlegend": false,
         "type": "scatter",
         "uid": "bd1d57f3-f545-4db1-8777-5a48d4395688",
         "x": [
          89,
          58,
          56,
          75,
          83,
          87,
          64,
          76,
          63,
          46
         ],
         "xaxis": "x80",
         "y": [
          65,
          2,
          74,
          45,
          53,
          52,
          61,
          87,
          89,
          77
         ],
         "yaxis": "y80"
        },
        {
         "marker": {
          "color": "rgb(12, 51, 131)"
         },
         "showlegend": false,
         "type": "box",
         "uid": "8ed73553-e501-4d6e-9f8f-d45e577e016f",
         "xaxis": "x81",
         "y": [
          65,
          2,
          74,
          45,
          53,
          52,
          61,
          87,
          89,
          77
         ],
         "yaxis": "y81"
        }
       ],
       "layout": {
        "height": 800,
        "showlegend": true,
        "title": {
         "text": "Scatterplot Matrix"
        },
        "width": 800,
        "xaxis": {
         "anchor": "y",
         "domain": [
          0,
          0.09135802469135802
         ],
         "showticklabels": false
        },
        "xaxis10": {
         "anchor": "y10",
         "domain": [
          0,
          0.09135802469135802
         ]
        },
        "xaxis11": {
         "anchor": "y11",
         "domain": [
          0.11358024691358025,
          0.20493827160493827
         ],
         "showticklabels": false
        },
        "xaxis12": {
         "anchor": "y12",
         "domain": [
          0.2271604938271605,
          0.31851851851851853
         ]
        },
        "xaxis13": {
         "anchor": "y13",
         "domain": [
          0.34074074074074073,
          0.43209876543209874
         ]
        },
        "xaxis14": {
         "anchor": "y14",
         "domain": [
          0.454320987654321,
          0.5456790123456791
         ]
        },
        "xaxis15": {
         "anchor": "y15",
         "domain": [
          0.5679012345679012,
          0.6592592592592592
         ]
        },
        "xaxis16": {
         "anchor": "y16",
         "domain": [
          0.6814814814814815,
          0.7728395061728395
         ]
        },
        "xaxis17": {
         "anchor": "y17",
         "domain": [
          0.7950617283950617,
          0.8864197530864197
         ]
        },
        "xaxis18": {
         "anchor": "y18",
         "domain": [
          0.908641975308642,
          1
         ]
        },
        "xaxis19": {
         "anchor": "y19",
         "domain": [
          0,
          0.09135802469135802
         ]
        },
        "xaxis2": {
         "anchor": "y2",
         "domain": [
          0.11358024691358025,
          0.20493827160493827
         ]
        },
        "xaxis20": {
         "anchor": "y20",
         "domain": [
          0.11358024691358025,
          0.20493827160493827
         ]
        },
        "xaxis21": {
         "anchor": "y21",
         "domain": [
          0.2271604938271605,
          0.31851851851851853
         ],
         "showticklabels": false
        },
        "xaxis22": {
         "anchor": "y22",
         "domain": [
          0.34074074074074073,
          0.43209876543209874
         ]
        },
        "xaxis23": {
         "anchor": "y23",
         "domain": [
          0.454320987654321,
          0.5456790123456791
         ]
        },
        "xaxis24": {
         "anchor": "y24",
         "domain": [
          0.5679012345679012,
          0.6592592592592592
         ]
        },
        "xaxis25": {
         "anchor": "y25",
         "domain": [
          0.6814814814814815,
          0.7728395061728395
         ]
        },
        "xaxis26": {
         "anchor": "y26",
         "domain": [
          0.7950617283950617,
          0.8864197530864197
         ]
        },
        "xaxis27": {
         "anchor": "y27",
         "domain": [
          0.908641975308642,
          1
         ]
        },
        "xaxis28": {
         "anchor": "y28",
         "domain": [
          0,
          0.09135802469135802
         ]
        },
        "xaxis29": {
         "anchor": "y29",
         "domain": [
          0.11358024691358025,
          0.20493827160493827
         ]
        },
        "xaxis3": {
         "anchor": "y3",
         "domain": [
          0.2271604938271605,
          0.31851851851851853
         ]
        },
        "xaxis30": {
         "anchor": "y30",
         "domain": [
          0.2271604938271605,
          0.31851851851851853
         ]
        },
        "xaxis31": {
         "anchor": "y31",
         "domain": [
          0.34074074074074073,
          0.43209876543209874
         ],
         "showticklabels": false
        },
        "xaxis32": {
         "anchor": "y32",
         "domain": [
          0.454320987654321,
          0.5456790123456791
         ]
        },
        "xaxis33": {
         "anchor": "y33",
         "domain": [
          0.5679012345679012,
          0.6592592592592592
         ]
        },
        "xaxis34": {
         "anchor": "y34",
         "domain": [
          0.6814814814814815,
          0.7728395061728395
         ]
        },
        "xaxis35": {
         "anchor": "y35",
         "domain": [
          0.7950617283950617,
          0.8864197530864197
         ]
        },
        "xaxis36": {
         "anchor": "y36",
         "domain": [
          0.908641975308642,
          1
         ]
        },
        "xaxis37": {
         "anchor": "y37",
         "domain": [
          0,
          0.09135802469135802
         ]
        },
        "xaxis38": {
         "anchor": "y38",
         "domain": [
          0.11358024691358025,
          0.20493827160493827
         ]
        },
        "xaxis39": {
         "anchor": "y39",
         "domain": [
          0.2271604938271605,
          0.31851851851851853
         ]
        },
        "xaxis4": {
         "anchor": "y4",
         "domain": [
          0.34074074074074073,
          0.43209876543209874
         ]
        },
        "xaxis40": {
         "anchor": "y40",
         "domain": [
          0.34074074074074073,
          0.43209876543209874
         ]
        },
        "xaxis41": {
         "anchor": "y41",
         "domain": [
          0.454320987654321,
          0.5456790123456791
         ],
         "showticklabels": false
        },
        "xaxis42": {
         "anchor": "y42",
         "domain": [
          0.5679012345679012,
          0.6592592592592592
         ]
        },
        "xaxis43": {
         "anchor": "y43",
         "domain": [
          0.6814814814814815,
          0.7728395061728395
         ]
        },
        "xaxis44": {
         "anchor": "y44",
         "domain": [
          0.7950617283950617,
          0.8864197530864197
         ]
        },
        "xaxis45": {
         "anchor": "y45",
         "domain": [
          0.908641975308642,
          1
         ]
        },
        "xaxis46": {
         "anchor": "y46",
         "domain": [
          0,
          0.09135802469135802
         ]
        },
        "xaxis47": {
         "anchor": "y47",
         "domain": [
          0.11358024691358025,
          0.20493827160493827
         ]
        },
        "xaxis48": {
         "anchor": "y48",
         "domain": [
          0.2271604938271605,
          0.31851851851851853
         ]
        },
        "xaxis49": {
         "anchor": "y49",
         "domain": [
          0.34074074074074073,
          0.43209876543209874
         ]
        },
        "xaxis5": {
         "anchor": "y5",
         "domain": [
          0.454320987654321,
          0.5456790123456791
         ]
        },
        "xaxis50": {
         "anchor": "y50",
         "domain": [
          0.454320987654321,
          0.5456790123456791
         ]
        },
        "xaxis51": {
         "anchor": "y51",
         "domain": [
          0.5679012345679012,
          0.6592592592592592
         ],
         "showticklabels": false
        },
        "xaxis52": {
         "anchor": "y52",
         "domain": [
          0.6814814814814815,
          0.7728395061728395
         ]
        },
        "xaxis53": {
         "anchor": "y53",
         "domain": [
          0.7950617283950617,
          0.8864197530864197
         ]
        },
        "xaxis54": {
         "anchor": "y54",
         "domain": [
          0.908641975308642,
          1
         ]
        },
        "xaxis55": {
         "anchor": "y55",
         "domain": [
          0,
          0.09135802469135802
         ]
        },
        "xaxis56": {
         "anchor": "y56",
         "domain": [
          0.11358024691358025,
          0.20493827160493827
         ]
        },
        "xaxis57": {
         "anchor": "y57",
         "domain": [
          0.2271604938271605,
          0.31851851851851853
         ]
        },
        "xaxis58": {
         "anchor": "y58",
         "domain": [
          0.34074074074074073,
          0.43209876543209874
         ]
        },
        "xaxis59": {
         "anchor": "y59",
         "domain": [
          0.454320987654321,
          0.5456790123456791
         ]
        },
        "xaxis6": {
         "anchor": "y6",
         "domain": [
          0.5679012345679012,
          0.6592592592592592
         ]
        },
        "xaxis60": {
         "anchor": "y60",
         "domain": [
          0.5679012345679012,
          0.6592592592592592
         ]
        },
        "xaxis61": {
         "anchor": "y61",
         "domain": [
          0.6814814814814815,
          0.7728395061728395
         ],
         "showticklabels": false
        },
        "xaxis62": {
         "anchor": "y62",
         "domain": [
          0.7950617283950617,
          0.8864197530864197
         ]
        },
        "xaxis63": {
         "anchor": "y63",
         "domain": [
          0.908641975308642,
          1
         ]
        },
        "xaxis64": {
         "anchor": "y64",
         "domain": [
          0,
          0.09135802469135802
         ]
        },
        "xaxis65": {
         "anchor": "y65",
         "domain": [
          0.11358024691358025,
          0.20493827160493827
         ]
        },
        "xaxis66": {
         "anchor": "y66",
         "domain": [
          0.2271604938271605,
          0.31851851851851853
         ]
        },
        "xaxis67": {
         "anchor": "y67",
         "domain": [
          0.34074074074074073,
          0.43209876543209874
         ]
        },
        "xaxis68": {
         "anchor": "y68",
         "domain": [
          0.454320987654321,
          0.5456790123456791
         ]
        },
        "xaxis69": {
         "anchor": "y69",
         "domain": [
          0.5679012345679012,
          0.6592592592592592
         ]
        },
        "xaxis7": {
         "anchor": "y7",
         "domain": [
          0.6814814814814815,
          0.7728395061728395
         ]
        },
        "xaxis70": {
         "anchor": "y70",
         "domain": [
          0.6814814814814815,
          0.7728395061728395
         ]
        },
        "xaxis71": {
         "anchor": "y71",
         "domain": [
          0.7950617283950617,
          0.8864197530864197
         ],
         "showticklabels": false
        },
        "xaxis72": {
         "anchor": "y72",
         "domain": [
          0.908641975308642,
          1
         ]
        },
        "xaxis73": {
         "anchor": "y73",
         "domain": [
          0,
          0.09135802469135802
         ],
         "title": {
          "text": "Gender"
         }
        },
        "xaxis74": {
         "anchor": "y74",
         "domain": [
          0.11358024691358025,
          0.20493827160493827
         ],
         "title": {
          "text": "Maths"
         }
        },
        "xaxis75": {
         "anchor": "y75",
         "domain": [
          0.2271604938271605,
          0.31851851851851853
         ],
         "title": {
          "text": "Physics"
         }
        },
        "xaxis76": {
         "anchor": "y76",
         "domain": [
          0.34074074074074073,
          0.43209876543209874
         ],
         "title": {
          "text": "Chemistry"
         }
        },
        "xaxis77": {
         "anchor": "y77",
         "domain": [
          0.454320987654321,
          0.5456790123456791
         ],
         "title": {
          "text": "English"
         }
        },
        "xaxis78": {
         "anchor": "y78",
         "domain": [
          0.5679012345679012,
          0.6592592592592592
         ],
         "title": {
          "text": "Biology"
         }
        },
        "xaxis79": {
         "anchor": "y79",
         "domain": [
          0.6814814814814815,
          0.7728395061728395
         ],
         "title": {
          "text": "Economics"
         }
        },
        "xaxis8": {
         "anchor": "y8",
         "domain": [
          0.7950617283950617,
          0.8864197530864197
         ]
        },
        "xaxis80": {
         "anchor": "y80",
         "domain": [
          0.7950617283950617,
          0.8864197530864197
         ],
         "title": {
          "text": "History"
         }
        },
        "xaxis81": {
         "anchor": "y81",
         "domain": [
          0.908641975308642,
          1
         ],
         "showticklabels": false,
         "title": {
          "text": "Civics"
         }
        },
        "xaxis9": {
         "anchor": "y9",
         "domain": [
          0.908641975308642,
          1
         ]
        },
        "yaxis": {
         "anchor": "x",
         "domain": [
          0.9185185185185185,
          1
         ],
         "title": {
          "text": "Gender"
         }
        },
        "yaxis10": {
         "anchor": "x10",
         "domain": [
          0.8037037037037038,
          0.8851851851851853
         ],
         "title": {
          "text": "Maths"
         }
        },
        "yaxis11": {
         "anchor": "x11",
         "domain": [
          0.8037037037037038,
          0.8851851851851853
         ]
        },
        "yaxis12": {
         "anchor": "x12",
         "domain": [
          0.8037037037037038,
          0.8851851851851853
         ]
        },
        "yaxis13": {
         "anchor": "x13",
         "domain": [
          0.8037037037037038,
          0.8851851851851853
         ]
        },
        "yaxis14": {
         "anchor": "x14",
         "domain": [
          0.8037037037037038,
          0.8851851851851853
         ]
        },
        "yaxis15": {
         "anchor": "x15",
         "domain": [
          0.8037037037037038,
          0.8851851851851853
         ]
        },
        "yaxis16": {
         "anchor": "x16",
         "domain": [
          0.8037037037037038,
          0.8851851851851853
         ]
        },
        "yaxis17": {
         "anchor": "x17",
         "domain": [
          0.8037037037037038,
          0.8851851851851853
         ]
        },
        "yaxis18": {
         "anchor": "x18",
         "domain": [
          0.8037037037037038,
          0.8851851851851853
         ]
        },
        "yaxis19": {
         "anchor": "x19",
         "domain": [
          0.6888888888888889,
          0.7703703703703704
         ],
         "title": {
          "text": "Physics"
         }
        },
        "yaxis2": {
         "anchor": "x2",
         "domain": [
          0.9185185185185185,
          1
         ]
        },
        "yaxis20": {
         "anchor": "x20",
         "domain": [
          0.6888888888888889,
          0.7703703703703704
         ]
        },
        "yaxis21": {
         "anchor": "x21",
         "domain": [
          0.6888888888888889,
          0.7703703703703704
         ]
        },
        "yaxis22": {
         "anchor": "x22",
         "domain": [
          0.6888888888888889,
          0.7703703703703704
         ]
        },
        "yaxis23": {
         "anchor": "x23",
         "domain": [
          0.6888888888888889,
          0.7703703703703704
         ]
        },
        "yaxis24": {
         "anchor": "x24",
         "domain": [
          0.6888888888888889,
          0.7703703703703704
         ]
        },
        "yaxis25": {
         "anchor": "x25",
         "domain": [
          0.6888888888888889,
          0.7703703703703704
         ]
        },
        "yaxis26": {
         "anchor": "x26",
         "domain": [
          0.6888888888888889,
          0.7703703703703704
         ]
        },
        "yaxis27": {
         "anchor": "x27",
         "domain": [
          0.6888888888888889,
          0.7703703703703704
         ]
        },
        "yaxis28": {
         "anchor": "x28",
         "domain": [
          0.5740740740740741,
          0.6555555555555556
         ],
         "title": {
          "text": "Chemistry"
         }
        },
        "yaxis29": {
         "anchor": "x29",
         "domain": [
          0.5740740740740741,
          0.6555555555555556
         ]
        },
        "yaxis3": {
         "anchor": "x3",
         "domain": [
          0.9185185185185185,
          1
         ]
        },
        "yaxis30": {
         "anchor": "x30",
         "domain": [
          0.5740740740740741,
          0.6555555555555556
         ]
        },
        "yaxis31": {
         "anchor": "x31",
         "domain": [
          0.5740740740740741,
          0.6555555555555556
         ]
        },
        "yaxis32": {
         "anchor": "x32",
         "domain": [
          0.5740740740740741,
          0.6555555555555556
         ]
        },
        "yaxis33": {
         "anchor": "x33",
         "domain": [
          0.5740740740740741,
          0.6555555555555556
         ]
        },
        "yaxis34": {
         "anchor": "x34",
         "domain": [
          0.5740740740740741,
          0.6555555555555556
         ]
        },
        "yaxis35": {
         "anchor": "x35",
         "domain": [
          0.5740740740740741,
          0.6555555555555556
         ]
        },
        "yaxis36": {
         "anchor": "x36",
         "domain": [
          0.5740740740740741,
          0.6555555555555556
         ]
        },
        "yaxis37": {
         "anchor": "x37",
         "domain": [
          0.45925925925925926,
          0.5407407407407407
         ],
         "title": {
          "text": "English"
         }
        },
        "yaxis38": {
         "anchor": "x38",
         "domain": [
          0.45925925925925926,
          0.5407407407407407
         ]
        },
        "yaxis39": {
         "anchor": "x39",
         "domain": [
          0.45925925925925926,
          0.5407407407407407
         ]
        },
        "yaxis4": {
         "anchor": "x4",
         "domain": [
          0.9185185185185185,
          1
         ]
        },
        "yaxis40": {
         "anchor": "x40",
         "domain": [
          0.45925925925925926,
          0.5407407407407407
         ]
        },
        "yaxis41": {
         "anchor": "x41",
         "domain": [
          0.45925925925925926,
          0.5407407407407407
         ]
        },
        "yaxis42": {
         "anchor": "x42",
         "domain": [
          0.45925925925925926,
          0.5407407407407407
         ]
        },
        "yaxis43": {
         "anchor": "x43",
         "domain": [
          0.45925925925925926,
          0.5407407407407407
         ]
        },
        "yaxis44": {
         "anchor": "x44",
         "domain": [
          0.45925925925925926,
          0.5407407407407407
         ]
        },
        "yaxis45": {
         "anchor": "x45",
         "domain": [
          0.45925925925925926,
          0.5407407407407407
         ]
        },
        "yaxis46": {
         "anchor": "x46",
         "domain": [
          0.34444444444444444,
          0.42592592592592593
         ],
         "title": {
          "text": "Biology"
         }
        },
        "yaxis47": {
         "anchor": "x47",
         "domain": [
          0.34444444444444444,
          0.42592592592592593
         ]
        },
        "yaxis48": {
         "anchor": "x48",
         "domain": [
          0.34444444444444444,
          0.42592592592592593
         ]
        },
        "yaxis49": {
         "anchor": "x49",
         "domain": [
          0.34444444444444444,
          0.42592592592592593
         ]
        },
        "yaxis5": {
         "anchor": "x5",
         "domain": [
          0.9185185185185185,
          1
         ]
        },
        "yaxis50": {
         "anchor": "x50",
         "domain": [
          0.34444444444444444,
          0.42592592592592593
         ]
        },
        "yaxis51": {
         "anchor": "x51",
         "domain": [
          0.34444444444444444,
          0.42592592592592593
         ]
        },
        "yaxis52": {
         "anchor": "x52",
         "domain": [
          0.34444444444444444,
          0.42592592592592593
         ]
        },
        "yaxis53": {
         "anchor": "x53",
         "domain": [
          0.34444444444444444,
          0.42592592592592593
         ]
        },
        "yaxis54": {
         "anchor": "x54",
         "domain": [
          0.34444444444444444,
          0.42592592592592593
         ]
        },
        "yaxis55": {
         "anchor": "x55",
         "domain": [
          0.22962962962962963,
          0.3111111111111111
         ],
         "title": {
          "text": "Economics"
         }
        },
        "yaxis56": {
         "anchor": "x56",
         "domain": [
          0.22962962962962963,
          0.3111111111111111
         ]
        },
        "yaxis57": {
         "anchor": "x57",
         "domain": [
          0.22962962962962963,
          0.3111111111111111
         ]
        },
        "yaxis58": {
         "anchor": "x58",
         "domain": [
          0.22962962962962963,
          0.3111111111111111
         ]
        },
        "yaxis59": {
         "anchor": "x59",
         "domain": [
          0.22962962962962963,
          0.3111111111111111
         ]
        },
        "yaxis6": {
         "anchor": "x6",
         "domain": [
          0.9185185185185185,
          1
         ]
        },
        "yaxis60": {
         "anchor": "x60",
         "domain": [
          0.22962962962962963,
          0.3111111111111111
         ]
        },
        "yaxis61": {
         "anchor": "x61",
         "domain": [
          0.22962962962962963,
          0.3111111111111111
         ]
        },
        "yaxis62": {
         "anchor": "x62",
         "domain": [
          0.22962962962962963,
          0.3111111111111111
         ]
        },
        "yaxis63": {
         "anchor": "x63",
         "domain": [
          0.22962962962962963,
          0.3111111111111111
         ]
        },
        "yaxis64": {
         "anchor": "x64",
         "domain": [
          0.11481481481481481,
          0.1962962962962963
         ],
         "title": {
          "text": "History"
         }
        },
        "yaxis65": {
         "anchor": "x65",
         "domain": [
          0.11481481481481481,
          0.1962962962962963
         ]
        },
        "yaxis66": {
         "anchor": "x66",
         "domain": [
          0.11481481481481481,
          0.1962962962962963
         ]
        },
        "yaxis67": {
         "anchor": "x67",
         "domain": [
          0.11481481481481481,
          0.1962962962962963
         ]
        },
        "yaxis68": {
         "anchor": "x68",
         "domain": [
          0.11481481481481481,
          0.1962962962962963
         ]
        },
        "yaxis69": {
         "anchor": "x69",
         "domain": [
          0.11481481481481481,
          0.1962962962962963
         ]
        },
        "yaxis7": {
         "anchor": "x7",
         "domain": [
          0.9185185185185185,
          1
         ]
        },
        "yaxis70": {
         "anchor": "x70",
         "domain": [
          0.11481481481481481,
          0.1962962962962963
         ]
        },
        "yaxis71": {
         "anchor": "x71",
         "domain": [
          0.11481481481481481,
          0.1962962962962963
         ]
        },
        "yaxis72": {
         "anchor": "x72",
         "domain": [
          0.11481481481481481,
          0.1962962962962963
         ]
        },
        "yaxis73": {
         "anchor": "x73",
         "domain": [
          0,
          0.08148148148148149
         ],
         "title": {
          "text": "Civics"
         }
        },
        "yaxis74": {
         "anchor": "x74",
         "domain": [
          0,
          0.08148148148148149
         ]
        },
        "yaxis75": {
         "anchor": "x75",
         "domain": [
          0,
          0.08148148148148149
         ]
        },
        "yaxis76": {
         "anchor": "x76",
         "domain": [
          0,
          0.08148148148148149
         ]
        },
        "yaxis77": {
         "anchor": "x77",
         "domain": [
          0,
          0.08148148148148149
         ]
        },
        "yaxis78": {
         "anchor": "x78",
         "domain": [
          0,
          0.08148148148148149
         ]
        },
        "yaxis79": {
         "anchor": "x79",
         "domain": [
          0,
          0.08148148148148149
         ]
        },
        "yaxis8": {
         "anchor": "x8",
         "domain": [
          0.9185185185185185,
          1
         ]
        },
        "yaxis80": {
         "anchor": "x80",
         "domain": [
          0,
          0.08148148148148149
         ]
        },
        "yaxis81": {
         "anchor": "x81",
         "domain": [
          0,
          0.08148148148148149
         ]
        },
        "yaxis9": {
         "anchor": "x9",
         "domain": [
          0.9185185185185185,
          1
         ]
        }
       }
      },
      "text/html": [
       "<div>\n",
       "        \n",
       "        \n",
       "            <div id=\"53af5317-ff82-45a0-9b58-e88b86476938\" class=\"plotly-graph-div\" style=\"height:800px; width:800px;\"></div>\n",
       "            <script type=\"text/javascript\">\n",
       "                require([\"plotly\"], function(Plotly) {\n",
       "                    window.PLOTLYENV=window.PLOTLYENV || {};\n",
       "                    window.PLOTLYENV.BASE_URL='https://plot.ly';\n",
       "                    \n",
       "                if (document.getElementById(\"53af5317-ff82-45a0-9b58-e88b86476938\")) {\n",
       "                    Plotly.newPlot(\n",
       "                        '53af5317-ff82-45a0-9b58-e88b86476938',\n",
       "                        [{\"marker\": {\"color\": \"rgb(12, 51, 131)\"}, \"showlegend\": false, \"type\": \"box\", \"uid\": \"13ab51c8-49dd-4dbf-81ab-64c982b4f79a\", \"xaxis\": \"x\", \"y\": [\"M\", \"M\", \"M\", \"F\", \"F\", \"F\", \"F\", \"M\", \"F\", \"M\"], \"yaxis\": \"y\"}, {\"marker\": {\"color\": [1, 2, 3, 4, 5, 6, 7, 8, 9, 10], \"colorscale\": [[0.0, \"rgb(12, 51, 131)\"], [1.0, \"rgb(217, 30, 30)\"]], \"showscale\": true, \"size\": 6}, \"mode\": \"markers\", \"showlegend\": false, \"type\": \"scatter\", \"uid\": \"d9115c0d-b2dd-431e-9108-62e247c51a6d\", \"x\": [55, 75, 25, 78, 58, 45, 55, 54, 55, 96], \"xaxis\": \"x2\", \"y\": [\"M\", \"M\", \"M\", \"F\", \"F\", \"F\", \"F\", \"M\", \"F\", \"M\"], \"yaxis\": \"y2\"}, {\"marker\": {\"color\": [1, 2, 3, 4, 5, 6, 7, 8, 9, 10], \"colorscale\": [[0.0, \"rgb(12, 51, 131)\"], [1.0, \"rgb(217, 30, 30)\"]], \"showscale\": false, \"size\": 6}, \"mode\": \"markers\", \"showlegend\": false, \"type\": \"scatter\", \"uid\": \"87a05991-d9b9-4840-afa6-d6363b26f018\", \"x\": [45, 96, 54, 96, 96, 87, 64, 76, 63, 46], \"xaxis\": \"x3\", \"y\": [\"M\", \"M\", \"M\", \"F\", \"F\", \"F\", \"F\", \"M\", \"F\", \"M\"], \"yaxis\": \"y3\"}, {\"marker\": {\"color\": [1, 2, 3, 4, 5, 6, 7, 8, 9, 10], \"colorscale\": [[0.0, \"rgb(12, 51, 131)\"], [1.0, \"rgb(217, 30, 30)\"]], \"showscale\": false, \"size\": 6}, \"mode\": \"markers\", \"showlegend\": false, \"type\": \"scatter\", \"uid\": \"4b6eb344-f2b4-41c9-8d21-f86fd7fd9e01\", \"x\": [56, 78, 89, 86, 78, 52, 61, 87, 89, 77], \"xaxis\": \"x4\", \"y\": [\"M\", \"M\", \"M\", \"F\", \"F\", \"F\", \"F\", \"M\", \"F\", \"M\"], \"yaxis\": \"y4\"}, {\"marker\": {\"color\": [1, 2, 3, 4, 5, 6, 7, 8, 9, 10], \"colorscale\": [[0.0, \"rgb(12, 51, 131)\"], [1.0, \"rgb(217, 30, 30)\"]], \"showscale\": false, \"size\": 6}, \"mode\": \"markers\", \"showlegend\": false, \"type\": \"scatter\", \"uid\": \"a1b85c59-5e6a-45a3-85fa-ca88c8dadc19\", \"x\": [87, 64, 76, 63, 46, 89, 58, 56, 75, 83], \"xaxis\": \"x5\", \"y\": [\"M\", \"M\", \"M\", \"F\", \"F\", \"F\", \"F\", \"M\", \"F\", \"M\"], \"yaxis\": \"y5\"}, {\"marker\": {\"color\": [1, 2, 3, 4, 5, 6, 7, 8, 9, 10], \"colorscale\": [[0.0, \"rgb(12, 51, 131)\"], [1.0, \"rgb(217, 30, 30)\"]], \"showscale\": false, \"size\": 6}, \"mode\": \"markers\", \"showlegend\": false, \"type\": \"scatter\", \"uid\": \"1f22d9af-7d74-4f4b-ab37-d9e4fd838907\", \"x\": [21, 90, 95, 54, 96, 55, 75, 25, 78, 58], \"xaxis\": \"x6\", \"y\": [\"M\", \"M\", \"M\", \"F\", \"F\", \"F\", \"F\", \"M\", \"F\", \"M\"], \"yaxis\": \"y6\"}, {\"marker\": {\"color\": [1, 2, 3, 4, 5, 6, 7, 8, 9, 10], \"colorscale\": [[0.0, \"rgb(12, 51, 131)\"], [1.0, \"rgb(217, 30, 30)\"]], \"showscale\": false, \"size\": 6}, \"mode\": \"markers\", \"showlegend\": false, \"type\": \"scatter\", \"uid\": \"0695598d-da88-44aa-8557-aab52c6da1c0\", \"x\": [52, 61, 87, 89, 77, 89, 58, 56, 75, 83], \"xaxis\": \"x7\", \"y\": [\"M\", \"M\", \"M\", \"F\", \"F\", \"F\", \"F\", \"M\", \"F\", \"M\"], \"yaxis\": \"y7\"}, {\"marker\": {\"color\": [1, 2, 3, 4, 5, 6, 7, 8, 9, 10], \"colorscale\": [[0.0, \"rgb(12, 51, 131)\"], [1.0, \"rgb(217, 30, 30)\"]], \"showscale\": false, \"size\": 6}, \"mode\": \"markers\", \"showlegend\": false, \"type\": \"scatter\", \"uid\": \"7263e502-6f46-4c4f-b194-5faa7170291b\", \"x\": [89, 58, 56, 75, 83, 87, 64, 76, 63, 46], \"xaxis\": \"x8\", \"y\": [\"M\", \"M\", \"M\", \"F\", \"F\", \"F\", \"F\", \"M\", \"F\", \"M\"], \"yaxis\": \"y8\"}, {\"marker\": {\"color\": [1, 2, 3, 4, 5, 6, 7, 8, 9, 10], \"colorscale\": [[0.0, \"rgb(12, 51, 131)\"], [1.0, \"rgb(217, 30, 30)\"]], \"showscale\": false, \"size\": 6}, \"mode\": \"markers\", \"showlegend\": false, \"type\": \"scatter\", \"uid\": \"16867f11-6adb-45d7-af79-5dbfb0607f3e\", \"x\": [65, 2, 74, 45, 53, 52, 61, 87, 89, 77], \"xaxis\": \"x9\", \"y\": [\"M\", \"M\", \"M\", \"F\", \"F\", \"F\", \"F\", \"M\", \"F\", \"M\"], \"yaxis\": \"y9\"}, {\"marker\": {\"color\": [1, 2, 3, 4, 5, 6, 7, 8, 9, 10], \"colorscale\": [[0.0, \"rgb(12, 51, 131)\"], [1.0, \"rgb(217, 30, 30)\"]], \"showscale\": false, \"size\": 6}, \"mode\": \"markers\", \"showlegend\": false, \"type\": \"scatter\", \"uid\": \"237c054f-36e2-48bb-87af-b7bc8d707d02\", \"x\": [\"M\", \"M\", \"M\", \"F\", \"F\", \"F\", \"F\", \"M\", \"F\", \"M\"], \"xaxis\": \"x10\", \"y\": [55, 75, 25, 78, 58, 45, 55, 54, 55, 96], \"yaxis\": \"y10\"}, {\"marker\": {\"color\": \"rgb(12, 51, 131)\"}, \"showlegend\": false, \"type\": \"box\", \"uid\": \"1c3238b9-e484-4060-ba08-c659f2ded3c2\", \"xaxis\": \"x11\", \"y\": [55, 75, 25, 78, 58, 45, 55, 54, 55, 96], \"yaxis\": \"y11\"}, {\"marker\": {\"color\": [1, 2, 3, 4, 5, 6, 7, 8, 9, 10], \"colorscale\": [[0.0, \"rgb(12, 51, 131)\"], [1.0, \"rgb(217, 30, 30)\"]], \"showscale\": false, \"size\": 6}, \"mode\": \"markers\", \"showlegend\": false, \"type\": \"scatter\", \"uid\": \"99022df9-f0e4-4a51-8966-6044645bd24b\", \"x\": [45, 96, 54, 96, 96, 87, 64, 76, 63, 46], \"xaxis\": \"x12\", \"y\": [55, 75, 25, 78, 58, 45, 55, 54, 55, 96], \"yaxis\": \"y12\"}, {\"marker\": {\"color\": [1, 2, 3, 4, 5, 6, 7, 8, 9, 10], \"colorscale\": [[0.0, \"rgb(12, 51, 131)\"], [1.0, \"rgb(217, 30, 30)\"]], \"showscale\": false, \"size\": 6}, \"mode\": \"markers\", \"showlegend\": false, \"type\": \"scatter\", \"uid\": \"91ae0cb3-701e-4070-9df1-2cefa6a6e07c\", \"x\": [56, 78, 89, 86, 78, 52, 61, 87, 89, 77], \"xaxis\": \"x13\", \"y\": [55, 75, 25, 78, 58, 45, 55, 54, 55, 96], \"yaxis\": \"y13\"}, {\"marker\": {\"color\": [1, 2, 3, 4, 5, 6, 7, 8, 9, 10], \"colorscale\": [[0.0, \"rgb(12, 51, 131)\"], [1.0, \"rgb(217, 30, 30)\"]], \"showscale\": false, \"size\": 6}, \"mode\": \"markers\", \"showlegend\": false, \"type\": \"scatter\", \"uid\": \"fee29819-bb54-4d02-908d-fe17b7c0c272\", \"x\": [87, 64, 76, 63, 46, 89, 58, 56, 75, 83], \"xaxis\": \"x14\", \"y\": [55, 75, 25, 78, 58, 45, 55, 54, 55, 96], \"yaxis\": \"y14\"}, {\"marker\": {\"color\": [1, 2, 3, 4, 5, 6, 7, 8, 9, 10], \"colorscale\": [[0.0, \"rgb(12, 51, 131)\"], [1.0, \"rgb(217, 30, 30)\"]], \"showscale\": false, \"size\": 6}, \"mode\": \"markers\", \"showlegend\": false, \"type\": \"scatter\", \"uid\": \"ac02f3cd-c2b7-42a7-a5c3-05d61e820ea0\", \"x\": [21, 90, 95, 54, 96, 55, 75, 25, 78, 58], \"xaxis\": \"x15\", \"y\": [55, 75, 25, 78, 58, 45, 55, 54, 55, 96], \"yaxis\": \"y15\"}, {\"marker\": {\"color\": [1, 2, 3, 4, 5, 6, 7, 8, 9, 10], \"colorscale\": [[0.0, \"rgb(12, 51, 131)\"], [1.0, \"rgb(217, 30, 30)\"]], \"showscale\": false, \"size\": 6}, \"mode\": \"markers\", \"showlegend\": false, \"type\": \"scatter\", \"uid\": \"54a833e8-987a-4902-a108-677784722116\", \"x\": [52, 61, 87, 89, 77, 89, 58, 56, 75, 83], \"xaxis\": \"x16\", \"y\": [55, 75, 25, 78, 58, 45, 55, 54, 55, 96], \"yaxis\": \"y16\"}, {\"marker\": {\"color\": [1, 2, 3, 4, 5, 6, 7, 8, 9, 10], \"colorscale\": [[0.0, \"rgb(12, 51, 131)\"], [1.0, \"rgb(217, 30, 30)\"]], \"showscale\": false, \"size\": 6}, \"mode\": \"markers\", \"showlegend\": false, \"type\": \"scatter\", \"uid\": \"b3a34f44-2fb9-4de4-88a6-500a53a30fde\", \"x\": [89, 58, 56, 75, 83, 87, 64, 76, 63, 46], \"xaxis\": \"x17\", \"y\": [55, 75, 25, 78, 58, 45, 55, 54, 55, 96], \"yaxis\": \"y17\"}, {\"marker\": {\"color\": [1, 2, 3, 4, 5, 6, 7, 8, 9, 10], \"colorscale\": [[0.0, \"rgb(12, 51, 131)\"], [1.0, \"rgb(217, 30, 30)\"]], \"showscale\": false, \"size\": 6}, \"mode\": \"markers\", \"showlegend\": false, \"type\": \"scatter\", \"uid\": \"5f9ee0af-88fd-44a7-9765-728fe8ca21a9\", \"x\": [65, 2, 74, 45, 53, 52, 61, 87, 89, 77], \"xaxis\": \"x18\", \"y\": [55, 75, 25, 78, 58, 45, 55, 54, 55, 96], \"yaxis\": \"y18\"}, {\"marker\": {\"color\": [1, 2, 3, 4, 5, 6, 7, 8, 9, 10], \"colorscale\": [[0.0, \"rgb(12, 51, 131)\"], [1.0, \"rgb(217, 30, 30)\"]], \"showscale\": false, \"size\": 6}, \"mode\": \"markers\", \"showlegend\": false, \"type\": \"scatter\", \"uid\": \"a8f94a33-74fc-42e5-8c03-10b0b008085b\", \"x\": [\"M\", \"M\", \"M\", \"F\", \"F\", \"F\", \"F\", \"M\", \"F\", \"M\"], \"xaxis\": \"x19\", \"y\": [45, 96, 54, 96, 96, 87, 64, 76, 63, 46], \"yaxis\": \"y19\"}, {\"marker\": {\"color\": [1, 2, 3, 4, 5, 6, 7, 8, 9, 10], \"colorscale\": [[0.0, \"rgb(12, 51, 131)\"], [1.0, \"rgb(217, 30, 30)\"]], \"showscale\": false, \"size\": 6}, \"mode\": \"markers\", \"showlegend\": false, \"type\": \"scatter\", \"uid\": \"04810c90-8611-44c0-bb5b-80d68b0e27d6\", \"x\": [55, 75, 25, 78, 58, 45, 55, 54, 55, 96], \"xaxis\": \"x20\", \"y\": [45, 96, 54, 96, 96, 87, 64, 76, 63, 46], \"yaxis\": \"y20\"}, {\"marker\": {\"color\": \"rgb(12, 51, 131)\"}, \"showlegend\": false, \"type\": \"box\", \"uid\": \"83f6ab46-3389-40dc-9385-494ae8d64a39\", \"xaxis\": \"x21\", \"y\": [45, 96, 54, 96, 96, 87, 64, 76, 63, 46], \"yaxis\": \"y21\"}, {\"marker\": {\"color\": [1, 2, 3, 4, 5, 6, 7, 8, 9, 10], \"colorscale\": [[0.0, \"rgb(12, 51, 131)\"], [1.0, \"rgb(217, 30, 30)\"]], \"showscale\": false, \"size\": 6}, \"mode\": \"markers\", \"showlegend\": false, \"type\": \"scatter\", \"uid\": \"ebb08077-199d-40b1-a06c-a845c6e7f88a\", \"x\": [56, 78, 89, 86, 78, 52, 61, 87, 89, 77], \"xaxis\": \"x22\", \"y\": [45, 96, 54, 96, 96, 87, 64, 76, 63, 46], \"yaxis\": \"y22\"}, {\"marker\": {\"color\": [1, 2, 3, 4, 5, 6, 7, 8, 9, 10], \"colorscale\": [[0.0, \"rgb(12, 51, 131)\"], [1.0, \"rgb(217, 30, 30)\"]], \"showscale\": false, \"size\": 6}, \"mode\": \"markers\", \"showlegend\": false, \"type\": \"scatter\", \"uid\": \"fe361808-c821-4f5b-ae10-dd37a3139cc5\", \"x\": [87, 64, 76, 63, 46, 89, 58, 56, 75, 83], \"xaxis\": \"x23\", \"y\": [45, 96, 54, 96, 96, 87, 64, 76, 63, 46], \"yaxis\": \"y23\"}, {\"marker\": {\"color\": [1, 2, 3, 4, 5, 6, 7, 8, 9, 10], \"colorscale\": [[0.0, \"rgb(12, 51, 131)\"], [1.0, \"rgb(217, 30, 30)\"]], \"showscale\": false, \"size\": 6}, \"mode\": \"markers\", \"showlegend\": false, \"type\": \"scatter\", \"uid\": \"00078d0e-0809-4c60-b361-fe5653a10e12\", \"x\": [21, 90, 95, 54, 96, 55, 75, 25, 78, 58], \"xaxis\": \"x24\", \"y\": [45, 96, 54, 96, 96, 87, 64, 76, 63, 46], \"yaxis\": \"y24\"}, {\"marker\": {\"color\": [1, 2, 3, 4, 5, 6, 7, 8, 9, 10], \"colorscale\": [[0.0, \"rgb(12, 51, 131)\"], [1.0, \"rgb(217, 30, 30)\"]], \"showscale\": false, \"size\": 6}, \"mode\": \"markers\", \"showlegend\": false, \"type\": \"scatter\", \"uid\": \"e3a45771-aac0-4349-9451-08fc58bd6053\", \"x\": [52, 61, 87, 89, 77, 89, 58, 56, 75, 83], \"xaxis\": \"x25\", \"y\": [45, 96, 54, 96, 96, 87, 64, 76, 63, 46], \"yaxis\": \"y25\"}, {\"marker\": {\"color\": [1, 2, 3, 4, 5, 6, 7, 8, 9, 10], \"colorscale\": [[0.0, \"rgb(12, 51, 131)\"], [1.0, \"rgb(217, 30, 30)\"]], \"showscale\": false, \"size\": 6}, \"mode\": \"markers\", \"showlegend\": false, \"type\": \"scatter\", \"uid\": \"fa68bca9-361d-407a-ac8d-fd0d079644a0\", \"x\": [89, 58, 56, 75, 83, 87, 64, 76, 63, 46], \"xaxis\": \"x26\", \"y\": [45, 96, 54, 96, 96, 87, 64, 76, 63, 46], \"yaxis\": \"y26\"}, {\"marker\": {\"color\": [1, 2, 3, 4, 5, 6, 7, 8, 9, 10], \"colorscale\": [[0.0, \"rgb(12, 51, 131)\"], [1.0, \"rgb(217, 30, 30)\"]], \"showscale\": false, \"size\": 6}, \"mode\": \"markers\", \"showlegend\": false, \"type\": \"scatter\", \"uid\": \"82d5c1e3-5543-449a-9857-fb91b0f86212\", \"x\": [65, 2, 74, 45, 53, 52, 61, 87, 89, 77], \"xaxis\": \"x27\", \"y\": [45, 96, 54, 96, 96, 87, 64, 76, 63, 46], \"yaxis\": \"y27\"}, {\"marker\": {\"color\": [1, 2, 3, 4, 5, 6, 7, 8, 9, 10], \"colorscale\": [[0.0, \"rgb(12, 51, 131)\"], [1.0, \"rgb(217, 30, 30)\"]], \"showscale\": false, \"size\": 6}, \"mode\": \"markers\", \"showlegend\": false, \"type\": \"scatter\", \"uid\": \"74abdb9a-4ec8-4300-bc53-22043d6b4242\", \"x\": [\"M\", \"M\", \"M\", \"F\", \"F\", \"F\", \"F\", \"M\", \"F\", \"M\"], \"xaxis\": \"x28\", \"y\": [56, 78, 89, 86, 78, 52, 61, 87, 89, 77], \"yaxis\": \"y28\"}, {\"marker\": {\"color\": [1, 2, 3, 4, 5, 6, 7, 8, 9, 10], \"colorscale\": [[0.0, \"rgb(12, 51, 131)\"], [1.0, \"rgb(217, 30, 30)\"]], \"showscale\": false, \"size\": 6}, \"mode\": \"markers\", \"showlegend\": false, \"type\": \"scatter\", \"uid\": \"f6203b54-5009-4d6b-88ab-d7a071f7018b\", \"x\": [55, 75, 25, 78, 58, 45, 55, 54, 55, 96], \"xaxis\": \"x29\", \"y\": [56, 78, 89, 86, 78, 52, 61, 87, 89, 77], \"yaxis\": \"y29\"}, {\"marker\": {\"color\": [1, 2, 3, 4, 5, 6, 7, 8, 9, 10], \"colorscale\": [[0.0, \"rgb(12, 51, 131)\"], [1.0, \"rgb(217, 30, 30)\"]], \"showscale\": false, \"size\": 6}, \"mode\": \"markers\", \"showlegend\": false, \"type\": \"scatter\", \"uid\": \"e845f2fe-7524-4053-b586-324db55b94ec\", \"x\": [45, 96, 54, 96, 96, 87, 64, 76, 63, 46], \"xaxis\": \"x30\", \"y\": [56, 78, 89, 86, 78, 52, 61, 87, 89, 77], \"yaxis\": \"y30\"}, {\"marker\": {\"color\": \"rgb(12, 51, 131)\"}, \"showlegend\": false, \"type\": \"box\", \"uid\": \"2b13fb36-8d00-498c-b2d1-0d1cf05a0bb4\", \"xaxis\": \"x31\", \"y\": [56, 78, 89, 86, 78, 52, 61, 87, 89, 77], \"yaxis\": \"y31\"}, {\"marker\": {\"color\": [1, 2, 3, 4, 5, 6, 7, 8, 9, 10], \"colorscale\": [[0.0, \"rgb(12, 51, 131)\"], [1.0, \"rgb(217, 30, 30)\"]], \"showscale\": false, \"size\": 6}, \"mode\": \"markers\", \"showlegend\": false, \"type\": \"scatter\", \"uid\": \"6ca19b2d-c764-42b7-9605-c4df1c84377d\", \"x\": [87, 64, 76, 63, 46, 89, 58, 56, 75, 83], \"xaxis\": \"x32\", \"y\": [56, 78, 89, 86, 78, 52, 61, 87, 89, 77], \"yaxis\": \"y32\"}, {\"marker\": {\"color\": [1, 2, 3, 4, 5, 6, 7, 8, 9, 10], \"colorscale\": [[0.0, \"rgb(12, 51, 131)\"], [1.0, \"rgb(217, 30, 30)\"]], \"showscale\": false, \"size\": 6}, \"mode\": \"markers\", \"showlegend\": false, \"type\": \"scatter\", \"uid\": \"4a29fa8b-99a2-4345-a02b-641e7385fdf7\", \"x\": [21, 90, 95, 54, 96, 55, 75, 25, 78, 58], \"xaxis\": \"x33\", \"y\": [56, 78, 89, 86, 78, 52, 61, 87, 89, 77], \"yaxis\": \"y33\"}, {\"marker\": {\"color\": [1, 2, 3, 4, 5, 6, 7, 8, 9, 10], \"colorscale\": [[0.0, \"rgb(12, 51, 131)\"], [1.0, \"rgb(217, 30, 30)\"]], \"showscale\": false, \"size\": 6}, \"mode\": \"markers\", \"showlegend\": false, \"type\": \"scatter\", \"uid\": \"79e82621-09cc-4019-90bd-578320996013\", \"x\": [52, 61, 87, 89, 77, 89, 58, 56, 75, 83], \"xaxis\": \"x34\", \"y\": [56, 78, 89, 86, 78, 52, 61, 87, 89, 77], \"yaxis\": \"y34\"}, {\"marker\": {\"color\": [1, 2, 3, 4, 5, 6, 7, 8, 9, 10], \"colorscale\": [[0.0, \"rgb(12, 51, 131)\"], [1.0, \"rgb(217, 30, 30)\"]], \"showscale\": false, \"size\": 6}, \"mode\": \"markers\", \"showlegend\": false, \"type\": \"scatter\", \"uid\": \"1fbd2f50-ce37-416b-8b6e-a4bd621e4f05\", \"x\": [89, 58, 56, 75, 83, 87, 64, 76, 63, 46], \"xaxis\": \"x35\", \"y\": [56, 78, 89, 86, 78, 52, 61, 87, 89, 77], \"yaxis\": \"y35\"}, {\"marker\": {\"color\": [1, 2, 3, 4, 5, 6, 7, 8, 9, 10], \"colorscale\": [[0.0, \"rgb(12, 51, 131)\"], [1.0, \"rgb(217, 30, 30)\"]], \"showscale\": false, \"size\": 6}, \"mode\": \"markers\", \"showlegend\": false, \"type\": \"scatter\", \"uid\": \"27fb72da-40dd-4fd1-8459-1832dfaf3c65\", \"x\": [65, 2, 74, 45, 53, 52, 61, 87, 89, 77], \"xaxis\": \"x36\", \"y\": [56, 78, 89, 86, 78, 52, 61, 87, 89, 77], \"yaxis\": \"y36\"}, {\"marker\": {\"color\": [1, 2, 3, 4, 5, 6, 7, 8, 9, 10], \"colorscale\": [[0.0, \"rgb(12, 51, 131)\"], [1.0, \"rgb(217, 30, 30)\"]], \"showscale\": false, \"size\": 6}, \"mode\": \"markers\", \"showlegend\": false, \"type\": \"scatter\", \"uid\": \"0a4ad7dd-bd30-4a63-b504-6710d5ca19c3\", \"x\": [\"M\", \"M\", \"M\", \"F\", \"F\", \"F\", \"F\", \"M\", \"F\", \"M\"], \"xaxis\": \"x37\", \"y\": [87, 64, 76, 63, 46, 89, 58, 56, 75, 83], \"yaxis\": \"y37\"}, {\"marker\": {\"color\": [1, 2, 3, 4, 5, 6, 7, 8, 9, 10], \"colorscale\": [[0.0, \"rgb(12, 51, 131)\"], [1.0, \"rgb(217, 30, 30)\"]], \"showscale\": false, \"size\": 6}, \"mode\": \"markers\", \"showlegend\": false, \"type\": \"scatter\", \"uid\": \"1933e48f-8d90-4cd5-9108-23ff4e63a78e\", \"x\": [55, 75, 25, 78, 58, 45, 55, 54, 55, 96], \"xaxis\": \"x38\", \"y\": [87, 64, 76, 63, 46, 89, 58, 56, 75, 83], \"yaxis\": \"y38\"}, {\"marker\": {\"color\": [1, 2, 3, 4, 5, 6, 7, 8, 9, 10], \"colorscale\": [[0.0, \"rgb(12, 51, 131)\"], [1.0, \"rgb(217, 30, 30)\"]], \"showscale\": false, \"size\": 6}, \"mode\": \"markers\", \"showlegend\": false, \"type\": \"scatter\", \"uid\": \"c7971c44-ed65-4da8-b9f4-491979cae231\", \"x\": [45, 96, 54, 96, 96, 87, 64, 76, 63, 46], \"xaxis\": \"x39\", \"y\": [87, 64, 76, 63, 46, 89, 58, 56, 75, 83], \"yaxis\": \"y39\"}, {\"marker\": {\"color\": [1, 2, 3, 4, 5, 6, 7, 8, 9, 10], \"colorscale\": [[0.0, \"rgb(12, 51, 131)\"], [1.0, \"rgb(217, 30, 30)\"]], \"showscale\": false, \"size\": 6}, \"mode\": \"markers\", \"showlegend\": false, \"type\": \"scatter\", \"uid\": \"dbf3c2dc-be6e-4b6d-9a3a-d03be1b0343b\", \"x\": [56, 78, 89, 86, 78, 52, 61, 87, 89, 77], \"xaxis\": \"x40\", \"y\": [87, 64, 76, 63, 46, 89, 58, 56, 75, 83], \"yaxis\": \"y40\"}, {\"marker\": {\"color\": \"rgb(12, 51, 131)\"}, \"showlegend\": false, \"type\": \"box\", \"uid\": \"5df47b91-090f-422e-951d-8f3d785684ea\", \"xaxis\": \"x41\", \"y\": [87, 64, 76, 63, 46, 89, 58, 56, 75, 83], \"yaxis\": \"y41\"}, {\"marker\": {\"color\": [1, 2, 3, 4, 5, 6, 7, 8, 9, 10], \"colorscale\": [[0.0, \"rgb(12, 51, 131)\"], [1.0, \"rgb(217, 30, 30)\"]], \"showscale\": false, \"size\": 6}, \"mode\": \"markers\", \"showlegend\": false, \"type\": \"scatter\", \"uid\": \"6a983163-5daf-4e4b-87a8-cce6af40ae48\", \"x\": [21, 90, 95, 54, 96, 55, 75, 25, 78, 58], \"xaxis\": \"x42\", \"y\": [87, 64, 76, 63, 46, 89, 58, 56, 75, 83], \"yaxis\": \"y42\"}, {\"marker\": {\"color\": [1, 2, 3, 4, 5, 6, 7, 8, 9, 10], \"colorscale\": [[0.0, \"rgb(12, 51, 131)\"], [1.0, \"rgb(217, 30, 30)\"]], \"showscale\": false, \"size\": 6}, \"mode\": \"markers\", \"showlegend\": false, \"type\": \"scatter\", \"uid\": \"bdbbddd5-c209-44dc-9d9a-df76f9a7d7f5\", \"x\": [52, 61, 87, 89, 77, 89, 58, 56, 75, 83], \"xaxis\": \"x43\", \"y\": [87, 64, 76, 63, 46, 89, 58, 56, 75, 83], \"yaxis\": \"y43\"}, {\"marker\": {\"color\": [1, 2, 3, 4, 5, 6, 7, 8, 9, 10], \"colorscale\": [[0.0, \"rgb(12, 51, 131)\"], [1.0, \"rgb(217, 30, 30)\"]], \"showscale\": false, \"size\": 6}, \"mode\": \"markers\", \"showlegend\": false, \"type\": \"scatter\", \"uid\": \"bf07f2e9-3418-4afc-9877-35a622cd64b2\", \"x\": [89, 58, 56, 75, 83, 87, 64, 76, 63, 46], \"xaxis\": \"x44\", \"y\": [87, 64, 76, 63, 46, 89, 58, 56, 75, 83], \"yaxis\": \"y44\"}, {\"marker\": {\"color\": [1, 2, 3, 4, 5, 6, 7, 8, 9, 10], \"colorscale\": [[0.0, \"rgb(12, 51, 131)\"], [1.0, \"rgb(217, 30, 30)\"]], \"showscale\": false, \"size\": 6}, \"mode\": \"markers\", \"showlegend\": false, \"type\": \"scatter\", \"uid\": \"21a96d29-13ea-452c-9c7b-c3899b221324\", \"x\": [65, 2, 74, 45, 53, 52, 61, 87, 89, 77], \"xaxis\": \"x45\", \"y\": [87, 64, 76, 63, 46, 89, 58, 56, 75, 83], \"yaxis\": \"y45\"}, {\"marker\": {\"color\": [1, 2, 3, 4, 5, 6, 7, 8, 9, 10], \"colorscale\": [[0.0, \"rgb(12, 51, 131)\"], [1.0, \"rgb(217, 30, 30)\"]], \"showscale\": false, \"size\": 6}, \"mode\": \"markers\", \"showlegend\": false, \"type\": \"scatter\", \"uid\": \"55383b1a-f2e3-4310-9f59-7c38d7e3590e\", \"x\": [\"M\", \"M\", \"M\", \"F\", \"F\", \"F\", \"F\", \"M\", \"F\", \"M\"], \"xaxis\": \"x46\", \"y\": [21, 90, 95, 54, 96, 55, 75, 25, 78, 58], \"yaxis\": \"y46\"}, {\"marker\": {\"color\": [1, 2, 3, 4, 5, 6, 7, 8, 9, 10], \"colorscale\": [[0.0, \"rgb(12, 51, 131)\"], [1.0, \"rgb(217, 30, 30)\"]], \"showscale\": false, \"size\": 6}, \"mode\": \"markers\", \"showlegend\": false, \"type\": \"scatter\", \"uid\": \"e184b6fe-aad7-463b-a22d-5e00bf633e48\", \"x\": [55, 75, 25, 78, 58, 45, 55, 54, 55, 96], \"xaxis\": \"x47\", \"y\": [21, 90, 95, 54, 96, 55, 75, 25, 78, 58], \"yaxis\": \"y47\"}, {\"marker\": {\"color\": [1, 2, 3, 4, 5, 6, 7, 8, 9, 10], \"colorscale\": [[0.0, \"rgb(12, 51, 131)\"], [1.0, \"rgb(217, 30, 30)\"]], \"showscale\": false, \"size\": 6}, \"mode\": \"markers\", \"showlegend\": false, \"type\": \"scatter\", \"uid\": \"466f8d50-3edd-45e7-8898-e37126edb76d\", \"x\": [45, 96, 54, 96, 96, 87, 64, 76, 63, 46], \"xaxis\": \"x48\", \"y\": [21, 90, 95, 54, 96, 55, 75, 25, 78, 58], \"yaxis\": \"y48\"}, {\"marker\": {\"color\": [1, 2, 3, 4, 5, 6, 7, 8, 9, 10], \"colorscale\": [[0.0, \"rgb(12, 51, 131)\"], [1.0, \"rgb(217, 30, 30)\"]], \"showscale\": false, \"size\": 6}, \"mode\": \"markers\", \"showlegend\": false, \"type\": \"scatter\", \"uid\": \"7e69d785-de71-445a-b5b1-b7ae12847598\", \"x\": [56, 78, 89, 86, 78, 52, 61, 87, 89, 77], \"xaxis\": \"x49\", \"y\": [21, 90, 95, 54, 96, 55, 75, 25, 78, 58], \"yaxis\": \"y49\"}, {\"marker\": {\"color\": [1, 2, 3, 4, 5, 6, 7, 8, 9, 10], \"colorscale\": [[0.0, \"rgb(12, 51, 131)\"], [1.0, \"rgb(217, 30, 30)\"]], \"showscale\": false, \"size\": 6}, \"mode\": \"markers\", \"showlegend\": false, \"type\": \"scatter\", \"uid\": \"1ebd7f68-3d31-4994-827e-fe167ae868e7\", \"x\": [87, 64, 76, 63, 46, 89, 58, 56, 75, 83], \"xaxis\": \"x50\", \"y\": [21, 90, 95, 54, 96, 55, 75, 25, 78, 58], \"yaxis\": \"y50\"}, {\"marker\": {\"color\": \"rgb(12, 51, 131)\"}, \"showlegend\": false, \"type\": \"box\", \"uid\": \"46733ae1-a909-4b38-855c-06b9c83fb1aa\", \"xaxis\": \"x51\", \"y\": [21, 90, 95, 54, 96, 55, 75, 25, 78, 58], \"yaxis\": \"y51\"}, {\"marker\": {\"color\": [1, 2, 3, 4, 5, 6, 7, 8, 9, 10], \"colorscale\": [[0.0, \"rgb(12, 51, 131)\"], [1.0, \"rgb(217, 30, 30)\"]], \"showscale\": false, \"size\": 6}, \"mode\": \"markers\", \"showlegend\": false, \"type\": \"scatter\", \"uid\": \"74bc5568-2367-45c0-bd1b-70bf544b6c14\", \"x\": [52, 61, 87, 89, 77, 89, 58, 56, 75, 83], \"xaxis\": \"x52\", \"y\": [21, 90, 95, 54, 96, 55, 75, 25, 78, 58], \"yaxis\": \"y52\"}, {\"marker\": {\"color\": [1, 2, 3, 4, 5, 6, 7, 8, 9, 10], \"colorscale\": [[0.0, \"rgb(12, 51, 131)\"], [1.0, \"rgb(217, 30, 30)\"]], \"showscale\": false, \"size\": 6}, \"mode\": \"markers\", \"showlegend\": false, \"type\": \"scatter\", \"uid\": \"05fcf1bf-df3a-48cf-96bf-8b022b8a6e46\", \"x\": [89, 58, 56, 75, 83, 87, 64, 76, 63, 46], \"xaxis\": \"x53\", \"y\": [21, 90, 95, 54, 96, 55, 75, 25, 78, 58], \"yaxis\": \"y53\"}, {\"marker\": {\"color\": [1, 2, 3, 4, 5, 6, 7, 8, 9, 10], \"colorscale\": [[0.0, \"rgb(12, 51, 131)\"], [1.0, \"rgb(217, 30, 30)\"]], \"showscale\": false, \"size\": 6}, \"mode\": \"markers\", \"showlegend\": false, \"type\": \"scatter\", \"uid\": \"fbdf612f-90f4-4e06-83e4-91ed3ab287f8\", \"x\": [65, 2, 74, 45, 53, 52, 61, 87, 89, 77], \"xaxis\": \"x54\", \"y\": [21, 90, 95, 54, 96, 55, 75, 25, 78, 58], \"yaxis\": \"y54\"}, {\"marker\": {\"color\": [1, 2, 3, 4, 5, 6, 7, 8, 9, 10], \"colorscale\": [[0.0, \"rgb(12, 51, 131)\"], [1.0, \"rgb(217, 30, 30)\"]], \"showscale\": false, \"size\": 6}, \"mode\": \"markers\", \"showlegend\": false, \"type\": \"scatter\", \"uid\": \"69602357-e246-4ba4-8e06-4c2ec3075b8b\", \"x\": [\"M\", \"M\", \"M\", \"F\", \"F\", \"F\", \"F\", \"M\", \"F\", \"M\"], \"xaxis\": \"x55\", \"y\": [52, 61, 87, 89, 77, 89, 58, 56, 75, 83], \"yaxis\": \"y55\"}, {\"marker\": {\"color\": [1, 2, 3, 4, 5, 6, 7, 8, 9, 10], \"colorscale\": [[0.0, \"rgb(12, 51, 131)\"], [1.0, \"rgb(217, 30, 30)\"]], \"showscale\": false, \"size\": 6}, \"mode\": \"markers\", \"showlegend\": false, \"type\": \"scatter\", \"uid\": \"bcff9a96-4d9a-4eb7-b5e6-1f5187ac56ac\", \"x\": [55, 75, 25, 78, 58, 45, 55, 54, 55, 96], \"xaxis\": \"x56\", \"y\": [52, 61, 87, 89, 77, 89, 58, 56, 75, 83], \"yaxis\": \"y56\"}, {\"marker\": {\"color\": [1, 2, 3, 4, 5, 6, 7, 8, 9, 10], \"colorscale\": [[0.0, \"rgb(12, 51, 131)\"], [1.0, \"rgb(217, 30, 30)\"]], \"showscale\": false, \"size\": 6}, \"mode\": \"markers\", \"showlegend\": false, \"type\": \"scatter\", \"uid\": \"c674b6ec-ee81-4500-8c6d-1a2a3f13d773\", \"x\": [45, 96, 54, 96, 96, 87, 64, 76, 63, 46], \"xaxis\": \"x57\", \"y\": [52, 61, 87, 89, 77, 89, 58, 56, 75, 83], \"yaxis\": \"y57\"}, {\"marker\": {\"color\": [1, 2, 3, 4, 5, 6, 7, 8, 9, 10], \"colorscale\": [[0.0, \"rgb(12, 51, 131)\"], [1.0, \"rgb(217, 30, 30)\"]], \"showscale\": false, \"size\": 6}, \"mode\": \"markers\", \"showlegend\": false, \"type\": \"scatter\", \"uid\": \"6ebfdfd7-6791-417d-a385-aaaed6113233\", \"x\": [56, 78, 89, 86, 78, 52, 61, 87, 89, 77], \"xaxis\": \"x58\", \"y\": [52, 61, 87, 89, 77, 89, 58, 56, 75, 83], \"yaxis\": \"y58\"}, {\"marker\": {\"color\": [1, 2, 3, 4, 5, 6, 7, 8, 9, 10], \"colorscale\": [[0.0, \"rgb(12, 51, 131)\"], [1.0, \"rgb(217, 30, 30)\"]], \"showscale\": false, \"size\": 6}, \"mode\": \"markers\", \"showlegend\": false, \"type\": \"scatter\", \"uid\": \"322f146c-eabd-41eb-bd7b-6f538f2a7e16\", \"x\": [87, 64, 76, 63, 46, 89, 58, 56, 75, 83], \"xaxis\": \"x59\", \"y\": [52, 61, 87, 89, 77, 89, 58, 56, 75, 83], \"yaxis\": \"y59\"}, {\"marker\": {\"color\": [1, 2, 3, 4, 5, 6, 7, 8, 9, 10], \"colorscale\": [[0.0, \"rgb(12, 51, 131)\"], [1.0, \"rgb(217, 30, 30)\"]], \"showscale\": false, \"size\": 6}, \"mode\": \"markers\", \"showlegend\": false, \"type\": \"scatter\", \"uid\": \"dea6965f-6b83-4213-b15f-970789665d21\", \"x\": [21, 90, 95, 54, 96, 55, 75, 25, 78, 58], \"xaxis\": \"x60\", \"y\": [52, 61, 87, 89, 77, 89, 58, 56, 75, 83], \"yaxis\": \"y60\"}, {\"marker\": {\"color\": \"rgb(12, 51, 131)\"}, \"showlegend\": false, \"type\": \"box\", \"uid\": \"1bd017e4-390f-452a-b931-364355300c27\", \"xaxis\": \"x61\", \"y\": [52, 61, 87, 89, 77, 89, 58, 56, 75, 83], \"yaxis\": \"y61\"}, {\"marker\": {\"color\": [1, 2, 3, 4, 5, 6, 7, 8, 9, 10], \"colorscale\": [[0.0, \"rgb(12, 51, 131)\"], [1.0, \"rgb(217, 30, 30)\"]], \"showscale\": false, \"size\": 6}, \"mode\": \"markers\", \"showlegend\": false, \"type\": \"scatter\", \"uid\": \"fad020a1-6da9-41b3-9d89-c9e6d3ecb1b1\", \"x\": [89, 58, 56, 75, 83, 87, 64, 76, 63, 46], \"xaxis\": \"x62\", \"y\": [52, 61, 87, 89, 77, 89, 58, 56, 75, 83], \"yaxis\": \"y62\"}, {\"marker\": {\"color\": [1, 2, 3, 4, 5, 6, 7, 8, 9, 10], \"colorscale\": [[0.0, \"rgb(12, 51, 131)\"], [1.0, \"rgb(217, 30, 30)\"]], \"showscale\": false, \"size\": 6}, \"mode\": \"markers\", \"showlegend\": false, \"type\": \"scatter\", \"uid\": \"e9ad14f8-a412-473b-9b57-512a4eeb8e9b\", \"x\": [65, 2, 74, 45, 53, 52, 61, 87, 89, 77], \"xaxis\": \"x63\", \"y\": [52, 61, 87, 89, 77, 89, 58, 56, 75, 83], \"yaxis\": \"y63\"}, {\"marker\": {\"color\": [1, 2, 3, 4, 5, 6, 7, 8, 9, 10], \"colorscale\": [[0.0, \"rgb(12, 51, 131)\"], [1.0, \"rgb(217, 30, 30)\"]], \"showscale\": false, \"size\": 6}, \"mode\": \"markers\", \"showlegend\": false, \"type\": \"scatter\", \"uid\": \"09b5ced4-5b56-4786-b64b-247430b7e0f2\", \"x\": [\"M\", \"M\", \"M\", \"F\", \"F\", \"F\", \"F\", \"M\", \"F\", \"M\"], \"xaxis\": \"x64\", \"y\": [89, 58, 56, 75, 83, 87, 64, 76, 63, 46], \"yaxis\": \"y64\"}, {\"marker\": {\"color\": [1, 2, 3, 4, 5, 6, 7, 8, 9, 10], \"colorscale\": [[0.0, \"rgb(12, 51, 131)\"], [1.0, \"rgb(217, 30, 30)\"]], \"showscale\": false, \"size\": 6}, \"mode\": \"markers\", \"showlegend\": false, \"type\": \"scatter\", \"uid\": \"6d5e8b45-f99a-46eb-a501-f2a371a39809\", \"x\": [55, 75, 25, 78, 58, 45, 55, 54, 55, 96], \"xaxis\": \"x65\", \"y\": [89, 58, 56, 75, 83, 87, 64, 76, 63, 46], \"yaxis\": \"y65\"}, {\"marker\": {\"color\": [1, 2, 3, 4, 5, 6, 7, 8, 9, 10], \"colorscale\": [[0.0, \"rgb(12, 51, 131)\"], [1.0, \"rgb(217, 30, 30)\"]], \"showscale\": false, \"size\": 6}, \"mode\": \"markers\", \"showlegend\": false, \"type\": \"scatter\", \"uid\": \"84d3598d-90e1-464b-9a5d-6b267706d7b4\", \"x\": [45, 96, 54, 96, 96, 87, 64, 76, 63, 46], \"xaxis\": \"x66\", \"y\": [89, 58, 56, 75, 83, 87, 64, 76, 63, 46], \"yaxis\": \"y66\"}, {\"marker\": {\"color\": [1, 2, 3, 4, 5, 6, 7, 8, 9, 10], \"colorscale\": [[0.0, \"rgb(12, 51, 131)\"], [1.0, \"rgb(217, 30, 30)\"]], \"showscale\": false, \"size\": 6}, \"mode\": \"markers\", \"showlegend\": false, \"type\": \"scatter\", \"uid\": \"e561362a-e536-4bc4-9ce5-7505aef16a92\", \"x\": [56, 78, 89, 86, 78, 52, 61, 87, 89, 77], \"xaxis\": \"x67\", \"y\": [89, 58, 56, 75, 83, 87, 64, 76, 63, 46], \"yaxis\": \"y67\"}, {\"marker\": {\"color\": [1, 2, 3, 4, 5, 6, 7, 8, 9, 10], \"colorscale\": [[0.0, \"rgb(12, 51, 131)\"], [1.0, \"rgb(217, 30, 30)\"]], \"showscale\": false, \"size\": 6}, \"mode\": \"markers\", \"showlegend\": false, \"type\": \"scatter\", \"uid\": \"864e08b4-db05-4d4b-9c1f-5d088cf3c139\", \"x\": [87, 64, 76, 63, 46, 89, 58, 56, 75, 83], \"xaxis\": \"x68\", \"y\": [89, 58, 56, 75, 83, 87, 64, 76, 63, 46], \"yaxis\": \"y68\"}, {\"marker\": {\"color\": [1, 2, 3, 4, 5, 6, 7, 8, 9, 10], \"colorscale\": [[0.0, \"rgb(12, 51, 131)\"], [1.0, \"rgb(217, 30, 30)\"]], \"showscale\": false, \"size\": 6}, \"mode\": \"markers\", \"showlegend\": false, \"type\": \"scatter\", \"uid\": \"0e709d55-fe15-4d21-8233-511701cd9596\", \"x\": [21, 90, 95, 54, 96, 55, 75, 25, 78, 58], \"xaxis\": \"x69\", \"y\": [89, 58, 56, 75, 83, 87, 64, 76, 63, 46], \"yaxis\": \"y69\"}, {\"marker\": {\"color\": [1, 2, 3, 4, 5, 6, 7, 8, 9, 10], \"colorscale\": [[0.0, \"rgb(12, 51, 131)\"], [1.0, \"rgb(217, 30, 30)\"]], \"showscale\": false, \"size\": 6}, \"mode\": \"markers\", \"showlegend\": false, \"type\": \"scatter\", \"uid\": \"ac99a0ab-7f30-42bd-bae4-1afac873790f\", \"x\": [52, 61, 87, 89, 77, 89, 58, 56, 75, 83], \"xaxis\": \"x70\", \"y\": [89, 58, 56, 75, 83, 87, 64, 76, 63, 46], \"yaxis\": \"y70\"}, {\"marker\": {\"color\": \"rgb(12, 51, 131)\"}, \"showlegend\": false, \"type\": \"box\", \"uid\": \"dac83c0c-aae3-4b5c-9f9f-a3b11115badb\", \"xaxis\": \"x71\", \"y\": [89, 58, 56, 75, 83, 87, 64, 76, 63, 46], \"yaxis\": \"y71\"}, {\"marker\": {\"color\": [1, 2, 3, 4, 5, 6, 7, 8, 9, 10], \"colorscale\": [[0.0, \"rgb(12, 51, 131)\"], [1.0, \"rgb(217, 30, 30)\"]], \"showscale\": false, \"size\": 6}, \"mode\": \"markers\", \"showlegend\": false, \"type\": \"scatter\", \"uid\": \"4f03bda6-0927-4205-b758-33566d0732cc\", \"x\": [65, 2, 74, 45, 53, 52, 61, 87, 89, 77], \"xaxis\": \"x72\", \"y\": [89, 58, 56, 75, 83, 87, 64, 76, 63, 46], \"yaxis\": \"y72\"}, {\"marker\": {\"color\": [1, 2, 3, 4, 5, 6, 7, 8, 9, 10], \"colorscale\": [[0.0, \"rgb(12, 51, 131)\"], [1.0, \"rgb(217, 30, 30)\"]], \"showscale\": false, \"size\": 6}, \"mode\": \"markers\", \"showlegend\": false, \"type\": \"scatter\", \"uid\": \"599a2b28-c425-4e14-86bd-dac16840686b\", \"x\": [\"M\", \"M\", \"M\", \"F\", \"F\", \"F\", \"F\", \"M\", \"F\", \"M\"], \"xaxis\": \"x73\", \"y\": [65, 2, 74, 45, 53, 52, 61, 87, 89, 77], \"yaxis\": \"y73\"}, {\"marker\": {\"color\": [1, 2, 3, 4, 5, 6, 7, 8, 9, 10], \"colorscale\": [[0.0, \"rgb(12, 51, 131)\"], [1.0, \"rgb(217, 30, 30)\"]], \"showscale\": false, \"size\": 6}, \"mode\": \"markers\", \"showlegend\": false, \"type\": \"scatter\", \"uid\": \"861f483c-423e-4993-9b3d-574517c02882\", \"x\": [55, 75, 25, 78, 58, 45, 55, 54, 55, 96], \"xaxis\": \"x74\", \"y\": [65, 2, 74, 45, 53, 52, 61, 87, 89, 77], \"yaxis\": \"y74\"}, {\"marker\": {\"color\": [1, 2, 3, 4, 5, 6, 7, 8, 9, 10], \"colorscale\": [[0.0, \"rgb(12, 51, 131)\"], [1.0, \"rgb(217, 30, 30)\"]], \"showscale\": false, \"size\": 6}, \"mode\": \"markers\", \"showlegend\": false, \"type\": \"scatter\", \"uid\": \"1b8c7cfb-f42c-4f5b-80d6-468723484db0\", \"x\": [45, 96, 54, 96, 96, 87, 64, 76, 63, 46], \"xaxis\": \"x75\", \"y\": [65, 2, 74, 45, 53, 52, 61, 87, 89, 77], \"yaxis\": \"y75\"}, {\"marker\": {\"color\": [1, 2, 3, 4, 5, 6, 7, 8, 9, 10], \"colorscale\": [[0.0, \"rgb(12, 51, 131)\"], [1.0, \"rgb(217, 30, 30)\"]], \"showscale\": false, \"size\": 6}, \"mode\": \"markers\", \"showlegend\": false, \"type\": \"scatter\", \"uid\": \"57516472-8bc4-4068-8e02-3bf1672ca255\", \"x\": [56, 78, 89, 86, 78, 52, 61, 87, 89, 77], \"xaxis\": \"x76\", \"y\": [65, 2, 74, 45, 53, 52, 61, 87, 89, 77], \"yaxis\": \"y76\"}, {\"marker\": {\"color\": [1, 2, 3, 4, 5, 6, 7, 8, 9, 10], \"colorscale\": [[0.0, \"rgb(12, 51, 131)\"], [1.0, \"rgb(217, 30, 30)\"]], \"showscale\": false, \"size\": 6}, \"mode\": \"markers\", \"showlegend\": false, \"type\": \"scatter\", \"uid\": \"defb3162-2045-40da-bf62-89bfa51485c1\", \"x\": [87, 64, 76, 63, 46, 89, 58, 56, 75, 83], \"xaxis\": \"x77\", \"y\": [65, 2, 74, 45, 53, 52, 61, 87, 89, 77], \"yaxis\": \"y77\"}, {\"marker\": {\"color\": [1, 2, 3, 4, 5, 6, 7, 8, 9, 10], \"colorscale\": [[0.0, \"rgb(12, 51, 131)\"], [1.0, \"rgb(217, 30, 30)\"]], \"showscale\": false, \"size\": 6}, \"mode\": \"markers\", \"showlegend\": false, \"type\": \"scatter\", \"uid\": \"21c5c594-5ef3-4041-84f9-f43d86c8a02f\", \"x\": [21, 90, 95, 54, 96, 55, 75, 25, 78, 58], \"xaxis\": \"x78\", \"y\": [65, 2, 74, 45, 53, 52, 61, 87, 89, 77], \"yaxis\": \"y78\"}, {\"marker\": {\"color\": [1, 2, 3, 4, 5, 6, 7, 8, 9, 10], \"colorscale\": [[0.0, \"rgb(12, 51, 131)\"], [1.0, \"rgb(217, 30, 30)\"]], \"showscale\": false, \"size\": 6}, \"mode\": \"markers\", \"showlegend\": false, \"type\": \"scatter\", \"uid\": \"28a61562-45f3-4d75-81e0-6a4467bb0f63\", \"x\": [52, 61, 87, 89, 77, 89, 58, 56, 75, 83], \"xaxis\": \"x79\", \"y\": [65, 2, 74, 45, 53, 52, 61, 87, 89, 77], \"yaxis\": \"y79\"}, {\"marker\": {\"color\": [1, 2, 3, 4, 5, 6, 7, 8, 9, 10], \"colorscale\": [[0.0, \"rgb(12, 51, 131)\"], [1.0, \"rgb(217, 30, 30)\"]], \"showscale\": false, \"size\": 6}, \"mode\": \"markers\", \"showlegend\": false, \"type\": \"scatter\", \"uid\": \"bd1d57f3-f545-4db1-8777-5a48d4395688\", \"x\": [89, 58, 56, 75, 83, 87, 64, 76, 63, 46], \"xaxis\": \"x80\", \"y\": [65, 2, 74, 45, 53, 52, 61, 87, 89, 77], \"yaxis\": \"y80\"}, {\"marker\": {\"color\": \"rgb(12, 51, 131)\"}, \"showlegend\": false, \"type\": \"box\", \"uid\": \"8ed73553-e501-4d6e-9f8f-d45e577e016f\", \"xaxis\": \"x81\", \"y\": [65, 2, 74, 45, 53, 52, 61, 87, 89, 77], \"yaxis\": \"y81\"}],\n",
       "                        {\"height\": 800, \"showlegend\": true, \"title\": {\"text\": \"Scatterplot Matrix\"}, \"width\": 800, \"xaxis\": {\"anchor\": \"y\", \"domain\": [0.0, 0.09135802469135802], \"showticklabels\": false}, \"xaxis10\": {\"anchor\": \"y10\", \"domain\": [0.0, 0.09135802469135802]}, \"xaxis11\": {\"anchor\": \"y11\", \"domain\": [0.11358024691358025, 0.20493827160493827], \"showticklabels\": false}, \"xaxis12\": {\"anchor\": \"y12\", \"domain\": [0.2271604938271605, 0.31851851851851853]}, \"xaxis13\": {\"anchor\": \"y13\", \"domain\": [0.34074074074074073, 0.43209876543209874]}, \"xaxis14\": {\"anchor\": \"y14\", \"domain\": [0.454320987654321, 0.5456790123456791]}, \"xaxis15\": {\"anchor\": \"y15\", \"domain\": [0.5679012345679012, 0.6592592592592592]}, \"xaxis16\": {\"anchor\": \"y16\", \"domain\": [0.6814814814814815, 0.7728395061728395]}, \"xaxis17\": {\"anchor\": \"y17\", \"domain\": [0.7950617283950617, 0.8864197530864197]}, \"xaxis18\": {\"anchor\": \"y18\", \"domain\": [0.908641975308642, 1.0]}, \"xaxis19\": {\"anchor\": \"y19\", \"domain\": [0.0, 0.09135802469135802]}, \"xaxis2\": {\"anchor\": \"y2\", \"domain\": [0.11358024691358025, 0.20493827160493827]}, \"xaxis20\": {\"anchor\": \"y20\", \"domain\": [0.11358024691358025, 0.20493827160493827]}, \"xaxis21\": {\"anchor\": \"y21\", \"domain\": [0.2271604938271605, 0.31851851851851853], \"showticklabels\": false}, \"xaxis22\": {\"anchor\": \"y22\", \"domain\": [0.34074074074074073, 0.43209876543209874]}, \"xaxis23\": {\"anchor\": \"y23\", \"domain\": [0.454320987654321, 0.5456790123456791]}, \"xaxis24\": {\"anchor\": \"y24\", \"domain\": [0.5679012345679012, 0.6592592592592592]}, \"xaxis25\": {\"anchor\": \"y25\", \"domain\": [0.6814814814814815, 0.7728395061728395]}, \"xaxis26\": {\"anchor\": \"y26\", \"domain\": [0.7950617283950617, 0.8864197530864197]}, \"xaxis27\": {\"anchor\": \"y27\", \"domain\": [0.908641975308642, 1.0]}, \"xaxis28\": {\"anchor\": \"y28\", \"domain\": [0.0, 0.09135802469135802]}, \"xaxis29\": {\"anchor\": \"y29\", \"domain\": [0.11358024691358025, 0.20493827160493827]}, \"xaxis3\": {\"anchor\": \"y3\", \"domain\": [0.2271604938271605, 0.31851851851851853]}, \"xaxis30\": {\"anchor\": \"y30\", \"domain\": [0.2271604938271605, 0.31851851851851853]}, \"xaxis31\": {\"anchor\": \"y31\", \"domain\": [0.34074074074074073, 0.43209876543209874], \"showticklabels\": false}, \"xaxis32\": {\"anchor\": \"y32\", \"domain\": [0.454320987654321, 0.5456790123456791]}, \"xaxis33\": {\"anchor\": \"y33\", \"domain\": [0.5679012345679012, 0.6592592592592592]}, \"xaxis34\": {\"anchor\": \"y34\", \"domain\": [0.6814814814814815, 0.7728395061728395]}, \"xaxis35\": {\"anchor\": \"y35\", \"domain\": [0.7950617283950617, 0.8864197530864197]}, \"xaxis36\": {\"anchor\": \"y36\", \"domain\": [0.908641975308642, 1.0]}, \"xaxis37\": {\"anchor\": \"y37\", \"domain\": [0.0, 0.09135802469135802]}, \"xaxis38\": {\"anchor\": \"y38\", \"domain\": [0.11358024691358025, 0.20493827160493827]}, \"xaxis39\": {\"anchor\": \"y39\", \"domain\": [0.2271604938271605, 0.31851851851851853]}, \"xaxis4\": {\"anchor\": \"y4\", \"domain\": [0.34074074074074073, 0.43209876543209874]}, \"xaxis40\": {\"anchor\": \"y40\", \"domain\": [0.34074074074074073, 0.43209876543209874]}, \"xaxis41\": {\"anchor\": \"y41\", \"domain\": [0.454320987654321, 0.5456790123456791], \"showticklabels\": false}, \"xaxis42\": {\"anchor\": \"y42\", \"domain\": [0.5679012345679012, 0.6592592592592592]}, \"xaxis43\": {\"anchor\": \"y43\", \"domain\": [0.6814814814814815, 0.7728395061728395]}, \"xaxis44\": {\"anchor\": \"y44\", \"domain\": [0.7950617283950617, 0.8864197530864197]}, \"xaxis45\": {\"anchor\": \"y45\", \"domain\": [0.908641975308642, 1.0]}, \"xaxis46\": {\"anchor\": \"y46\", \"domain\": [0.0, 0.09135802469135802]}, \"xaxis47\": {\"anchor\": \"y47\", \"domain\": [0.11358024691358025, 0.20493827160493827]}, \"xaxis48\": {\"anchor\": \"y48\", \"domain\": [0.2271604938271605, 0.31851851851851853]}, \"xaxis49\": {\"anchor\": \"y49\", \"domain\": [0.34074074074074073, 0.43209876543209874]}, \"xaxis5\": {\"anchor\": \"y5\", \"domain\": [0.454320987654321, 0.5456790123456791]}, \"xaxis50\": {\"anchor\": \"y50\", \"domain\": [0.454320987654321, 0.5456790123456791]}, \"xaxis51\": {\"anchor\": \"y51\", \"domain\": [0.5679012345679012, 0.6592592592592592], \"showticklabels\": false}, \"xaxis52\": {\"anchor\": \"y52\", \"domain\": [0.6814814814814815, 0.7728395061728395]}, \"xaxis53\": {\"anchor\": \"y53\", \"domain\": [0.7950617283950617, 0.8864197530864197]}, \"xaxis54\": {\"anchor\": \"y54\", \"domain\": [0.908641975308642, 1.0]}, \"xaxis55\": {\"anchor\": \"y55\", \"domain\": [0.0, 0.09135802469135802]}, \"xaxis56\": {\"anchor\": \"y56\", \"domain\": [0.11358024691358025, 0.20493827160493827]}, \"xaxis57\": {\"anchor\": \"y57\", \"domain\": [0.2271604938271605, 0.31851851851851853]}, \"xaxis58\": {\"anchor\": \"y58\", \"domain\": [0.34074074074074073, 0.43209876543209874]}, \"xaxis59\": {\"anchor\": \"y59\", \"domain\": [0.454320987654321, 0.5456790123456791]}, \"xaxis6\": {\"anchor\": \"y6\", \"domain\": [0.5679012345679012, 0.6592592592592592]}, \"xaxis60\": {\"anchor\": \"y60\", \"domain\": [0.5679012345679012, 0.6592592592592592]}, \"xaxis61\": {\"anchor\": \"y61\", \"domain\": [0.6814814814814815, 0.7728395061728395], \"showticklabels\": false}, \"xaxis62\": {\"anchor\": \"y62\", \"domain\": [0.7950617283950617, 0.8864197530864197]}, \"xaxis63\": {\"anchor\": \"y63\", \"domain\": [0.908641975308642, 1.0]}, \"xaxis64\": {\"anchor\": \"y64\", \"domain\": [0.0, 0.09135802469135802]}, \"xaxis65\": {\"anchor\": \"y65\", \"domain\": [0.11358024691358025, 0.20493827160493827]}, \"xaxis66\": {\"anchor\": \"y66\", \"domain\": [0.2271604938271605, 0.31851851851851853]}, \"xaxis67\": {\"anchor\": \"y67\", \"domain\": [0.34074074074074073, 0.43209876543209874]}, \"xaxis68\": {\"anchor\": \"y68\", \"domain\": [0.454320987654321, 0.5456790123456791]}, \"xaxis69\": {\"anchor\": \"y69\", \"domain\": [0.5679012345679012, 0.6592592592592592]}, \"xaxis7\": {\"anchor\": \"y7\", \"domain\": [0.6814814814814815, 0.7728395061728395]}, \"xaxis70\": {\"anchor\": \"y70\", \"domain\": [0.6814814814814815, 0.7728395061728395]}, \"xaxis71\": {\"anchor\": \"y71\", \"domain\": [0.7950617283950617, 0.8864197530864197], \"showticklabels\": false}, \"xaxis72\": {\"anchor\": \"y72\", \"domain\": [0.908641975308642, 1.0]}, \"xaxis73\": {\"anchor\": \"y73\", \"domain\": [0.0, 0.09135802469135802], \"title\": {\"text\": \"Gender\"}}, \"xaxis74\": {\"anchor\": \"y74\", \"domain\": [0.11358024691358025, 0.20493827160493827], \"title\": {\"text\": \"Maths\"}}, \"xaxis75\": {\"anchor\": \"y75\", \"domain\": [0.2271604938271605, 0.31851851851851853], \"title\": {\"text\": \"Physics\"}}, \"xaxis76\": {\"anchor\": \"y76\", \"domain\": [0.34074074074074073, 0.43209876543209874], \"title\": {\"text\": \"Chemistry\"}}, \"xaxis77\": {\"anchor\": \"y77\", \"domain\": [0.454320987654321, 0.5456790123456791], \"title\": {\"text\": \"English\"}}, \"xaxis78\": {\"anchor\": \"y78\", \"domain\": [0.5679012345679012, 0.6592592592592592], \"title\": {\"text\": \"Biology\"}}, \"xaxis79\": {\"anchor\": \"y79\", \"domain\": [0.6814814814814815, 0.7728395061728395], \"title\": {\"text\": \"Economics\"}}, \"xaxis8\": {\"anchor\": \"y8\", \"domain\": [0.7950617283950617, 0.8864197530864197]}, \"xaxis80\": {\"anchor\": \"y80\", \"domain\": [0.7950617283950617, 0.8864197530864197], \"title\": {\"text\": \"History\"}}, \"xaxis81\": {\"anchor\": \"y81\", \"domain\": [0.908641975308642, 1.0], \"showticklabels\": false, \"title\": {\"text\": \"Civics\"}}, \"xaxis9\": {\"anchor\": \"y9\", \"domain\": [0.908641975308642, 1.0]}, \"yaxis\": {\"anchor\": \"x\", \"domain\": [0.9185185185185185, 1.0], \"title\": {\"text\": \"Gender\"}}, \"yaxis10\": {\"anchor\": \"x10\", \"domain\": [0.8037037037037038, 0.8851851851851853], \"title\": {\"text\": \"Maths\"}}, \"yaxis11\": {\"anchor\": \"x11\", \"domain\": [0.8037037037037038, 0.8851851851851853]}, \"yaxis12\": {\"anchor\": \"x12\", \"domain\": [0.8037037037037038, 0.8851851851851853]}, \"yaxis13\": {\"anchor\": \"x13\", \"domain\": [0.8037037037037038, 0.8851851851851853]}, \"yaxis14\": {\"anchor\": \"x14\", \"domain\": [0.8037037037037038, 0.8851851851851853]}, \"yaxis15\": {\"anchor\": \"x15\", \"domain\": [0.8037037037037038, 0.8851851851851853]}, \"yaxis16\": {\"anchor\": \"x16\", \"domain\": [0.8037037037037038, 0.8851851851851853]}, \"yaxis17\": {\"anchor\": \"x17\", \"domain\": [0.8037037037037038, 0.8851851851851853]}, \"yaxis18\": {\"anchor\": \"x18\", \"domain\": [0.8037037037037038, 0.8851851851851853]}, \"yaxis19\": {\"anchor\": \"x19\", \"domain\": [0.6888888888888889, 0.7703703703703704], \"title\": {\"text\": \"Physics\"}}, \"yaxis2\": {\"anchor\": \"x2\", \"domain\": [0.9185185185185185, 1.0]}, \"yaxis20\": {\"anchor\": \"x20\", \"domain\": [0.6888888888888889, 0.7703703703703704]}, \"yaxis21\": {\"anchor\": \"x21\", \"domain\": [0.6888888888888889, 0.7703703703703704]}, \"yaxis22\": {\"anchor\": \"x22\", \"domain\": [0.6888888888888889, 0.7703703703703704]}, \"yaxis23\": {\"anchor\": \"x23\", \"domain\": [0.6888888888888889, 0.7703703703703704]}, \"yaxis24\": {\"anchor\": \"x24\", \"domain\": [0.6888888888888889, 0.7703703703703704]}, \"yaxis25\": {\"anchor\": \"x25\", \"domain\": [0.6888888888888889, 0.7703703703703704]}, \"yaxis26\": {\"anchor\": \"x26\", \"domain\": [0.6888888888888889, 0.7703703703703704]}, \"yaxis27\": {\"anchor\": \"x27\", \"domain\": [0.6888888888888889, 0.7703703703703704]}, \"yaxis28\": {\"anchor\": \"x28\", \"domain\": [0.5740740740740741, 0.6555555555555556], \"title\": {\"text\": \"Chemistry\"}}, \"yaxis29\": {\"anchor\": \"x29\", \"domain\": [0.5740740740740741, 0.6555555555555556]}, \"yaxis3\": {\"anchor\": \"x3\", \"domain\": [0.9185185185185185, 1.0]}, \"yaxis30\": {\"anchor\": \"x30\", \"domain\": [0.5740740740740741, 0.6555555555555556]}, \"yaxis31\": {\"anchor\": \"x31\", \"domain\": [0.5740740740740741, 0.6555555555555556]}, \"yaxis32\": {\"anchor\": \"x32\", \"domain\": [0.5740740740740741, 0.6555555555555556]}, \"yaxis33\": {\"anchor\": \"x33\", \"domain\": [0.5740740740740741, 0.6555555555555556]}, \"yaxis34\": {\"anchor\": \"x34\", \"domain\": [0.5740740740740741, 0.6555555555555556]}, \"yaxis35\": {\"anchor\": \"x35\", \"domain\": [0.5740740740740741, 0.6555555555555556]}, \"yaxis36\": {\"anchor\": \"x36\", \"domain\": [0.5740740740740741, 0.6555555555555556]}, \"yaxis37\": {\"anchor\": \"x37\", \"domain\": [0.45925925925925926, 0.5407407407407407], \"title\": {\"text\": \"English\"}}, \"yaxis38\": {\"anchor\": \"x38\", \"domain\": [0.45925925925925926, 0.5407407407407407]}, \"yaxis39\": {\"anchor\": \"x39\", \"domain\": [0.45925925925925926, 0.5407407407407407]}, \"yaxis4\": {\"anchor\": \"x4\", \"domain\": [0.9185185185185185, 1.0]}, \"yaxis40\": {\"anchor\": \"x40\", \"domain\": [0.45925925925925926, 0.5407407407407407]}, \"yaxis41\": {\"anchor\": \"x41\", \"domain\": [0.45925925925925926, 0.5407407407407407]}, \"yaxis42\": {\"anchor\": \"x42\", \"domain\": [0.45925925925925926, 0.5407407407407407]}, \"yaxis43\": {\"anchor\": \"x43\", \"domain\": [0.45925925925925926, 0.5407407407407407]}, \"yaxis44\": {\"anchor\": \"x44\", \"domain\": [0.45925925925925926, 0.5407407407407407]}, \"yaxis45\": {\"anchor\": \"x45\", \"domain\": [0.45925925925925926, 0.5407407407407407]}, \"yaxis46\": {\"anchor\": \"x46\", \"domain\": [0.34444444444444444, 0.42592592592592593], \"title\": {\"text\": \"Biology\"}}, \"yaxis47\": {\"anchor\": \"x47\", \"domain\": [0.34444444444444444, 0.42592592592592593]}, \"yaxis48\": {\"anchor\": \"x48\", \"domain\": [0.34444444444444444, 0.42592592592592593]}, \"yaxis49\": {\"anchor\": \"x49\", \"domain\": [0.34444444444444444, 0.42592592592592593]}, \"yaxis5\": {\"anchor\": \"x5\", \"domain\": [0.9185185185185185, 1.0]}, \"yaxis50\": {\"anchor\": \"x50\", \"domain\": [0.34444444444444444, 0.42592592592592593]}, \"yaxis51\": {\"anchor\": \"x51\", \"domain\": [0.34444444444444444, 0.42592592592592593]}, \"yaxis52\": {\"anchor\": \"x52\", \"domain\": [0.34444444444444444, 0.42592592592592593]}, \"yaxis53\": {\"anchor\": \"x53\", \"domain\": [0.34444444444444444, 0.42592592592592593]}, \"yaxis54\": {\"anchor\": \"x54\", \"domain\": [0.34444444444444444, 0.42592592592592593]}, \"yaxis55\": {\"anchor\": \"x55\", \"domain\": [0.22962962962962963, 0.3111111111111111], \"title\": {\"text\": \"Economics\"}}, \"yaxis56\": {\"anchor\": \"x56\", \"domain\": [0.22962962962962963, 0.3111111111111111]}, \"yaxis57\": {\"anchor\": \"x57\", \"domain\": [0.22962962962962963, 0.3111111111111111]}, \"yaxis58\": {\"anchor\": \"x58\", \"domain\": [0.22962962962962963, 0.3111111111111111]}, \"yaxis59\": {\"anchor\": \"x59\", \"domain\": [0.22962962962962963, 0.3111111111111111]}, \"yaxis6\": {\"anchor\": \"x6\", \"domain\": [0.9185185185185185, 1.0]}, \"yaxis60\": {\"anchor\": \"x60\", \"domain\": [0.22962962962962963, 0.3111111111111111]}, \"yaxis61\": {\"anchor\": \"x61\", \"domain\": [0.22962962962962963, 0.3111111111111111]}, \"yaxis62\": {\"anchor\": \"x62\", \"domain\": [0.22962962962962963, 0.3111111111111111]}, \"yaxis63\": {\"anchor\": \"x63\", \"domain\": [0.22962962962962963, 0.3111111111111111]}, \"yaxis64\": {\"anchor\": \"x64\", \"domain\": [0.11481481481481481, 0.1962962962962963], \"title\": {\"text\": \"History\"}}, \"yaxis65\": {\"anchor\": \"x65\", \"domain\": [0.11481481481481481, 0.1962962962962963]}, \"yaxis66\": {\"anchor\": \"x66\", \"domain\": [0.11481481481481481, 0.1962962962962963]}, \"yaxis67\": {\"anchor\": \"x67\", \"domain\": [0.11481481481481481, 0.1962962962962963]}, \"yaxis68\": {\"anchor\": \"x68\", \"domain\": [0.11481481481481481, 0.1962962962962963]}, \"yaxis69\": {\"anchor\": \"x69\", \"domain\": [0.11481481481481481, 0.1962962962962963]}, \"yaxis7\": {\"anchor\": \"x7\", \"domain\": [0.9185185185185185, 1.0]}, \"yaxis70\": {\"anchor\": \"x70\", \"domain\": [0.11481481481481481, 0.1962962962962963]}, \"yaxis71\": {\"anchor\": \"x71\", \"domain\": [0.11481481481481481, 0.1962962962962963]}, \"yaxis72\": {\"anchor\": \"x72\", \"domain\": [0.11481481481481481, 0.1962962962962963]}, \"yaxis73\": {\"anchor\": \"x73\", \"domain\": [0.0, 0.08148148148148149], \"title\": {\"text\": \"Civics\"}}, \"yaxis74\": {\"anchor\": \"x74\", \"domain\": [0.0, 0.08148148148148149]}, \"yaxis75\": {\"anchor\": \"x75\", \"domain\": [0.0, 0.08148148148148149]}, \"yaxis76\": {\"anchor\": \"x76\", \"domain\": [0.0, 0.08148148148148149]}, \"yaxis77\": {\"anchor\": \"x77\", \"domain\": [0.0, 0.08148148148148149]}, \"yaxis78\": {\"anchor\": \"x78\", \"domain\": [0.0, 0.08148148148148149]}, \"yaxis79\": {\"anchor\": \"x79\", \"domain\": [0.0, 0.08148148148148149]}, \"yaxis8\": {\"anchor\": \"x8\", \"domain\": [0.9185185185185185, 1.0]}, \"yaxis80\": {\"anchor\": \"x80\", \"domain\": [0.0, 0.08148148148148149]}, \"yaxis81\": {\"anchor\": \"x81\", \"domain\": [0.0, 0.08148148148148149]}, \"yaxis9\": {\"anchor\": \"x9\", \"domain\": [0.9185185185185185, 1.0]}},\n",
       "                        {\"showLink\": false, \"linkText\": \"Export to plot.ly\", \"plotlyServerURL\": \"https://plot.ly\", \"responsive\": true}\n",
       "                    ).then(function(){\n",
       "                            \n",
       "var gd = document.getElementById('53af5317-ff82-45a0-9b58-e88b86476938');\n",
       "var x = new MutationObserver(function (mutations, observer) {{\n",
       "        var display = window.getComputedStyle(gd).display;\n",
       "        if (!display || display === 'none') {{\n",
       "            console.log([gd, 'removed!']);\n",
       "            Plotly.purge(gd);\n",
       "            observer.disconnect();\n",
       "        }}\n",
       "}});\n",
       "\n",
       "// Listen for the removal of the full notebook cells\n",
       "var notebookContainer = gd.closest('#notebook-container');\n",
       "if (notebookContainer) {{\n",
       "    x.observe(notebookContainer, {childList: true});\n",
       "}}\n",
       "\n",
       "// Listen for the clearing of the current output cell\n",
       "var outputEl = gd.closest('.output');\n",
       "if (outputEl) {{\n",
       "    x.observe(outputEl, {childList: true});\n",
       "}}\n",
       "\n",
       "                        })\n",
       "                };\n",
       "                });\n",
       "            </script>\n",
       "        </div>"
      ]
     },
     "metadata": {},
     "output_type": "display_data"
    }
   ],
   "source": [
    "df = studmarks\n",
    "data = df.loc[:,['Gender', 'Maths', 'Physics', 'Chemistry', 'English',\n",
    "       'Biology', 'Economics', 'History', 'Civics']]\n",
    "data[\"index\"] = np.arange(1, len(data) +1)\n",
    "\n",
    "figure = ff.create_scatterplotmatrix(data, diag = 'box', index = 'index', colormap = 'Portland',\n",
    "                                    colormap_type = 'cat', height = 800, width = 800)\n",
    "iplot(figure)"
   ]
  },
  {
   "cell_type": "code",
   "execution_count": 15,
   "metadata": {},
   "outputs": [
    {
     "data": {
      "text/plain": [
       "<matplotlib.axes._subplots.AxesSubplot at 0x200eca363c8>"
      ]
     },
     "execution_count": 15,
     "metadata": {},
     "output_type": "execute_result"
    },
    {
     "data": {
      "image/png": "[encoded data removed]",
      "text/plain": [
       "<Figure size 432x288 with 1 Axes>"
      ]
     },
     "metadata": {
      "needs_background": "light"
     },
     "output_type": "display_data"
    }
   ],
   "source": [
    "# displaying data on marks\n",
    "sns.countplot(x ='Physics', data = studmarks)"
   ]
  },
  {
   "cell_type": "code",
   "execution_count": 16,
   "metadata": {},
   "outputs": [
    {
     "data": {
      "image/png": "[encoded data removed]",
      "text/plain": [
       "<Figure size 864x720 with 1 Axes>"
      ]
     },
     "metadata": {
      "needs_background": "light"
     },
     "output_type": "display_data"
    }
   ],
   "source": [
    "plt.figure(figsize = (12,10))\n",
    "plt.scatter(studmarks['Chemistry'],studmarks['Gender'])\n",
    "plt.title(\"Chemistry Vs Gender\")\n",
    "plt.xlabel(\"Chemistry\")\n",
    "plt.ylabel(\"Gender\")\n",
    "plt.show()"
   ]
  },
  {
   "cell_type": "code",
   "execution_count": 17,
   "metadata": {},
   "outputs": [
    {
     "data": {
      "text/plain": [
       "<matplotlib.axes._subplots.AxesSubplot at 0x200ed500048>"
      ]
     },
     "execution_count": 17,
     "metadata": {},
     "output_type": "execute_result"
    },
    {
     "data": {
      "image/png": "[encoded data removed]",
      "text/plain": [
       "<Figure size 432x288 with 1 Axes>"
      ]
     },
     "metadata": {},
     "output_type": "display_data"
    }
   ],
   "source": [
    "sns.set_style('whitegrid')\n",
    "sns.countplot(x = 'Maths', hue = 'Gender', data= studmarks)"
   ]
  },
  {
   "cell_type": "code",
   "execution_count": 18,
   "metadata": {},
   "outputs": [
    {
     "data": {
      "image/png": "[encoded data removed]",
      "text/plain": [
       "<Figure size 1440x576 with 1 Axes>"
      ]
     },
     "metadata": {},
     "output_type": "display_data"
    }
   ],
   "source": [
    "gender_wise = studmarks[['Gender','Physics', 'Chemistry','English','Biology', 'Economics', 'History', 'Civics']]\n",
    "gender_wise.plot(kind = 'line',figsize = (20,8),color=\"g\"\"r\"\"b\"\"y\"\"m\"\"c\"\"k\"\"w\")\n",
    "plt.title(\"Trend of Marks accross Gender\")\n",
    "plt.xlabel(\"English\")\n",
    "plt.ylabel(\"Gender\")\n",
    "plt.show()"
   ]
  },
  {
   "cell_type": "code",
   "execution_count": 19,
   "metadata": {},
   "outputs": [
    {
     "data": {
      "text/plain": [
       "<seaborn.axisgrid.PairGrid at 0x200e7f97648>"
      ]
     },
     "execution_count": 19,
     "metadata": {},
     "output_type": "execute_result"
    },
    {
     "data": {
      "image/png": "[encoded data removed]",
      "text/plain": [
       "<Figure size 1440x1440 with 72 Axes>"
      ]
     },
     "metadata": {},
     "output_type": "display_data"
    }
   ],
   "source": [
    "# Bivariate Analysis\n",
    "sns.pairplot(studmarks)"
   ]
  },
  {
   "cell_type": "code",
   "execution_count": 20,
   "metadata": {},
   "outputs": [
    {
     "name": "stdout",
     "output_type": "stream",
     "text": [
      "<class 'pandas.core.frame.DataFrame'>\n",
      "RangeIndex: 10 entries, 0 to 9\n",
      "Data columns (total 11 columns):\n",
      " #   Column     Non-Null Count  Dtype \n",
      "---  ------     --------------  ----- \n",
      " 0   Name       10 non-null     object\n",
      " 1   Gender     10 non-null     object\n",
      " 2   DOB        10 non-null     object\n",
      " 3   Maths      10 non-null     int64 \n",
      " 4   Physics    10 non-null     int64 \n",
      " 5   Chemistry  10 non-null     int64 \n",
      " 6   English    10 non-null     int64 \n",
      " 7   Biology    10 non-null     int64 \n",
      " 8   Economics  10 non-null     int64 \n",
      " 9   History    10 non-null     int64 \n",
      " 10  Civics     10 non-null     int64 \n",
      "dtypes: int64(8), object(3)\n",
      "memory usage: 1008.0+ bytes\n"
     ]
    }
   ],
   "source": [
    "studmarks.info()"
   ]
  },
  {
   "cell_type": "code",
   "execution_count": 21,
   "metadata": {},
   "outputs": [],
   "source": [
    "# Importing Label Encoder to convert object to numeric dtypes\n",
    "from sklearn import preprocessing\n",
    "label_encoder = preprocessing.LabelEncoder()\n",
    "\n",
    "labelencoder_studmarks = studmarks\n",
    "labelencoder_studmarks['Gender'] = label_encoder.fit_transform(labelencoder_studmarks['Gender'])"
   ]
  },
  {
   "cell_type": "code",
   "execution_count": 22,
   "metadata": {},
   "outputs": [],
   "source": [
    "# dropping columns as we do not intend to use at this point\n",
    "labelencoder_studmarks.drop(['Name','DOB'], inplace = True, axis =1)"
   ]
  },
  {
   "cell_type": "code",
   "execution_count": 23,
   "metadata": {},
   "outputs": [
    {
     "name": "stdout",
     "output_type": "stream",
     "text": [
      "<class 'pandas.core.frame.DataFrame'>\n",
      "RangeIndex: 10 entries, 0 to 9\n",
      "Data columns (total 9 columns):\n",
      " #   Column     Non-Null Count  Dtype\n",
      "---  ------     --------------  -----\n",
      " 0   Gender     10 non-null     int32\n",
      " 1   Maths      10 non-null     int64\n",
      " 2   Physics    10 non-null     int64\n",
      " 3   Chemistry  10 non-null     int64\n",
      " 4   English    10 non-null     int64\n",
      " 5   Biology    10 non-null     int64\n",
      " 6   Economics  10 non-null     int64\n",
      " 7   History    10 non-null     int64\n",
      " 8   Civics     10 non-null     int64\n",
      "dtypes: int32(1), int64(8)\n",
      "memory usage: 808.0 bytes\n"
     ]
    }
   ],
   "source": [
    "labelencoder_studmarks.info()"
   ]
  },
  {
   "cell_type": "markdown",
   "metadata": {},
   "source": [
    "# Checking Correlation"
   ]
  },
  {
   "cell_type": "code",
   "execution_count": 24,
   "metadata": {},
   "outputs": [
    {
     "data": {
      "text/html": [
       "<div>\n",
       "<style scoped>\n",
       "    .dataframe tbody tr th:only-of-type {\n",
       "        vertical-align: middle;\n",
       "    }\n",
       "\n",
       "    .dataframe tbody tr th {\n",
       "        vertical-align: top;\n",
       "    }\n",
       "\n",
       "    .dataframe thead th {\n",
       "        text-align: right;\n",
       "    }\n",
       "</style>\n",
       "<table border=\"1\" class=\"dataframe\">\n",
       "  <thead>\n",
       "    <tr style=\"text-align: right;\">\n",
       "      <th></th>\n",
       "      <th>Gender</th>\n",
       "      <th>Maths</th>\n",
       "      <th>Physics</th>\n",
       "      <th>Chemistry</th>\n",
       "      <th>English</th>\n",
       "      <th>Biology</th>\n",
       "      <th>Economics</th>\n",
       "      <th>History</th>\n",
       "      <th>Civics</th>\n",
       "    </tr>\n",
       "  </thead>\n",
       "  <tbody>\n",
       "    <tr>\n",
       "      <th>Gender</th>\n",
       "      <td>1.000000</td>\n",
       "      <td>0.075832</td>\n",
       "      <td>-0.454052</td>\n",
       "      <td>0.158109</td>\n",
       "      <td>0.255257</td>\n",
       "      <td>-0.269398</td>\n",
       "      <td>-0.353067</td>\n",
       "      <td>-0.342774</td>\n",
       "      <td>0.020796</td>\n",
       "    </tr>\n",
       "    <tr>\n",
       "      <th>Maths</th>\n",
       "      <td>0.075832</td>\n",
       "      <td>1.000000</td>\n",
       "      <td>0.113354</td>\n",
       "      <td>0.076751</td>\n",
       "      <td>-0.064074</td>\n",
       "      <td>-0.146598</td>\n",
       "      <td>0.000312</td>\n",
       "      <td>-0.320846</td>\n",
       "      <td>-0.274629</td>\n",
       "    </tr>\n",
       "    <tr>\n",
       "      <th>Physics</th>\n",
       "      <td>-0.454052</td>\n",
       "      <td>0.113354</td>\n",
       "      <td>1.000000</td>\n",
       "      <td>0.117192</td>\n",
       "      <td>-0.562608</td>\n",
       "      <td>0.279638</td>\n",
       "      <td>0.191851</td>\n",
       "      <td>0.334082</td>\n",
       "      <td>-0.643266</td>\n",
       "    </tr>\n",
       "    <tr>\n",
       "      <th>Chemistry</th>\n",
       "      <td>0.158109</td>\n",
       "      <td>0.076751</td>\n",
       "      <td>0.117192</td>\n",
       "      <td>1.000000</td>\n",
       "      <td>-0.409680</td>\n",
       "      <td>0.318032</td>\n",
       "      <td>0.235390</td>\n",
       "      <td>-0.482710</td>\n",
       "      <td>0.210908</td>\n",
       "    </tr>\n",
       "    <tr>\n",
       "      <th>English</th>\n",
       "      <td>0.255257</td>\n",
       "      <td>-0.064074</td>\n",
       "      <td>-0.562608</td>\n",
       "      <td>-0.409680</td>\n",
       "      <td>1.000000</td>\n",
       "      <td>-0.330844</td>\n",
       "      <td>0.237577</td>\n",
       "      <td>-0.038775</td>\n",
       "      <td>0.186705</td>\n",
       "    </tr>\n",
       "    <tr>\n",
       "      <th>Biology</th>\n",
       "      <td>-0.269398</td>\n",
       "      <td>-0.146598</td>\n",
       "      <td>0.279638</td>\n",
       "      <td>0.318032</td>\n",
       "      <td>-0.330844</td>\n",
       "      <td>1.000000</td>\n",
       "      <td>0.370531</td>\n",
       "      <td>-0.456131</td>\n",
       "      <td>-0.330060</td>\n",
       "    </tr>\n",
       "    <tr>\n",
       "      <th>Economics</th>\n",
       "      <td>-0.353067</td>\n",
       "      <td>0.000312</td>\n",
       "      <td>0.191851</td>\n",
       "      <td>0.235390</td>\n",
       "      <td>0.237577</td>\n",
       "      <td>0.370531</td>\n",
       "      <td>1.000000</td>\n",
       "      <td>-0.164953</td>\n",
       "      <td>0.043905</td>\n",
       "    </tr>\n",
       "    <tr>\n",
       "      <th>History</th>\n",
       "      <td>-0.342774</td>\n",
       "      <td>-0.320846</td>\n",
       "      <td>0.334082</td>\n",
       "      <td>-0.482710</td>\n",
       "      <td>-0.038775</td>\n",
       "      <td>-0.456131</td>\n",
       "      <td>-0.164953</td>\n",
       "      <td>1.000000</td>\n",
       "      <td>-0.048686</td>\n",
       "    </tr>\n",
       "    <tr>\n",
       "      <th>Civics</th>\n",
       "      <td>0.020796</td>\n",
       "      <td>-0.274629</td>\n",
       "      <td>-0.643266</td>\n",
       "      <td>0.210908</td>\n",
       "      <td>0.186705</td>\n",
       "      <td>-0.330060</td>\n",
       "      <td>0.043905</td>\n",
       "      <td>-0.048686</td>\n",
       "      <td>1.000000</td>\n",
       "    </tr>\n",
       "  </tbody>\n",
       "</table>\n",
       "</div>"
      ],
      "text/plain": [
       "             Gender     Maths   Physics  Chemistry   English   Biology  \\\n",
       "Gender     1.000000  0.075832 -0.454052   0.158109  0.255257 -0.269398   \n",
       "Maths      0.075832  1.000000  0.113354   0.076751 -0.064074 -0.146598   \n",
       "Physics   -0.454052  0.113354  1.000000   0.117192 -0.562608  0.279638   \n",
       "Chemistry  0.158109  0.076751  0.117192   1.000000 -0.409680  0.318032   \n",
       "English    0.255257 -0.064074 -0.562608  -0.409680  1.000000 -0.330844   \n",
       "Biology   -0.269398 -0.146598  0.279638   0.318032 -0.330844  1.000000   \n",
       "Economics -0.353067  0.000312  0.191851   0.235390  0.237577  0.370531   \n",
       "History   -0.342774 -0.320846  0.334082  -0.482710 -0.038775 -0.456131   \n",
       "Civics     0.020796 -0.274629 -0.643266   0.210908  0.186705 -0.330060   \n",
       "\n",
       "           Economics   History    Civics  \n",
       "Gender     -0.353067 -0.342774  0.020796  \n",
       "Maths       0.000312 -0.320846 -0.274629  \n",
       "Physics     0.191851  0.334082 -0.643266  \n",
       "Chemistry   0.235390 -0.482710  0.210908  \n",
       "English     0.237577 -0.038775  0.186705  \n",
       "Biology     0.370531 -0.456131 -0.330060  \n",
       "Economics   1.000000 -0.164953  0.043905  \n",
       "History    -0.164953  1.000000 -0.048686  \n",
       "Civics      0.043905 -0.048686  1.000000  "
      ]
     },
     "execution_count": 24,
     "metadata": {},
     "output_type": "execute_result"
    }
   ],
   "source": [
    "dfcor=studmarks.corr()\n",
    "dfcor"
   ]
  },
  {
   "cell_type": "code",
   "execution_count": 25,
   "metadata": {},
   "outputs": [
    {
     "data": {
      "text/plain": [
       "<matplotlib.axes._subplots.AxesSubplot at 0x200ecb826c8>"
      ]
     },
     "execution_count": 25,
     "metadata": {},
     "output_type": "execute_result"
    },
    {
     "data": {
      "image/png": "[encoded data removed]",
      "text/plain": [
       "<Figure size 864x504 with 2 Axes>"
      ]
     },
     "metadata": {},
     "output_type": "display_data"
    }
   ],
   "source": [
    "# Generating Heatmap to check the correlation among the features\n",
    "plt.figure(figsize=(12,7))\n",
    "sns.heatmap(dfcor, cmap ='ocean_r', linewidths =2, fmt =\".2f\", annot = True)\n",
    "# darker colour represent positive correlation whereas lighter colour represent negative correlation"
   ]
  },
  {
   "cell_type": "markdown",
   "metadata": {},
   "source": [
    "# Plotting Outliers"
   ]
  },
  {
   "cell_type": "code",
   "execution_count": 26,
   "metadata": {},
   "outputs": [],
   "source": [
    "df_studmarks = labelencoder_studmarks"
   ]
  },
  {
   "cell_type": "code",
   "execution_count": 27,
   "metadata": {},
   "outputs": [
    {
     "name": "stdout",
     "output_type": "stream",
     "text": [
      "(10, 9)\n",
      "(10, 9)\n"
     ]
    }
   ],
   "source": [
    "# Lets check whether there are outliner present in the dataset \n",
    "\n",
    "from scipy.stats import zscore\n",
    "z_score=abs(zscore(df_studmarks))\n",
    "print(df_studmarks.shape)\n",
    "studmarks_df = df_studmarks.loc[(z_score<3).all(axis=1)]\n",
    "print(studmarks_df.shape)\n",
    "# thre are no outliner present"
   ]
  },
  {
   "cell_type": "markdown",
   "metadata": {},
   "source": [
    "# Ckecking if skewness is present"
   ]
  },
  {
   "cell_type": "code",
   "execution_count": 28,
   "metadata": {},
   "outputs": [
    {
     "data": {
      "text/plain": [
       "Gender       0.000000\n",
       "Maths        0.246964\n",
       "Physics     -0.045336\n",
       "Chemistry   -0.746462\n",
       "English     -0.131222\n",
       "Biology     -0.496446\n",
       "Economics   -0.245555\n",
       "History     -0.131222\n",
       "Civics      -1.332448\n",
       "dtype: float64"
      ]
     },
     "execution_count": 28,
     "metadata": {},
     "output_type": "execute_result"
    }
   ],
   "source": [
    "studmarks_df.skew()\n",
    "# Chemistry and civics reflect above normal negative skewness"
   ]
  },
  {
   "cell_type": "code",
   "execution_count": 29,
   "metadata": {},
   "outputs": [
    {
     "data": {
      "text/plain": [
       "<matplotlib.axes._subplots.AxesSubplot at 0x200ecb5e448>"
      ]
     },
     "execution_count": 29,
     "metadata": {},
     "output_type": "execute_result"
    },
    {
     "data": {
      "image/png": "[encoded data removed]",
      "text/plain": [
       "<Figure size 432x288 with 1 Axes>"
      ]
     },
     "metadata": {},
     "output_type": "display_data"
    }
   ],
   "source": [
    "# Graphical representation of Skewness\n",
    "sns.distplot(studmarks_df['Chemistry'])"
   ]
  },
  {
   "cell_type": "code",
   "execution_count": 30,
   "metadata": {},
   "outputs": [
    {
     "data": {
      "text/plain": [
       "<matplotlib.axes._subplots.AxesSubplot at 0x200ed0bc408>"
      ]
     },
     "execution_count": 30,
     "metadata": {},
     "output_type": "execute_result"
    },
    {
     "data": {
      "image/png": "[encoded data removed]",
      "text/plain": [
       "<Figure size 432x288 with 1 Axes>"
      ]
     },
     "metadata": {},
     "output_type": "display_data"
    }
   ],
   "source": [
    "# Graphical representation of skewness\n",
    "sns.distplot(studmarks_df['Civics'])"
   ]
  },
  {
   "cell_type": "code",
   "execution_count": 31,
   "metadata": {},
   "outputs": [
    {
     "data": {
      "text/plain": [
       "Gender       0.000000\n",
       "Maths        0.246964\n",
       "Physics     -0.045336\n",
       "Chemistry   -0.746462\n",
       "English     -0.131222\n",
       "Biology     -0.496446\n",
       "Economics   -0.245555\n",
       "History     -0.131222\n",
       "Civics      -1.332448\n",
       "dtype: float64"
      ]
     },
     "execution_count": 31,
     "metadata": {},
     "output_type": "execute_result"
    }
   ],
   "source": [
    "# Treating Skewness with log\n",
    "import numpy as np\n",
    "for col in studmarks_df.columns:\n",
    "    if studmarks_df.skew().loc[col]>0.55:\n",
    "        studmarks_df[col]=np.log1p(studmarks_df[col])\n",
    "        \n",
    "studmarks_df.skew()\n",
    "        "
   ]
  },
  {
   "cell_type": "code",
   "execution_count": 32,
   "metadata": {},
   "outputs": [
    {
     "data": {
      "text/plain": [
       "Gender       0.000000\n",
       "Maths       -0.678263\n",
       "Physics     -0.229791\n",
       "Chemistry   -0.859434\n",
       "English     -0.363196\n",
       "Biology     -0.990516\n",
       "Economics   -0.340842\n",
       "History     -0.363196\n",
       "Civics      -2.671509\n",
       "dtype: float64"
      ]
     },
     "execution_count": 32,
     "metadata": {},
     "output_type": "execute_result"
    }
   ],
   "source": [
    "# skewness still present, hence treating with square root transform\n",
    "\n",
    "list =['Gender','Maths', 'Physics', 'Chemistry', 'English','Biology', 'Economics', 'History', \n",
    "       'Civics']\n",
    "for i in list:\n",
    "    studmarks_df[i]=np.sqrt(np.sqrt(studmarks_df[i]))\n",
    "    \n",
    "studmarks_df.skew()"
   ]
  },
  {
   "cell_type": "code",
   "execution_count": 33,
   "metadata": {},
   "outputs": [
    {
     "data": {
      "text/html": [
       "<div>\n",
       "<style scoped>\n",
       "    .dataframe tbody tr th:only-of-type {\n",
       "        vertical-align: middle;\n",
       "    }\n",
       "\n",
       "    .dataframe tbody tr th {\n",
       "        vertical-align: top;\n",
       "    }\n",
       "\n",
       "    .dataframe thead th {\n",
       "        text-align: right;\n",
       "    }\n",
       "</style>\n",
       "<table border=\"1\" class=\"dataframe\">\n",
       "  <thead>\n",
       "    <tr style=\"text-align: right;\">\n",
       "      <th></th>\n",
       "      <th>Maths</th>\n",
       "      <th>Physics</th>\n",
       "      <th>Chemistry</th>\n",
       "      <th>English</th>\n",
       "      <th>Biology</th>\n",
       "      <th>Economics</th>\n",
       "      <th>History</th>\n",
       "      <th>Civics</th>\n",
       "    </tr>\n",
       "  </thead>\n",
       "  <tbody>\n",
       "    <tr>\n",
       "      <th>0</th>\n",
       "      <td>2.723270</td>\n",
       "      <td>2.590020</td>\n",
       "      <td>2.735565</td>\n",
       "      <td>3.054076</td>\n",
       "      <td>2.140695</td>\n",
       "      <td>2.685350</td>\n",
       "      <td>3.071479</td>\n",
       "      <td>2.839412</td>\n",
       "    </tr>\n",
       "    <tr>\n",
       "      <th>1</th>\n",
       "      <td>2.942831</td>\n",
       "      <td>3.130169</td>\n",
       "      <td>2.971828</td>\n",
       "      <td>2.828427</td>\n",
       "      <td>3.080070</td>\n",
       "      <td>2.794682</td>\n",
       "      <td>2.759669</td>\n",
       "      <td>1.189207</td>\n",
       "    </tr>\n",
       "    <tr>\n",
       "      <th>2</th>\n",
       "      <td>2.236068</td>\n",
       "      <td>2.710806</td>\n",
       "      <td>3.071479</td>\n",
       "      <td>2.952592</td>\n",
       "      <td>3.121986</td>\n",
       "      <td>3.054076</td>\n",
       "      <td>2.735565</td>\n",
       "      <td>2.932972</td>\n",
       "    </tr>\n",
       "  </tbody>\n",
       "</table>\n",
       "</div>"
      ],
      "text/plain": [
       "      Maths   Physics  Chemistry   English   Biology  Economics   History  \\\n",
       "0  2.723270  2.590020   2.735565  3.054076  2.140695   2.685350  3.071479   \n",
       "1  2.942831  3.130169   2.971828  2.828427  3.080070   2.794682  2.759669   \n",
       "2  2.236068  2.710806   3.071479  2.952592  3.121986   3.054076  2.735565   \n",
       "\n",
       "     Civics  \n",
       "0  2.839412  \n",
       "1  1.189207  \n",
       "2  2.932972  "
      ]
     },
     "execution_count": 33,
     "metadata": {},
     "output_type": "execute_result"
    }
   ],
   "source": [
    "# Seperating input and output variables\n",
    "# defining x and y variables\n",
    "x=studmarks_df.iloc[:,1:]\n",
    "x.head(3)"
   ]
  },
  {
   "cell_type": "code",
   "execution_count": 35,
   "metadata": {},
   "outputs": [
    {
     "data": {
      "text/html": [
       "<div>\n",
       "<style scoped>\n",
       "    .dataframe tbody tr th:only-of-type {\n",
       "        vertical-align: middle;\n",
       "    }\n",
       "\n",
       "    .dataframe tbody tr th {\n",
       "        vertical-align: top;\n",
       "    }\n",
       "\n",
       "    .dataframe thead th {\n",
       "        text-align: right;\n",
       "    }\n",
       "</style>\n",
       "<table border=\"1\" class=\"dataframe\">\n",
       "  <thead>\n",
       "    <tr style=\"text-align: right;\">\n",
       "      <th></th>\n",
       "      <th>Gender</th>\n",
       "    </tr>\n",
       "  </thead>\n",
       "  <tbody>\n",
       "    <tr>\n",
       "      <th>0</th>\n",
       "      <td>1.0</td>\n",
       "    </tr>\n",
       "    <tr>\n",
       "      <th>1</th>\n",
       "      <td>1.0</td>\n",
       "    </tr>\n",
       "    <tr>\n",
       "      <th>2</th>\n",
       "      <td>1.0</td>\n",
       "    </tr>\n",
       "  </tbody>\n",
       "</table>\n",
       "</div>"
      ],
      "text/plain": [
       "   Gender\n",
       "0     1.0\n",
       "1     1.0\n",
       "2     1.0"
      ]
     },
     "execution_count": 35,
     "metadata": {},
     "output_type": "execute_result"
    }
   ],
   "source": [
    "# defining y Variable\n",
    "y = studmarks_df.iloc[:,:1]\n",
    "y.head(3)"
   ]
  },
  {
   "cell_type": "code",
   "execution_count": 36,
   "metadata": {},
   "outputs": [
    {
     "data": {
      "text/plain": [
       "(10, 8)"
      ]
     },
     "execution_count": 36,
     "metadata": {},
     "output_type": "execute_result"
    }
   ],
   "source": [
    "x.shape"
   ]
  },
  {
   "cell_type": "code",
   "execution_count": 37,
   "metadata": {},
   "outputs": [
    {
     "data": {
      "text/plain": [
       "(10, 1)"
      ]
     },
     "execution_count": 37,
     "metadata": {},
     "output_type": "execute_result"
    }
   ],
   "source": [
    "y.shape"
   ]
  },
  {
   "cell_type": "code",
   "execution_count": 38,
   "metadata": {},
   "outputs": [],
   "source": [
    "# Data is ready for machine learning"
   ]
  },
  {
   "cell_type": "code",
   "execution_count": null,
   "metadata": {},
   "outputs": [],
   "source": []
  }
 ],
 "metadata": {
  "kernelspec": {
   "display_name": "Python 3",
   "language": "python",
   "name": "python3"
  },
  "language_info": {
   "codemirror_mode": {
    "name": "ipython",
    "version": 3
   },
   "file_extension": ".py",
   "mimetype": "text/x-python",
   "name": "python",
   "nbconvert_exporter": "python",
   "pygments_lexer": "ipython3",
   "version": "3.7.6"
  }
 },
 "nbformat": 4,
 "nbformat_minor": 4
}
